{
 "cells": [
  {
   "cell_type": "markdown",
   "metadata": {},
   "source": [
    "## **EDA Notebook**"
   ]
  },
  {
   "cell_type": "markdown",
   "metadata": {},
   "source": [
    "**IMPORTANT:** run `setup_data.py`"
   ]
  },
  {
   "cell_type": "code",
   "execution_count": null,
   "metadata": {},
   "outputs": [],
   "source": [
    "%load_ext autoreload\n",
    "%autoreload 2\n",
    "\n",
    "import numpy as np\n",
    "import pandas as pd\n",
    "import os\n",
    "\n",
    "\n",
    "import cv2\n",
    "import matplotlib.pyplot as plt\n",
    "from PIL import Image\n",
    "\n",
    "\n",
    "from utils.visualizations import plot_distribution_pie, plot_images_compare_magnification, check_image_resolutions\n",
    "from utils.preproc import preproc_pipeline"
   ]
  },
  {
   "cell_type": "code",
   "execution_count": null,
   "metadata": {},
   "outputs": [],
   "source": [
    "img_metadata_df = pd.read_csv('../image_metadata/image_data.csv')\n",
    "img_metadata_df.isnull().sum()"
   ]
  },
  {
   "cell_type": "code",
   "execution_count": null,
   "metadata": {},
   "outputs": [],
   "source": [
    "img_metadata_df.dropna(inplace=True)\n",
    "img_metadata_df.head(3)"
   ]
  },
  {
   "cell_type": "code",
   "execution_count": null,
   "metadata": {},
   "outputs": [],
   "source": [
    "img_metadata_df.isnull().sum()"
   ]
  },
  {
   "cell_type": "code",
   "execution_count": null,
   "metadata": {},
   "outputs": [],
   "source": [
    "def update_image_paths(metadata):\n",
    "    \n",
    "    def get_image_location(row):\n",
    "        \n",
    "        possible_locations = ['train', 'test', 'val']\n",
    "        for location in possible_locations:\n",
    "            full_path = os.path.join('..', 'data', row['Magnification'], location, row['image_name'])\n",
    "            if os.path.exists(full_path):\n",
    "                return location\n",
    "            \n",
    "        print(f\"WARNING: {row['image_name']} not found in any folder.\")\n",
    "        return \"NOT FOUND\"\n",
    "    \n",
    "    # These are temporary columns to help us find the new paths of the images\n",
    "    metadata['image_name'] = metadata['path_to_image'].apply(lambda x: os.path.basename(x))\n",
    "    metadata['image_location'] = metadata.apply(get_image_location, axis=1)\n",
    "    \n",
    "    # Update the paths to our new structure of folders\n",
    "    metadata['path_to_image'] = metadata.apply(\n",
    "        lambda row: os.path.join('..', 'data', row['Magnification'], row['image_location'], row['image_name']),\n",
    "        axis=1\n",
    "    )\n",
    "    \n",
    "    metadata.drop(columns=['image_name', 'image_location'], inplace=True)\n",
    "    return metadata\n",
    "\n",
    "\n",
    "img_metadata_df = update_image_paths(img_metadata_df)\n",
    "img_metadata_df.head(3)"
   ]
  },
  {
   "cell_type": "markdown",
   "metadata": {},
   "source": [
    "<i> The updated version of the image metadata csv files contains the actual image paths"
   ]
  },
  {
   "cell_type": "code",
   "execution_count": null,
   "metadata": {},
   "outputs": [],
   "source": [
    "# export the updated metadata\n",
    "#img_metadata_df.to_csv('../image_metadata/updated_image_data.csv', index=False)"
   ]
  },
  {
   "cell_type": "code",
   "execution_count": null,
   "metadata": {},
   "outputs": [],
   "source": [
    "grouped = img_metadata_df.groupby(\n",
    "    ['Benign or Malignant', 'Cancer Type', 'Magnification']\n",
    ").size().reset_index(name='Count')\n",
    "\n",
    "pivot_table = grouped.pivot_table(\n",
    "    index=['Benign or Malignant', 'Cancer Type'],\n",
    "    columns='Magnification',\n",
    "    values='Count',\n",
    "    aggfunc='sum',\n",
    "    fill_value=0\n",
    ")\n",
    "\n",
    "magnification_order = ['40X', '100X', '200X', '400X']\n",
    "pivot_table = pivot_table.reindex(columns=magnification_order, fill_value=0)\n",
    "\n",
    "pivot_table['Total'] = pivot_table.sum(axis=1)\n",
    "\n",
    "column_sub_totals_benign = pivot_table[:4].sum(axis=0)\n",
    "column_sub_totals_malignant = pivot_table[4:8].sum(axis=0)\n",
    "column_totals = pivot_table.sum(axis=0)\n",
    "\n",
    "pivot_table.loc[('Sub Total', 'Benign'), :] = column_sub_totals_benign\n",
    "pivot_table.loc[('Sub Total', 'Maligant'), :] = column_sub_totals_malignant\n",
    "pivot_table.loc[('Total', ''), :] = column_totals\n",
    "\n",
    "pivot_table = pivot_table.astype(int)\n",
    "pivot_table"
   ]
  },
  {
   "cell_type": "code",
   "execution_count": null,
   "metadata": {},
   "outputs": [],
   "source": [
    "plot_distribution_pie(img_metadata_df, 'Benign or Malignant')"
   ]
  },
  {
   "cell_type": "code",
   "execution_count": null,
   "metadata": {},
   "outputs": [],
   "source": [
    "plot_distribution_pie(img_metadata_df, 'Cancer Type')"
   ]
  },
  {
   "cell_type": "code",
   "execution_count": null,
   "metadata": {},
   "outputs": [],
   "source": [
    "resolutions = check_image_resolutions(img_metadata_df)\n",
    "resolutions_df = pd.DataFrame(resolutions, columns=['width', 'height'])\n",
    "print(\"\\nImage Resolutions:\\n\", resolutions_df.describe())"
   ]
  },
  {
   "cell_type": "code",
   "execution_count": null,
   "metadata": {},
   "outputs": [],
   "source": [
    "magnifications = ['40X', '100X', '200X', '400X']\n",
    "cancer_types = list(img_metadata_df['Cancer Type'].unique())\n",
    "            \n",
    "plot_images_compare_magnification(img_metadata_df, cancer_types, magnifications)"
   ]
  },
  {
   "cell_type": "code",
   "execution_count": null,
   "metadata": {},
   "outputs": [],
   "source": [
    "X_train, y_train, X_test, y_test, X_val, y_val = \\\n",
    "    preproc_pipeline(desired_magnification='40X', \n",
    "                     image_resolution=(224, 224),\n",
    "                     csv_path='../image_metadata/updated_image_data.csv', \n",
    "                     classification_type='binary')"
   ]
  },
  {
   "cell_type": "code",
   "execution_count": null,
   "metadata": {},
   "outputs": [],
   "source": [
    "X_train.shape, y_train.shape, X_test.shape, y_test.shape, X_val.shape, y_val.shape"
   ]
  },
  {
   "cell_type": "code",
   "execution_count": null,
   "metadata": {},
   "outputs": [],
   "source": [
    "# pqq tem uma diferenca de 1 entre o total de '40X' no pivot_table e o y_train.shape[0]?"
   ]
  }
 ],
 "metadata": {
  "kernelspec": {
   "display_name": "Python 3",
   "language": "python",
   "name": "python3"
  },
  "language_info": {
   "codemirror_mode": {
    "name": "ipython",
    "version": 3
   },
   "file_extension": ".py",
   "mimetype": "text/x-python",
   "name": "python",
   "nbconvert_exporter": "python",
   "pygments_lexer": "ipython3",
   "version": "3.11.1"
  }
 },
 "nbformat": 4,
 "nbformat_minor": 2
}
