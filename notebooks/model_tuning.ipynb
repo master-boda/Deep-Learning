{
 "cells": [
  {
   "cell_type": "markdown",
   "metadata": {},
   "source": [
    "## **Model Tuning Notebook**"
   ]
  },
  {
   "cell_type": "code",
   "execution_count": 1,
   "metadata": {},
   "outputs": [
    {
     "name": "stdout",
     "output_type": "stream",
     "text": [
      "Num GPUs Available:  1\n"
     ]
    }
   ],
   "source": [
    "from numba import cuda\n",
    "import tensorflow as tf\n",
    "\n",
    "def clear_gpu_memory():\n",
    "    device = cuda.get_current_device()\n",
    "    device.reset() # dump the memory contents to free up the memory (it accumulates over the session)\n",
    "    \n",
    "# CUDA (Nvidia GPU Computing)\n",
    "if len(tf.config.list_physical_devices('GPU')) > 0:\n",
    "    gpus = tf.config.list_physical_devices('GPU')\n",
    "    print(\"Num GPUs Available: \", len(gpus))\n",
    "    \n",
    "    clear_gpu_memory()\n",
    "    \n",
    "    tf.config.experimental.set_memory_growth(gpus[0], True)\n",
    "\n",
    "    tf.config.set_logical_device_configuration(\n",
    "    gpus[0], \n",
    "    [tf.config.LogicalDeviceConfiguration(memory_limit=8192)])  # limit to 4GB\n",
    "\n",
    "    tf.compat.v1.disable_eager_execution()\n"
   ]
  },
  {
   "cell_type": "code",
   "execution_count": 2,
   "metadata": {},
   "outputs": [],
   "source": [
    "%load_ext autoreload\n",
    "%autoreload 2\n",
    "\n",
    "import os\n",
    "import sys\n",
    "sys.path.append('../')\n",
    "\n",
    "from src.utils.modeling import *\n",
    "from src.utils.preproc import *\n",
    "\n",
    "from keras.models import Model, Sequential, load_model\n",
    "from keras.applications import VGG16\n",
    "from keras.layers import Dense, Flatten, Dropout\n",
    "from keras.optimizers import Adam\n",
    "\n",
    "from sklearn.metrics import classification_report"
   ]
  },
  {
   "cell_type": "code",
   "execution_count": 3,
   "metadata": {},
   "outputs": [
    {
     "name": "stdout",
     "output_type": "stream",
     "text": [
      "Project root: d:\\deep_learning_project CWD: d:\\deep_learning_project\n"
     ]
    }
   ],
   "source": [
    "# because the utils in the src are designed to be run from the root of the project,\n",
    "# and by default jupyter runs from the notebook directory we need to change the working directory to the root\n",
    "\n",
    "def find_project_root(filename=\".git\"): # .git is located in the root of the project\n",
    "    current_dir = os.getcwd()\n",
    "    while current_dir != os.path.dirname(current_dir): # stops only when at the root (moves up 1 level each iteration)\n",
    "        if filename in os.listdir(current_dir):\n",
    "            return current_dir\n",
    "        current_dir = os.path.dirname(current_dir)\n",
    "\n",
    "project_root = find_project_root()\n",
    "os.chdir(project_root)  # change the working directory to the project root\n",
    "\n",
    "print(\"Project root:\", project_root, \"CWD:\", os.getcwd())"
   ]
  },
  {
   "cell_type": "markdown",
   "metadata": {},
   "source": [
    "### **Binary Classification Models Fine-Tuning**"
   ]
  },
  {
   "cell_type": "markdown",
   "metadata": {},
   "source": [
    "#### **Traditional**"
   ]
  },
  {
   "cell_type": "markdown",
   "metadata": {},
   "source": [
    "#### **Pre-Trained**"
   ]
  },
  {
   "cell_type": "markdown",
   "metadata": {},
   "source": [
    "**VGG 16**"
   ]
  },
  {
   "cell_type": "code",
   "execution_count": 4,
   "metadata": {},
   "outputs": [],
   "source": [
    "def binary_classification_vgg16_model(input_shape):\n",
    "    \n",
    "    base_model = VGG16(weights='imagenet', include_top=False, input_shape=input_shape)\n",
    "    \n",
    "    # train some layers and freeze others\n",
    "    for layer in base_model.layers[:-7]:\n",
    "        layer.trainable = False\n",
    "    for layer in base_model.layers[-7:]:\n",
    "        layer.trainable = True\n",
    "\n",
    "    model = Sequential()\n",
    "    \n",
    "    model.add(base_model)\n",
    "    \n",
    "    model.add(Flatten())\n",
    "    \n",
    "    model.add(Dense(256, activation='relu'))\n",
    "    model.add(Dropout(0.5))\n",
    "    \n",
    "    model.add(Dense(1, activation='sigmoid'))\n",
    "    \n",
    "    # low learning rate for fine tuning\n",
    "    model.compile(optimizer=Adam(learning_rate=0.0001),\n",
    "                  loss='binary_crossentropy',\n",
    "                  metrics=['accuracy'])\n",
    "    \n",
    "    return model"
   ]
  },
  {
   "cell_type": "code",
   "execution_count": 5,
   "metadata": {},
   "outputs": [
    {
     "name": "stdout",
     "output_type": "stream",
     "text": [
      "Epoch 1/30\n",
      "606/606 [==============================] - ETA: 0s - batch: 302.5000 - size: 63.9125 - loss: 0.3881 - accuracy: 0.8250"
     ]
    },
    {
     "name": "stderr",
     "output_type": "stream",
     "text": [
      "c:\\Users\\vic\\miniconda3\\envs\\tf\\lib\\site-packages\\keras\\engine\\training_v1.py:2332: UserWarning: `Model.state_updates` will be removed in a future version. This property should not be used in TensorFlow 2.0, as `updates` are applied automatically.\n",
      "  updates = self.state_updates\n"
     ]
    },
    {
     "name": "stdout",
     "output_type": "stream",
     "text": [
      "606/606 [==============================] - 767s 1s/step - batch: 302.5000 - size: 63.9125 - loss: 0.3881 - accuracy: 0.8250 - val_loss: 0.2230 - val_accuracy: 0.9106\n",
      "Epoch 2/30\n",
      "606/606 [==============================] - 649s 1s/step - batch: 302.5000 - size: 63.9125 - loss: 0.2038 - accuracy: 0.9180 - val_loss: 0.1898 - val_accuracy: 0.9191\n",
      "Epoch 3/30\n",
      "606/606 [==============================] - 651s 1s/step - batch: 302.5000 - size: 63.9125 - loss: 0.1453 - accuracy: 0.9421 - val_loss: 0.1615 - val_accuracy: 0.9309\n",
      "Epoch 4/30\n",
      "606/606 [==============================] - 652s 1s/step - batch: 302.5000 - size: 63.9125 - loss: 0.1184 - accuracy: 0.9529 - val_loss: 0.1241 - val_accuracy: 0.9519\n",
      "Epoch 5/30\n",
      "606/606 [==============================] - 649s 1s/step - batch: 302.5000 - size: 63.9125 - loss: 0.1027 - accuracy: 0.9617 - val_loss: 0.2154 - val_accuracy: 0.9250\n",
      "Epoch 6/30\n",
      "606/606 [==============================] - 648s 1s/step - batch: 302.5000 - size: 63.9125 - loss: 0.0956 - accuracy: 0.9628 - val_loss: 0.2113 - val_accuracy: 0.9148\n",
      "Epoch 7/30\n",
      "606/606 [==============================] - 648s 1s/step - batch: 302.5000 - size: 63.9125 - loss: 0.0695 - accuracy: 0.9740 - val_loss: 0.0979 - val_accuracy: 0.9680\n",
      "Epoch 8/30\n",
      "606/606 [==============================] - 648s 1s/step - batch: 302.5000 - size: 63.9125 - loss: 0.0616 - accuracy: 0.9770 - val_loss: 0.1304 - val_accuracy: 0.9562\n",
      "Epoch 9/30\n",
      "606/606 [==============================] - 649s 1s/step - batch: 302.5000 - size: 63.9125 - loss: 0.0608 - accuracy: 0.9767 - val_loss: 0.1548 - val_accuracy: 0.9637\n",
      "Epoch 10/30\n",
      "606/606 [==============================] - 648s 1s/step - batch: 302.5000 - size: 63.9125 - loss: 0.0553 - accuracy: 0.9795 - val_loss: 0.1999 - val_accuracy: 0.9410\n",
      "Epoch 11/30\n",
      "606/606 [==============================] - 648s 1s/step - batch: 302.5000 - size: 63.9125 - loss: 0.0583 - accuracy: 0.9777 - val_loss: 0.2550 - val_accuracy: 0.9317\n",
      "Epoch 12/30\n",
      "606/606 [==============================] - 648s 1s/step - batch: 302.5000 - size: 63.9125 - loss: 0.0609 - accuracy: 0.9783 - val_loss: 0.1098 - val_accuracy: 0.9604\n",
      "Epoch 13/30\n",
      "606/606 [==============================] - 651s 1s/step - batch: 302.5000 - size: 63.9125 - loss: 0.0553 - accuracy: 0.9807 - val_loss: 0.2333 - val_accuracy: 0.9191\n",
      "Epoch 14/30\n",
      "606/606 [==============================] - 651s 1s/step - batch: 302.5000 - size: 63.9125 - loss: 0.0413 - accuracy: 0.9846 - val_loss: 0.1204 - val_accuracy: 0.9722\n",
      "Epoch 15/30\n",
      "606/606 [==============================] - 648s 1s/step - batch: 302.5000 - size: 63.9125 - loss: 0.0394 - accuracy: 0.9856 - val_loss: 0.1753 - val_accuracy: 0.9528\n"
     ]
    }
   ],
   "source": [
    "if len(tf.config.list_physical_devices('GPU')) > 0:\n",
    "    clear_gpu_memory()\n",
    "\n",
    "train_gen, val_gen, test_gen, class_weights = preproc_pipeline(image_resolution=(224, 224),  \n",
    "                                                    classification_type='binary',\n",
    "                                                    use_data_augmentation=True,\n",
    "                                                    augmented_images_per_image=6,\n",
    "                                                    batch_size=64)\n",
    "\n",
    "vgg16_binary = binary_classification_vgg16_model((224, 224, 3))\n",
    "\n",
    "fitted_vgg16_binary = train_model(train_gen, val_gen, vgg16_binary, class_weights=class_weights, epochs=30, early_stopping_patience=8)"
   ]
  },
  {
   "cell_type": "code",
   "execution_count": 9,
   "metadata": {},
   "outputs": [
    {
     "name": "stdout",
     "output_type": "stream",
     "text": [
      "Loading test data...\n",
      "Starting model evaluation...\n",
      "Total number of samples in the test generator: 1186\n"
     ]
    },
    {
     "name": "stderr",
     "output_type": "stream",
     "text": [
      "d:\\deep_learning_project\\notebooks\\..\\src\\utils\\modeling.py:80: UserWarning: `Model.predict_generator` is deprecated and will be removed in a future version. Please use `Model.predict`, which supports generators.\n",
      "  y_pred_prob = model.predict_generator(test_gen, steps=(total_samples // test_gen.batch_size) + 1) # +1 to account for remaining samples that don't make a full batch\n"
     ]
    },
    {
     "name": "stdout",
     "output_type": "stream",
     "text": [
      "\n",
      "Accuracy: 0.9359\n",
      "\n",
      "Classification Report:\n",
      "+-----------+-------------+----------+------------+-----------+\n",
      "| Class     |   Precision |   Recall |   F1-Score |   Support |\n",
      "+===========+=============+==========+============+===========+\n",
      "| Benign    |    0.845794 | 0.973118 |   0.905    |       372 |\n",
      "+-----------+-------------+----------+------------+-----------+\n",
      "| Malignant |    0.986807 | 0.918919 |   0.951654 |       814 |\n",
      "+-----------+-------------+----------+------------+-----------+\n",
      "\n",
      "Overall Metrics:\n",
      "+------------------------+----------+\n",
      "| Metric                 |    Value |\n",
      "+========================+==========+\n",
      "| Accuracy               | 0.935919 |\n",
      "+------------------------+----------+\n",
      "| Macro Avg Precision    | 0.916301 |\n",
      "+------------------------+----------+\n",
      "| Macro Avg Recall       | 0.946019 |\n",
      "+------------------------+----------+\n",
      "| Macro Avg F1-Score     | 0.928327 |\n",
      "+------------------------+----------+\n",
      "| Weighted Avg Precision | 0.942577 |\n",
      "+------------------------+----------+\n",
      "| Weighted Avg Recall    | 0.935919 |\n",
      "+------------------------+----------+\n",
      "| Weighted Avg F1-Score  | 0.93702  |\n",
      "+------------------------+----------+\n"
     ]
    },
    {
     "data": {
      "image/png": "[encoded data removed]",
      "text/plain": [
       "<Figure size 1000x700 with 2 Axes>"
      ]
     },
     "metadata": {},
     "output_type": "display_data"
    },
    {
     "name": "stdout",
     "output_type": "stream",
     "text": [
      "Plotted confusion matrix.\n",
      "Evaluation complete. Returning results.\n"
     ]
    },
    {
     "data": {
      "text/plain": [
       "{'accuracy': 0.9359190556492412,\n",
       " 'classification_report': {'Benign': {'precision': 0.8457943925233645,\n",
       "   'recall': 0.9731182795698925,\n",
       "   'f1-score': 0.905,\n",
       "   'support': 372.0},\n",
       "  'Malignant': {'precision': 0.9868073878627969,\n",
       "   'recall': 0.918918918918919,\n",
       "   'f1-score': 0.9516539440203562,\n",
       "   'support': 814.0},\n",
       "  'accuracy': 0.9359190556492412,\n",
       "  'macro avg': {'precision': 0.9163008901930807,\n",
       "   'recall': 0.9460185992444057,\n",
       "   'f1-score': 0.9283269720101781,\n",
       "   'support': 1186.0},\n",
       "  'weighted avg': {'precision': 0.9425773421070895,\n",
       "   'recall': 0.9359190556492412,\n",
       "   'f1-score': 0.9370204978352191,\n",
       "   'support': 1186.0}},\n",
       " 'confusion_matrix': array([[362,  10],\n",
       "        [ 66, 748]], dtype=int64)}"
      ]
     },
     "execution_count": 9,
     "metadata": {},
     "output_type": "execute_result"
    }
   ],
   "source": [
    "evaluate_model(fitted_vgg16_binary, classification_type='binary')"
   ]
  },
  {
   "cell_type": "code",
   "execution_count": 7,
   "metadata": {},
   "outputs": [],
   "source": [
    "save_model(fitted_vgg16_binary, 'src/models/vgg16_binary_classification.h5')"
   ]
  },
  {
   "cell_type": "markdown",
   "metadata": {},
   "source": [
    "<i> Data augmentation clearly improves the model's performance. </i>"
   ]
  },
  {
   "cell_type": "markdown",
   "metadata": {},
   "source": [
    "### **Multiclass Classification Models Fine-Tuning**"
   ]
  },
  {
   "cell_type": "markdown",
   "metadata": {},
   "source": [
    "#### **Traditional**"
   ]
  },
  {
   "cell_type": "markdown",
   "metadata": {},
   "source": [
    "#### **Pre-Trained**"
   ]
  },
  {
   "cell_type": "markdown",
   "metadata": {},
   "source": [
    "**VGG 16**"
   ]
  },
  {
   "cell_type": "code",
   "execution_count": null,
   "metadata": {},
   "outputs": [],
   "source": [
    "def multiclass_classification_vgg16_model(input_shape):\n",
    "    \n",
    "    base_model = VGG16(weights='imagenet', include_top=False, input_shape=input_shape)\n",
    "    \n",
    "    # train some layers and freeze others\n",
    "    for layer in base_model.layers[:-7]:\n",
    "        layer.trainable = False\n",
    "    for layer in base_model.layers[-7:]:\n",
    "        layer.trainable = True\n",
    "\n",
    "    model = Sequential()\n",
    "    \n",
    "    model.add(base_model)\n",
    "    \n",
    "    model.add(Flatten())\n",
    "    \n",
    "    model.add(Dense(256, activation='relu'))\n",
    "    model.add(Dropout(0.5))\n",
    "    \n",
    "    model.add(Dense(8, activation='softmax'))\n",
    "    \n",
    "    # low learning rate for fine tuning\n",
    "    model.compile(optimizer=Adam(learning_rate=0.0001),\n",
    "                  loss='sparse_categorical_crossentropy',\n",
    "                  metrics=['accuracy'])\n",
    "    \n",
    "    return model"
   ]
  },
  {
   "cell_type": "code",
   "execution_count": null,
   "metadata": {},
   "outputs": [],
   "source": [
    "train_gen, val_gen, test_gen, class_weights = preproc_pipeline(desired_magnification='200X', \n",
    "                                                    image_resolution=(224, 224), \n",
    "                                                    classification_type='multiclass',\n",
    "                                                    use_data_augmentation=True,\n",
    "                                                    augmented_images_per_image=6)\n",
    "\n",
    "vgg16 = multiclass_classification_vgg16_model((224, 224, 3))\n",
    "\n",
    "fitted_vgg16 = train_model(train_gen, val_gen, vgg16, class_weights=class_weights, epochs=30, early_stopping_patience=5)"
   ]
  }
 ],
 "metadata": {
  "kernelspec": {
   "display_name": "tf",
   "language": "python",
   "name": "python3"
  },
  "language_info": {
   "codemirror_mode": {
    "name": "ipython",
    "version": 3
   },
   "file_extension": ".py",
   "mimetype": "text/x-python",
   "name": "python",
   "nbconvert_exporter": "python",
   "pygments_lexer": "ipython3",
   "version": "3.9.20"
  }
 },
 "nbformat": 4,
 "nbformat_minor": 2
}
