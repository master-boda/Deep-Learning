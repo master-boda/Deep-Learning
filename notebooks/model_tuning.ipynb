{
 "cells": [
  {
   "cell_type": "markdown",
   "metadata": {},
   "source": [
    "## **Model Tuning Notebook**"
   ]
  },
  {
   "cell_type": "code",
   "execution_count": 1,
   "metadata": {},
   "outputs": [
    {
     "name": "stdout",
     "output_type": "stream",
     "text": [
      "Num GPUs Available:  1\n"
     ]
    }
   ],
   "source": [
    "from numba import cuda\n",
    "import tensorflow as tf\n",
    "\n",
    "def clear_gpu_memory():\n",
    "    device = cuda.get_current_device()\n",
    "    device.reset() # dump the memory contents to free up the memory (it accumulates over the session)\n",
    "    \n",
    "# CUDA (Nvidia GPU Computing)\n",
    "if len(tf.config.list_physical_devices('GPU')) > 0:\n",
    "    gpus = tf.config.list_physical_devices('GPU')\n",
    "    print(\"Num GPUs Available: \", len(gpus))\n",
    "    \n",
    "    clear_gpu_memory()\n",
    "    \n",
    "    tf.config.experimental.set_memory_growth(gpus[0], True)\n",
    "\n",
    "    tf.config.set_logical_device_configuration(\n",
    "    gpus[0], \n",
    "    [tf.config.LogicalDeviceConfiguration(memory_limit=8192)])  # limit to 4GB\n",
    "\n",
    "    tf.compat.v1.disable_eager_execution()\n"
   ]
  },
  {
   "cell_type": "code",
   "execution_count": 2,
   "metadata": {},
   "outputs": [
    {
     "name": "stdout",
     "output_type": "stream",
     "text": [
      "Project root: d:\\deep_learning_project CWD: d:\\deep_learning_project\n"
     ]
    }
   ],
   "source": [
    "# because the utils in the src are designed to be run from the root of the project,\n",
    "# and by default jupyter runs from the notebook directory we need to change the working directory to the root\n",
    "\n",
    "import os\n",
    "import sys\n",
    "sys.path.append('../')\n",
    "\n",
    "def find_project_root(filename=\".git\"): # .git is located in the root of the project\n",
    "    current_dir = os.getcwd()\n",
    "    while current_dir != os.path.dirname(current_dir): # stops only when at the root (moves up 1 level each iteration)\n",
    "        if filename in os.listdir(current_dir):\n",
    "            return current_dir\n",
    "        current_dir = os.path.dirname(current_dir)\n",
    "\n",
    "project_root = find_project_root()\n",
    "os.chdir(project_root)  # change the working directory to the project root\n",
    "\n",
    "print(\"Project root:\", project_root, \"CWD:\", os.getcwd())"
   ]
  },
  {
   "cell_type": "code",
   "execution_count": 3,
   "metadata": {},
   "outputs": [
    {
     "name": "stderr",
     "output_type": "stream",
     "text": [
      "C:\\Users\\vic\\AppData\\Local\\Temp\\ipykernel_40096\\50664938.py:4: DeprecationWarning: `import kerastuner` is deprecated, please use `import keras_tuner`.\n",
      "  import kerastuner as kt\n"
     ]
    }
   ],
   "source": [
    "%load_ext autoreload\n",
    "%autoreload 2\n",
    "\n",
    "import kerastuner as kt\n",
    "\n",
    "from src.utils.modeling import *\n",
    "from src.utils.preproc import *\n",
    "from src.utils.visualizations import *\n",
    "\n",
    "from keras.models import Model, Sequential, load_model\n",
    "from keras.applications import VGG16, InceptionV3\n",
    "from keras.layers import Dense, Flatten, Dropout, GlobalAveragePooling2D, Conv2D, MaxPooling2D\n",
    "from keras.optimizers import Adam\n",
    "from keras.callbacks import ReduceLROnPlateau, EarlyStopping\n",
    "\n",
    "from sklearn.metrics import classification_report"
   ]
  },
  {
   "cell_type": "markdown",
   "metadata": {},
   "source": [
    "### **Binary Classification Models Fine-Tuning**"
   ]
  },
  {
   "cell_type": "markdown",
   "metadata": {},
   "source": [
    "#### **Sequential**"
   ]
  },
  {
   "cell_type": "code",
   "execution_count": null,
   "metadata": {},
   "outputs": [],
   "source": [
    "reduce_lr = ReduceLROnPlateau(monitor='val_loss', factor=0.1, patience=2, min_lr=1e-7)\n",
    "early_stopping = EarlyStopping(monitor='val_loss', patience=5, restore_best_weights=True)\n",
    "callbacks = [reduce_lr, early_stopping]\n",
    "\n",
    "tuner = kt.Hyperband(\n",
    "    keras_tuning_model_builder,\n",
    "    objective='val_loss',\n",
    "    max_epochs=10,\n",
    "    factor=2,\n",
    "    directory='hyperband_logs',\n",
    "    project_name='binary_breast_cancer_cnn',\n",
    ")\n",
    "\n",
    "train_gen, val_gen, test_gen, class_weights, steps_per_epoch = preproc_pipeline(\n",
    "    image_resolution=(224, 224),\n",
    "    classification_type='binary',\n",
    "    csv_path='image_metadata/updated_image_data.csv',\n",
    "    use_data_augmentation=False,\n",
    "    augmented_images_per_image=5,\n",
    "    batch_size=32\n",
    ")\n",
    "\n",
    "tuner.search(train_gen, validation_data=val_gen, epochs=10, callbacks=callbacks)"
   ]
  },
  {
   "cell_type": "markdown",
   "metadata": {},
   "source": [
    "#### **Transfer Learning**"
   ]
  },
  {
   "cell_type": "markdown",
   "metadata": {},
   "source": [
    "**VGG 16**"
   ]
  },
  {
   "cell_type": "code",
   "execution_count": 7,
   "metadata": {},
   "outputs": [],
   "source": [
    "def binary_classification_vgg16_model(input_shape=(224, 224, 3), trainable_layers=10, learning_rate=0.0001):\n",
    "    \n",
    "    base_model = VGG16(weights='imagenet', include_top=False, input_shape=input_shape)\n",
    "    \n",
    "    # train some layers and freeze others\n",
    "    for layer in base_model.layers[:-trainable_layers]:\n",
    "        layer.trainable = False\n",
    "    for layer in base_model.layers[-trainable_layers:]:\n",
    "        layer.trainable = True\n",
    "\n",
    "    model = Sequential()\n",
    "    \n",
    "    model.add(base_model)\n",
    "    \n",
    "    model.add(Flatten())\n",
    "    \n",
    "    model.add(Dense(256, activation='relu'))\n",
    "    model.add(Dropout(0.5))\n",
    "    \n",
    "    model.add(Dense(1, activation='sigmoid'))\n",
    "    \n",
    "    # low learning rate for fine tuning\n",
    "    model.compile(optimizer=Adam(learning_rate=learning_rate),\n",
    "                  loss='binary_crossentropy',\n",
    "                  metrics=['accuracy'])\n",
    "    \n",
    "    return model"
   ]
  },
  {
   "cell_type": "code",
   "execution_count": 8,
   "metadata": {},
   "outputs": [
    {
     "name": "stdout",
     "output_type": "stream",
     "text": [
      "Loading and preprocessing data...\n",
      "Total training images after augmentation: 33198\n",
      "Class weights computed.\n",
      "Data generators created.\n",
      "Epoch 1/10\n",
      "860/860 [==============================] - ETA: 0s - batch: 429.5000 - size: 31.9826 - loss: 0.4522 - accuracy: 0.7839"
     ]
    },
    {
     "name": "stderr",
     "output_type": "stream",
     "text": [
      "c:\\Users\\vic\\miniconda3\\envs\\tf\\lib\\site-packages\\keras\\engine\\training_v1.py:2332: UserWarning: `Model.state_updates` will be removed in a future version. This property should not be used in TensorFlow 2.0, as `updates` are applied automatically.\n",
      "  updates = self.state_updates\n"
     ]
    },
    {
     "name": "stdout",
     "output_type": "stream",
     "text": [
      "860/860 [==============================] - 528s 595ms/step - batch: 429.5000 - size: 31.9826 - loss: 0.4522 - accuracy: 0.7839 - val_loss: 0.3988 - val_accuracy: 0.8516 - lr: 1.0000e-04\n",
      "Epoch 2/10\n",
      "860/860 [==============================] - 584s 679ms/step - batch: 429.5000 - size: 31.9826 - loss: 0.2203 - accuracy: 0.9131 - val_loss: 0.1514 - val_accuracy: 0.9401 - lr: 1.0000e-04\n",
      "Epoch 3/10\n",
      "860/860 [==============================] - 514s 597ms/step - batch: 429.5000 - size: 31.9826 - loss: 0.1701 - accuracy: 0.9322 - val_loss: 0.1296 - val_accuracy: 0.9469 - lr: 1.0000e-04\n",
      "Epoch 4/10\n",
      "860/860 [==============================] - 631s 733ms/step - batch: 429.5000 - size: 31.9860 - loss: 0.1352 - accuracy: 0.9460 - val_loss: 0.1589 - val_accuracy: 0.9376 - lr: 1.0000e-04\n",
      "Epoch 5/10\n",
      "860/860 [==============================] - 718s 834ms/step - batch: 429.5000 - size: 31.9791 - loss: 0.1035 - accuracy: 0.9583 - val_loss: 0.0914 - val_accuracy: 0.9646 - lr: 1.0000e-04\n",
      "Epoch 6/10\n",
      "860/860 [==============================] - 674s 783ms/step - batch: 429.5000 - size: 31.9826 - loss: 0.0958 - accuracy: 0.9628 - val_loss: 0.1419 - val_accuracy: 0.9477 - lr: 1.0000e-04\n",
      "Epoch 7/10\n",
      "860/860 [==============================] - 737s 856ms/step - batch: 429.5000 - size: 31.9826 - loss: 0.0857 - accuracy: 0.9681 - val_loss: 0.1332 - val_accuracy: 0.9528 - lr: 1.0000e-04\n",
      "Epoch 8/10\n",
      "860/860 [==============================] - 699s 809ms/step - batch: 429.5000 - size: 31.9860 - loss: 0.0262 - accuracy: 0.9908 - val_loss: 0.0824 - val_accuracy: 0.9781 - lr: 1.0000e-05\n",
      "Epoch 9/10\n",
      "860/860 [==============================] - 711s 822ms/step - batch: 429.5000 - size: 31.9791 - loss: 0.0158 - accuracy: 0.9944 - val_loss: 0.0861 - val_accuracy: 0.9806 - lr: 1.0000e-05\n",
      "Epoch 10/10\n",
      "860/860 [==============================] - 618s 718ms/step - batch: 429.5000 - size: 31.9826 - loss: 0.0157 - accuracy: 0.9944 - val_loss: 0.0861 - val_accuracy: 0.9806 - lr: 1.0000e-05\n"
     ]
    }
   ],
   "source": [
    "train_gen, val_gen, test_gen, class_weights, steps_per_epoch = preproc_pipeline(image_resolution=(224, 224),  \n",
    "                                                    classification_type='binary',\n",
    "                                                    use_data_augmentation=True,\n",
    "                                                    augmented_images_per_image=5,\n",
    "                                                    batch_size=32)\n",
    "\n",
    "vgg16_binary = binary_classification_vgg16_model()\n",
    "\n",
    "reduce_lr = ReduceLROnPlateau(monitor='val_loss', factor=0.1, patience=2, min_lr=1e-7)\n",
    "early_stopping = EarlyStopping(monitor='val_loss', patience=5, restore_best_weights=True)\n",
    "callbacks = [reduce_lr, early_stopping]\n",
    "    \n",
    "\n",
    "fitted_vgg16_binary = train_model(train_gen, val_gen, vgg16_binary, callbacks=callbacks, class_weights=class_weights, epochs=10, steps_per_epoch=steps_per_epoch)"
   ]
  },
  {
   "cell_type": "code",
   "execution_count": 17,
   "metadata": {},
   "outputs": [],
   "source": [
    "save_model(fitted_vgg16_binary, 'src/models/VGG16_binary')\n",
    "save_training_history(fitted_vgg16_binary, 'src/models/VGG16_binary')"
   ]
  },
  {
   "cell_type": "code",
   "execution_count": 20,
   "metadata": {},
   "outputs": [
    {
     "name": "stdout",
     "output_type": "stream",
     "text": [
      "Loading test data...\n",
      "Loading and preprocessing data...\n",
      "Total training images (no augmentation): 5533\n",
      "Class weights computed.\n",
      "Data generators created.\n",
      "Starting model evaluation...\n",
      "Total number of samples in the test generator: 1186\n"
     ]
    },
    {
     "name": "stderr",
     "output_type": "stream",
     "text": [
      "d:\\deep_learning_project\\src\\utils\\modeling.py:102: UserWarning: `Model.predict_generator` is deprecated and will be removed in a future version. Please use `Model.predict`, which supports generators.\n",
      "  # select the appropriate class names based on the classification type\n",
      "c:\\Users\\vic\\miniconda3\\envs\\tf\\lib\\site-packages\\keras\\engine\\training_v1.py:2356: UserWarning: `Model.state_updates` will be removed in a future version. This property should not be used in TensorFlow 2.0, as `updates` are applied automatically.\n",
      "  updates=self.state_updates,\n"
     ]
    },
    {
     "name": "stdout",
     "output_type": "stream",
     "text": [
      "\n",
      "Accuracy: 0.9848\n",
      "\n",
      "Classification Report:\n",
      "+-----------+-------------+----------+------------+-----------+\n",
      "| Class     |   Precision |   Recall |   F1-Score |   Support |\n",
      "+===========+=============+==========+============+===========+\n",
      "| Benign    |    0.973262 | 0.978495 |   0.975871 |       372 |\n",
      "+-----------+-------------+----------+------------+-----------+\n",
      "| Malignant |    0.990148 | 0.987715 |   0.98893  |       814 |\n",
      "+-----------+-------------+----------+------------+-----------+\n",
      "\n",
      "Overall Metrics:\n",
      "+------------------------+----------+\n",
      "| Metric                 |    Value |\n",
      "+========================+==========+\n",
      "| Accuracy               | 0.984823 |\n",
      "+------------------------+----------+\n",
      "| Macro Avg Precision    | 0.981705 |\n",
      "+------------------------+----------+\n",
      "| Macro Avg Recall       | 0.983105 |\n",
      "+------------------------+----------+\n",
      "| Macro Avg F1-Score     | 0.982401 |\n",
      "+------------------------+----------+\n",
      "| Weighted Avg Precision | 0.984851 |\n",
      "+------------------------+----------+\n",
      "| Weighted Avg Recall    | 0.984823 |\n",
      "+------------------------+----------+\n",
      "| Weighted Avg F1-Score  | 0.984834 |\n",
      "+------------------------+----------+\n",
      "\n",
      "Confusion Matrix:\n"
     ]
    },
    {
     "data": {
      "image/png": "[encoded data removed]",
      "text/plain": [
       "<Figure size 1000x700 with 2 Axes>"
      ]
     },
     "metadata": {},
     "output_type": "display_data"
    },
    {
     "name": "stdout",
     "output_type": "stream",
     "text": [
      "Evaluation complete. Returning results.\n"
     ]
    },
    {
     "data": {
      "text/plain": [
       "{'accuracy': 0.984822934232715,\n",
       " 'classification_report': {'Benign': {'precision': 0.9732620320855615,\n",
       "   'recall': 0.978494623655914,\n",
       "   'f1-score': 0.9758713136729222,\n",
       "   'support': 372.0},\n",
       "  'Malignant': {'precision': 0.9901477832512315,\n",
       "   'recall': 0.9877149877149877,\n",
       "   'f1-score': 0.988929889298893,\n",
       "   'support': 814.0},\n",
       "  'accuracy': 0.984822934232715,\n",
       "  'macro avg': {'precision': 0.9817049076683966,\n",
       "   'recall': 0.9831048056854508,\n",
       "   'f1-score': 0.9824006014859077,\n",
       "   'support': 1186.0},\n",
       "  'weighted avg': {'precision': 0.9848514093611562,\n",
       "   'recall': 0.984822934232715,\n",
       "   'f1-score': 0.9848339448361096,\n",
       "   'support': 1186.0}},\n",
       " 'confusion_matrix': array([[364,   8],\n",
       "        [ 10, 804]], dtype=int64)}"
      ]
     },
     "execution_count": 20,
     "metadata": {},
     "output_type": "execute_result"
    }
   ],
   "source": [
    "fitted_vgg16_binary = load_model('src\\models\\VGG16_binary\\saved_model.h5')\n",
    "evaluate_model(fitted_vgg16_binary, classification_type='binary')"
   ]
  },
  {
   "cell_type": "markdown",
   "metadata": {},
   "source": [
    "**InceptionV3**"
   ]
  },
  {
   "cell_type": "code",
   "execution_count": 4,
   "metadata": {},
   "outputs": [],
   "source": [
    "def binary_classification_inceptionv3_model(input_shape=(224, 224, 3), trainable_layers=200, learning_rate=0.0001):\n",
    "    \n",
    "    base_model = InceptionV3(weights='imagenet', include_top=False, input_shape=input_shape)\n",
    "    \n",
    "    # train some layers and freeze others\n",
    "    for layer in base_model.layers[:-trainable_layers]:\n",
    "        layer.trainable = False\n",
    "    for layer in base_model.layers[-trainable_layers:]:\n",
    "        layer.trainable = True\n",
    "\n",
    "    model = Sequential()\n",
    "    \n",
    "    model.add(base_model)\n",
    "    \n",
    "    model.add(GlobalAveragePooling2D())\n",
    "    \n",
    "    model.add(Dense(1024, activation='relu'))\n",
    "    \n",
    "    model.add(Dense(1, activation='sigmoid'))\n",
    "    \n",
    "    # low learning rate for fine tuning\n",
    "    model.compile(optimizer=Adam(learning_rate=learning_rate),\n",
    "                  loss='binary_crossentropy',\n",
    "                  metrics=['accuracy'])\n",
    "    \n",
    "    return model"
   ]
  },
  {
   "cell_type": "code",
   "execution_count": null,
   "metadata": {},
   "outputs": [],
   "source": [
    "train_gen, val_gen, test_gen, class_weights, steps_per_epoch = preproc_pipeline(image_resolution=(224, 224),  \n",
    "                                                    classification_type='binary',\n",
    "                                                    use_data_augmentation=True,\n",
    "                                                    augmented_images_per_image=5,\n",
    "                                                    batch_size=32)\n",
    "\n",
    "inceptionv3_binary = binary_classification_inceptionv3_model()\n",
    "\n",
    "reduce_lr = ReduceLROnPlateau(monitor='val_loss', factor=0.1, patience=3, min_lr=1e-7)\n",
    "early_stopping = EarlyStopping(monitor='val_loss', patience=10, restore_best_weights=True)\n",
    "callbacks = [reduce_lr, early_stopping]\n",
    "    \n",
    "\n",
    "fitted_inceptionv3_binary = train_model(train_gen, val_gen, inceptionv3_binary, callbacks=callbacks, class_weights=class_weights, epochs=40, steps_per_epoch=steps_per_epoch)"
   ]
  },
  {
   "cell_type": "markdown",
   "metadata": {},
   "source": [
    "### **Multiclass Classification Models Fine-Tuning**"
   ]
  },
  {
   "cell_type": "markdown",
   "metadata": {},
   "source": [
    "#### **Sequential**"
   ]
  },
  {
   "cell_type": "code",
   "execution_count": null,
   "metadata": {},
   "outputs": [],
   "source": [
    "reduce_lr = ReduceLROnPlateau(monitor='val_loss', factor=0.1, patience=2, min_lr=1e-7)\n",
    "early_stopping = EarlyStopping(monitor='val_loss', patience=5, restore_best_weights=True)\n",
    "callbacks = [reduce_lr, early_stopping]\n",
    "\n",
    "tuner = kt.Hyperband(\n",
    "    keras_tuning_model_builder,\n",
    "    objective='val_loss',\n",
    "    max_epochs=10,\n",
    "    factor=2,\n",
    "    directory='hyperband_logs',\n",
    "    project_name='multiclass_breast_cancer_cnn',\n",
    ")\n",
    "\n",
    "train_gen, val_gen, test_gen, class_weights, steps_per_epoch = preproc_pipeline(\n",
    "    image_resolution=(224, 224),\n",
    "    classification_type='multiclass',\n",
    "    csv_path='image_metadata/updated_image_data.csv',\n",
    "    use_data_augmentation=True,\n",
    "    augmented_images_per_image=5,\n",
    "    batch_size=32\n",
    ")\n",
    "tuner.search(train_gen, validation_data=val_gen, epochs=10, callbacks=callbacks)"
   ]
  },
  {
   "cell_type": "markdown",
   "metadata": {},
   "source": [
    "#### **Transfer Learning**"
   ]
  },
  {
   "cell_type": "markdown",
   "metadata": {},
   "source": [
    "**VGG 16**"
   ]
  },
  {
   "cell_type": "code",
   "execution_count": 4,
   "metadata": {},
   "outputs": [],
   "source": [
    "def multiclass_classification_vgg16_model(input_shape=(224, 224, 3), trainable_layers=10):\n",
    "    \n",
    "    base_model = VGG16(weights='imagenet', include_top=False, input_shape=input_shape)\n",
    "    \n",
    "    # train some layers and freeze others\n",
    "    for layer in base_model.layers[:-trainable_layers]:\n",
    "        layer.trainable = False\n",
    "    for layer in base_model.layers[-trainable_layers:]:\n",
    "        layer.trainable = True\n",
    "\n",
    "    model = Sequential()\n",
    "    \n",
    "    model.add(base_model)\n",
    "    \n",
    "    model.add(Flatten())\n",
    "    \n",
    "    model.add(Dense(256, activation='relu'))\n",
    "    model.add(Dropout(0.5))\n",
    "    \n",
    "    model.add(Dense(8, activation='softmax'))\n",
    "    \n",
    "    # low learning rate for fine tuning\n",
    "    model.compile(optimizer=Adam(learning_rate=0.0001),\n",
    "                  loss='sparse_categorical_crossentropy',\n",
    "                  metrics=['accuracy'])\n",
    "    \n",
    "    return model"
   ]
  },
  {
   "cell_type": "code",
   "execution_count": null,
   "metadata": {},
   "outputs": [
    {
     "name": "stdout",
     "output_type": "stream",
     "text": [
      "Loading and preprocessing data...\n",
      "Total training images after augmentation: 33198\n",
      "Class weights computed.\n",
      "Data generators created.\n",
      "Epoch 1/10\n",
      "860/860 [==============================] - ETA: 0s - batch: 429.5000 - size: 31.9826 - loss: 1.9470 - accuracy: 0.1746"
     ]
    },
    {
     "name": "stderr",
     "output_type": "stream",
     "text": [
      "c:\\Users\\vic\\miniconda3\\envs\\tf\\lib\\site-packages\\keras\\engine\\training_v1.py:2332: UserWarning: `Model.state_updates` will be removed in a future version. This property should not be used in TensorFlow 2.0, as `updates` are applied automatically.\n",
      "  updates = self.state_updates\n"
     ]
    },
    {
     "name": "stdout",
     "output_type": "stream",
     "text": [
      "860/860 [==============================] - 581s 628ms/step - batch: 429.5000 - size: 31.9826 - loss: 1.9470 - accuracy: 0.1746 - val_loss: 1.5323 - val_accuracy: 0.2723 - lr: 1.0000e-04\n",
      "Epoch 2/10\n",
      "860/860 [==============================] - 500s 581ms/step - batch: 429.5000 - size: 31.9826 - loss: 1.3663 - accuracy: 0.4392 - val_loss: 1.0871 - val_accuracy: 0.5506 - lr: 1.0000e-04\n",
      "Epoch 3/10\n",
      "860/860 [==============================] - 500s 581ms/step - batch: 429.5000 - size: 31.9826 - loss: 0.9650 - accuracy: 0.5908 - val_loss: 0.8301 - val_accuracy: 0.6669 - lr: 1.0000e-04\n",
      "Epoch 4/10\n",
      "860/860 [==============================] - 501s 582ms/step - batch: 429.5000 - size: 31.9826 - loss: 0.7203 - accuracy: 0.6730 - val_loss: 0.7425 - val_accuracy: 0.7007 - lr: 1.0000e-04\n",
      "Epoch 5/10\n",
      "860/860 [==============================] - 501s 583ms/step - batch: 429.5000 - size: 31.9826 - loss: 0.5401 - accuracy: 0.7387 - val_loss: 0.7201 - val_accuracy: 0.7445 - lr: 1.0000e-04\n",
      "Epoch 6/10\n",
      "860/860 [==============================] - 796s 925ms/step - batch: 429.5000 - size: 31.9860 - loss: 0.4317 - accuracy: 0.7853 - val_loss: 1.0718 - val_accuracy: 0.7234 - lr: 1.0000e-04\n",
      "Epoch 7/10\n",
      "860/860 [==============================] - 954s 1s/step - batch: 429.5000 - size: 31.9791 - loss: 0.3566 - accuracy: 0.8199 - val_loss: 0.7518 - val_accuracy: 0.7926 - lr: 1.0000e-04\n",
      "Epoch 8/10\n",
      "860/860 [==============================] - 938s 1s/step - batch: 429.5000 - size: 31.9826 - loss: 0.2929 - accuracy: 0.8481 - val_loss: 0.6820 - val_accuracy: 0.7934 - lr: 1.0000e-04\n",
      "Epoch 9/10\n",
      "  3/860 [..............................] - ETA: 16:06 - batch: 1.0000 - size: 32.0000 - loss: 0.4171 - accuracy: 0.8958   "
     ]
    }
   ],
   "source": [
    "train_gen, val_gen, test_gen, class_weights, steps_per_epoch = preproc_pipeline(image_resolution=(224, 224), \n",
    "                                                    classification_type='multiclass',\n",
    "                                                    use_data_augmentation=True,\n",
    "                                                    augmented_images_per_image=5,\n",
    "                                                    batch_size=32)\n",
    "                                                    \n",
    "vgg16_multiclass = multiclass_classification_vgg16_model()\n",
    "\n",
    "reduce_lr = ReduceLROnPlateau(monitor='val_loss', factor=0.1, patience=3, min_lr=1e-7)\n",
    "early_stopping = EarlyStopping(monitor='val_loss', patience=10, restore_best_weights=True)\n",
    "callbacks = [reduce_lr, early_stopping]\n",
    "\n",
    "fitted_vgg16_multiclass = train_model(train_gen, val_gen, vgg16_multiclass, callbacks=callbacks, class_weights=class_weights, epochs=20, steps_per_epoch=steps_per_epoch)"
   ]
  },
  {
   "cell_type": "code",
   "execution_count": null,
   "metadata": {},
   "outputs": [
    {
     "name": "stdout",
     "output_type": "stream",
     "text": [
      "Loading test data...\n",
      "Loading and preprocessing data...\n",
      "Total training images (no augmentation): 5533\n",
      "Class weights computed.\n",
      "Data generators created.\n",
      "Starting model evaluation...\n",
      "Total number of samples in the test generator: 1186\n"
     ]
    },
    {
     "name": "stderr",
     "output_type": "stream",
     "text": [
      "d:\\deep_learning_project\\notebooks\\..\\src\\utils\\modeling.py:82: UserWarning: `Model.predict_generator` is deprecated and will be removed in a future version. Please use `Model.predict`, which supports generators.\n",
      "  y_pred_prob = model.predict_generator(test_gen, steps=(total_samples // test_gen.batch_size) + 1) # +1 to account for remaining samples that don't make a full batch\n",
      "c:\\Users\\vic\\miniconda3\\envs\\tf\\lib\\site-packages\\keras\\engine\\training_v1.py:2356: UserWarning: `Model.state_updates` will be removed in a future version. This property should not be used in TensorFlow 2.0, as `updates` are applied automatically.\n",
      "  updates=self.state_updates,\n"
     ]
    },
    {
     "name": "stdout",
     "output_type": "stream",
     "text": [
      "\n",
      "Accuracy: 0.8331\n",
      "\n",
      "Classification Report:\n",
      "+---------------------+-------------+----------+------------+-----------+\n",
      "| Class               |   Precision |   Recall |   F1-Score |   Support |\n",
      "+=====================+=============+==========+============+===========+\n",
      "| Adenosis            |    0.968254 | 0.910448 |   0.938462 |        67 |\n",
      "+---------------------+-------------+----------+------------+-----------+\n",
      "| Ductal Carcinoma    |    0.891129 | 0.853282 |   0.871795 |       518 |\n",
      "+---------------------+-------------+----------+------------+-----------+\n",
      "| Fibroadenoma        |    0.860927 | 0.855263 |   0.858086 |       152 |\n",
      "+---------------------+-------------+----------+------------+-----------+\n",
      "| Lobular Carcinoma   |    0.635417 | 0.648936 |   0.642105 |        94 |\n",
      "+---------------------+-------------+----------+------------+-----------+\n",
      "| Mucinous Carcinoma  |    0.862385 | 0.79661  |   0.828194 |       118 |\n",
      "+---------------------+-------------+----------+------------+-----------+\n",
      "| Papillary Carcinoma |    0.603306 | 0.869048 |   0.712195 |        84 |\n",
      "+---------------------+-------------+----------+------------+-----------+\n",
      "| Phyllodes Tumor     |    0.933333 | 0.617647 |   0.743363 |        68 |\n",
      "+---------------------+-------------+----------+------------+-----------+\n",
      "| Tubular Adenoma     |    0.809524 | 1        |   0.894737 |        85 |\n",
      "+---------------------+-------------+----------+------------+-----------+\n",
      "\n",
      "Overall Metrics:\n",
      "+------------------------+----------+\n",
      "| Metric                 |    Value |\n",
      "+========================+==========+\n",
      "| Accuracy               | 0.833052 |\n",
      "+------------------------+----------+\n",
      "| Macro Avg Precision    | 0.820534 |\n",
      "+------------------------+----------+\n",
      "| Macro Avg Recall       | 0.818904 |\n",
      "+------------------------+----------+\n",
      "| Macro Avg F1-Score     | 0.811117 |\n",
      "+------------------------+----------+\n",
      "| Weighted Avg Precision | 0.844674 |\n",
      "+------------------------+----------+\n",
      "| Weighted Avg Recall    | 0.833052 |\n",
      "+------------------------+----------+\n",
      "| Weighted Avg F1-Score  | 0.834238 |\n",
      "+------------------------+----------+\n"
     ]
    },
    {
     "data": {
      "image/png": "[encoded data removed]",
      "text/plain": [
       "<Figure size 1000x700 with 2 Axes>"
      ]
     },
     "metadata": {},
     "output_type": "display_data"
    },
    {
     "name": "stdout",
     "output_type": "stream",
     "text": [
      "Plotted confusion matrix.\n",
      "Evaluation complete. Returning results.\n"
     ]
    },
    {
     "data": {
      "text/plain": [
       "{'accuracy': 0.8330522765598651,\n",
       " 'classification_report': {'Adenosis': {'precision': 0.9682539682539683,\n",
       "   'recall': 0.9104477611940298,\n",
       "   'f1-score': 0.9384615384615385,\n",
       "   'support': 67.0},\n",
       "  'Ductal Carcinoma': {'precision': 0.8911290322580645,\n",
       "   'recall': 0.8532818532818532,\n",
       "   'f1-score': 0.8717948717948718,\n",
       "   'support': 518.0},\n",
       "  'Fibroadenoma': {'precision': 0.8609271523178808,\n",
       "   'recall': 0.8552631578947368,\n",
       "   'f1-score': 0.858085808580858,\n",
       "   'support': 152.0},\n",
       "  'Lobular Carcinoma': {'precision': 0.6354166666666666,\n",
       "   'recall': 0.648936170212766,\n",
       "   'f1-score': 0.6421052631578947,\n",
       "   'support': 94.0},\n",
       "  'Mucinous Carcinoma': {'precision': 0.8623853211009175,\n",
       "   'recall': 0.7966101694915254,\n",
       "   'f1-score': 0.8281938325991189,\n",
       "   'support': 118.0},\n",
       "  'Papillary Carcinoma': {'precision': 0.6033057851239669,\n",
       "   'recall': 0.8690476190476191,\n",
       "   'f1-score': 0.7121951219512195,\n",
       "   'support': 84.0},\n",
       "  'Phyllodes Tumor': {'precision': 0.9333333333333333,\n",
       "   'recall': 0.6176470588235294,\n",
       "   'f1-score': 0.7433628318584071,\n",
       "   'support': 68.0},\n",
       "  'Tubular Adenoma': {'precision': 0.8095238095238095,\n",
       "   'recall': 1.0,\n",
       "   'f1-score': 0.8947368421052632,\n",
       "   'support': 85.0},\n",
       "  'accuracy': 0.8330522765598651,\n",
       "  'macro avg': {'precision': 0.820534383572326,\n",
       "   'recall': 0.8189042237432576,\n",
       "   'f1-score': 0.8111170138136464,\n",
       "   'support': 1186.0},\n",
       "  'weighted avg': {'precision': 0.8446739398972933,\n",
       "   'recall': 0.8330522765598651,\n",
       "   'f1-score': 0.8342379181650225,\n",
       "   'support': 1186.0}},\n",
       " 'confusion_matrix': array([[ 61,   1,   2,   0,   1,   0,   1,   1],\n",
       "        [  1, 442,   0,  29,   8,  34,   1,   3],\n",
       "        [  0,   8, 130,   0,   1,   2,   1,  10],\n",
       "        [  1,  27,   1,  61,   1,   2,   0,   1],\n",
       "        [  0,  10,   1,   4,  94,   6,   0,   3],\n",
       "        [  0,   5,   0,   2,   4,  73,   0,   0],\n",
       "        [  0,   3,  17,   0,   0,   4,  42,   2],\n",
       "        [  0,   0,   0,   0,   0,   0,   0,  85]], dtype=int64)}"
      ]
     },
     "execution_count": 6,
     "metadata": {},
     "output_type": "execute_result"
    }
   ],
   "source": [
    "fitted_vgg16_multiclass = load_model('src\\models\\VGG16_multiclass.h5\\saved_model.h5')\n",
    "evaluate_model(fitted_vgg16_multiclass, classification_type='multiclass')"
   ]
  },
  {
   "cell_type": "markdown",
   "metadata": {},
   "source": [
    "**InceptionV3**"
   ]
  },
  {
   "cell_type": "code",
   "execution_count": null,
   "metadata": {},
   "outputs": [],
   "source": [
    "def multiclass_classification_inceptionv3_model(input_shape=(224, 224, 3), trainable_layers=200, learning_rate=0.0001):\n",
    "    \n",
    "    base_model = InceptionV3(weights='imagenet', include_top=False, input_shape=input_shape)\n",
    "    \n",
    "    # train some layers and freeze others\n",
    "    for layer in base_model.layers[:-trainable_layers]:\n",
    "        layer.trainable = False\n",
    "    for layer in base_model.layers[-trainable_layers:]:\n",
    "        layer.trainable = True\n",
    "\n",
    "    model = Sequential()\n",
    "    \n",
    "    model.add(base_model)\n",
    "    \n",
    "    model.add(GlobalAveragePooling2D())\n",
    "    \n",
    "    model.add(Dense(1024, activation='relu'))\n",
    "    \n",
    "    model.add(Dense(8, activation='softmax'))\n",
    "    \n",
    "    # low learning rate for fine tuning\n",
    "    model.compile(optimizer=Adam(learning_rate=learning_rate),\n",
    "                  loss='sparse_categorical_crossentropy',\n",
    "                  metrics=['accuracy'])\n",
    "    \n",
    "    return model"
   ]
  },
  {
   "cell_type": "code",
   "execution_count": null,
   "metadata": {},
   "outputs": [],
   "source": [
    "train_gen, val_gen, test_gen, class_weights, steps_per_epoch = preproc_pipeline(image_resolution=(224, 224), \n",
    "                                                    classification_type='multiclass',\n",
    "                                                    use_data_augmentation=True,\n",
    "                                                    augmented_images_per_image=5,\n",
    "                                                    batch_size=32)\n",
    "                                                    \n",
    "inceptionv3_multiclass = multiclass_classification_inceptionv3_model()\n",
    "\n",
    "reduce_lr = ReduceLROnPlateau(monitor='val_loss', factor=0.1, patience=3, min_lr=1e-7)\n",
    "early_stopping = EarlyStopping(monitor='val_loss', patience=10, restore_best_weights=True)\n",
    "callbacks = [reduce_lr, early_stopping]\n",
    "\n",
    "fitted_inceptionv3_multiclass = train_model(train_gen, val_gen, inceptionv3_multiclass, callbacks=callbacks, class_weights=class_weights, epochs=40, steps_per_epoch=steps_per_epoch)"
   ]
  }
 ],
 "metadata": {
  "kernelspec": {
   "display_name": "tf",
   "language": "python",
   "name": "python3"
  },
  "language_info": {
   "codemirror_mode": {
    "name": "ipython",
    "version": 3
   },
   "file_extension": ".py",
   "mimetype": "text/x-python",
   "name": "python",
   "nbconvert_exporter": "python",
   "pygments_lexer": "ipython3",
   "version": "3.9.20"
  }
 },
 "nbformat": 4,
 "nbformat_minor": 2
}
