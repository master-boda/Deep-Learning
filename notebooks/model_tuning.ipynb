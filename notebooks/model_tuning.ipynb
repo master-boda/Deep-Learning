{
 "cells": [
  {
   "cell_type": "markdown",
   "metadata": {},
   "source": [
    "## **Model Tuning Notebook**"
   ]
  },
  {
   "cell_type": "code",
   "execution_count": 1,
   "metadata": {},
   "outputs": [
    {
     "name": "stdout",
     "output_type": "stream",
     "text": [
      "Num GPUs Available:  1\n"
     ]
    }
   ],
   "source": [
    "from numba import cuda\n",
    "import tensorflow as tf\n",
    "\n",
    "def clear_gpu_memory():\n",
    "    device = cuda.get_current_device()\n",
    "    device.reset() # dump the memory contents to free up the memory (it accumulates over the session)\n",
    "    \n",
    "# CUDA (Nvidia GPU Computing)\n",
    "if len(tf.config.list_physical_devices('GPU')) > 0:\n",
    "    gpus = tf.config.list_physical_devices('GPU')\n",
    "    print(\"Num GPUs Available: \", len(gpus))\n",
    "    \n",
    "    clear_gpu_memory()\n",
    "    \n",
    "    tf.config.experimental.set_memory_growth(gpus[0], True)\n",
    "\n",
    "    tf.config.set_logical_device_configuration(\n",
    "    gpus[0], \n",
    "    [tf.config.LogicalDeviceConfiguration(memory_limit=8192)])  # limit to 4GB\n",
    "\n",
    "    tf.compat.v1.disable_eager_execution()\n"
   ]
  },
  {
   "cell_type": "code",
   "execution_count": 3,
   "metadata": {},
   "outputs": [
    {
     "name": "stdout",
     "output_type": "stream",
     "text": [
      "Project root: c:\\Users\\tomes\\Documents\\GitHub\\Deep-Learning CWD: c:\\Users\\tomes\\Documents\\GitHub\\Deep-Learning\n"
     ]
    }
   ],
   "source": [
    "# because the utils in the src are designed to be run from the root of the project,\n",
    "# and by default jupyter runs from the notebook directory we need to change the working directory to the root\n",
    "\n",
    "import os\n",
    "import sys\n",
    "sys.path.append('../')\n",
    "\n",
    "def find_project_root(filename=\".git\"): # .git is located in the root of the project\n",
    "    current_dir = os.getcwd()\n",
    "    while current_dir != os.path.dirname(current_dir): # stops only when at the root (moves up 1 level each iteration)\n",
    "        if filename in os.listdir(current_dir):\n",
    "            return current_dir\n",
    "        current_dir = os.path.dirname(current_dir)\n",
    "\n",
    "project_root = find_project_root()\n",
    "os.chdir(project_root)  # change the working directory to the project root\n",
    "\n",
    "print(\"Project root:\", project_root, \"CWD:\", os.getcwd())"
   ]
  },
  {
   "cell_type": "code",
   "execution_count": 6,
   "metadata": {},
   "outputs": [
    {
     "name": "stdout",
     "output_type": "stream",
     "text": [
      "The autoreload extension is already loaded. To reload it, use:\n",
      "  %reload_ext autoreload\n"
     ]
    }
   ],
   "source": [
    "%load_ext autoreload\n",
    "%autoreload 2\n",
    "\n",
    "from src.utils.modeling import *\n",
    "from src.utils.preproc import *\n",
    "\n",
    "from keras.models import Model, Sequential, load_model\n",
    "from keras.applications import VGG16, InceptionV3\n",
    "from keras.layers import Dense, Flatten, Dropout, GlobalAveragePooling2D, MaxPooling2D,Conv2D\n",
    "from keras.optimizers import Adam\n",
    "\n",
    "from sklearn.metrics import classification_report"
   ]
  },
  {
   "cell_type": "markdown",
   "metadata": {},
   "source": [
    "### **Binary Classification Models Fine-Tuning**"
   ]
  },
  {
   "cell_type": "markdown",
   "metadata": {},
   "source": [
    "#### **Sequential**"
   ]
  },
  {
   "cell_type": "code",
   "execution_count": 9,
   "metadata": {},
   "outputs": [
    {
     "name": "stdout",
     "output_type": "stream",
     "text": [
      "Extracted Hyperparameters:\n",
      "conv_filter_1 = 96\n",
      "conv_filter_2 = 192\n",
      "conv_filter_3 = 256\n",
      "conv_filter_4 = 1024\n",
      "conv_filter_5 = 1024\n",
      "dense_units_0 = 256\n",
      "dropout_rate_0 = 0.2\n",
      "learning_rate = 0.0001\n",
      "tuner/epochs = 5\n",
      "tuner/initial_epoch = 3\n",
      "tuner/bracket = 3\n",
      "tuner/round = 2\n",
      "tuner/trial_id = 0011\n"
     ]
    }
   ],
   "source": [
    "path = 'src/trial_0015/trial.json'\n",
    "\n",
    "with open(path, 'r') as file:\n",
    "    data = json.load(file)\n",
    "hyperparameters = data[\"hyperparameters\"][\"values\"]\n",
    "\n",
    "print(\"Extracted Hyperparameters:\")\n",
    "for param, value in hyperparameters.items():\n",
    "    print(f\"{param} = {value}\")"
   ]
  },
  {
   "cell_type": "code",
   "execution_count": 10,
   "metadata": {},
   "outputs": [],
   "source": [
    "\n",
    "    \n",
    "def sequential_binary_model(conv_filter_1 = 96 , conv_filter_2 = 192, conv_filter_3 = 256, conv_filter_4 = 512, conv_filter_5= 512, dense_units_0 = 256, dropout_rate_0 = 0.2, learning_rate = 0.0001, input_shape= (224, 224, 3)):\n",
    "\n",
    "    model = Sequential()\n",
    "    model.add(Conv2D(conv_filter_1, (3, 3), activation='relu', input_shape=input_shape))\n",
    "    model.add(MaxPooling2D((2, 2)))\n",
    "\n",
    "    model.add(Conv2D(conv_filter_2, (3, 3), activation='relu'))\n",
    "    model.add(MaxPooling2D((2, 2)))\n",
    "\n",
    "    model.add(Conv2D(conv_filter_3, (3, 3), activation='relu'))\n",
    "    model.add(MaxPooling2D((2, 2)))\n",
    "\n",
    "    model.add(Conv2D(conv_filter_4, (3, 3), activation='relu'))\n",
    "    model.add(MaxPooling2D((2, 2)))\n",
    "\n",
    "    model.add(Conv2D(conv_filter_5, (3, 3), activation='relu'))\n",
    "    model.add(MaxPooling2D((2, 2)))\n",
    "\n",
    "    model.add(Flatten())\n",
    "    model.add(Dense(dense_units_0, activation='relu'))\n",
    "    model.add(Dropout(dropout_rate_0))\n",
    "\n",
    "    model.add(Dense(10, activation='softmax'))\n",
    "\n",
    "    optimizer = Adam(learning_rate=learning_rate)\n",
    "    model.compile(optimizer=optimizer, loss='sparse_categorical_crossentropy', metrics=['accuracy'])\n",
    "    return model\n"
   ]
  },
  {
   "cell_type": "code",
   "execution_count": 14,
   "metadata": {},
   "outputs": [
    {
     "name": "stdout",
     "output_type": "stream",
     "text": [
      "Loading and preprocessing data...\n",
      "Total training images after augmentation: 33198\n",
      "Class weights computed.\n",
      "Data generators created.\n",
      "Epoch 1/5\n",
      "860/860 [==============================] - ETA: 0s - batch: 429.5000 - size: 31.9826 - loss: 0.4975 - accuracy: 0.8107"
     ]
    },
    {
     "name": "stderr",
     "output_type": "stream",
     "text": [
      "c:\\Users\\tomes\\miniconda3\\envs\\Deep_Learning_v3\\lib\\site-packages\\keras\\engine\\training_v1.py:2332: UserWarning: `Model.state_updates` will be removed in a future version. This property should not be used in TensorFlow 2.0, as `updates` are applied automatically.\n",
      "  updates = self.state_updates\n"
     ]
    },
    {
     "name": "stdout",
     "output_type": "stream",
     "text": [
      "860/860 [==============================] - 965s 1s/step - batch: 429.5000 - size: 31.9826 - loss: 0.4975 - accuracy: 0.8107 - val_loss: 0.4221 - val_accuracy: 0.8558 - lr: 1.0000e-04\n",
      "Epoch 2/5\n",
      "860/860 [==============================] - 966s 1s/step - batch: 429.5000 - size: 31.9826 - loss: 0.3988 - accuracy: 0.8580 - val_loss: 0.3344 - val_accuracy: 0.8676 - lr: 1.0000e-04\n",
      "Epoch 3/5\n",
      "860/860 [==============================] - 974s 1s/step - batch: 429.5000 - size: 31.9826 - loss: 0.3350 - accuracy: 0.8725 - val_loss: 0.2659 - val_accuracy: 0.8938 - lr: 1.0000e-04\n",
      "Epoch 4/5\n",
      "860/860 [==============================] - 976s 1s/step - batch: 429.5000 - size: 31.9826 - loss: 0.2909 - accuracy: 0.8822 - val_loss: 0.2530 - val_accuracy: 0.8895 - lr: 1.0000e-04\n",
      "Epoch 5/5\n",
      "860/860 [==============================] - 1067s 1s/step - batch: 429.5000 - size: 31.9826 - loss: 0.2553 - accuracy: 0.8925 - val_loss: 0.2602 - val_accuracy: 0.8836 - lr: 1.0000e-04\n"
     ]
    }
   ],
   "source": [
    "train_gen, val_gen, test_gen, class_weights, steps_per_epoch = preproc_pipeline(image_resolution=(224, 224),\n",
    "                                                    classification_type='binary',\n",
    "                                                    use_data_augmentation=True,\n",
    "                                                    augmented_images_per_image=5,\n",
    "                                                    batch_size=32)\n",
    "\n",
    "sequential_binary = sequential_binary_model(\n",
    "    conv_filter_1 = 96,\n",
    "    conv_filter_2 = 192,\n",
    "    conv_filter_3 = 256,\n",
    "    conv_filter_4 = 512,\n",
    "    conv_filter_5 = 512,\n",
    "    dense_units_0 = 256,\n",
    "    dropout_rate_0 = 0.2,\n",
    "    learning_rate = 0.0001,\n",
    "    input_shape = (224, 224, 3)\n",
    ")\n",
    "\n",
    "reduce_lr = ReduceLROnPlateau(monitor='val_loss', factor=0.1, patience=2, min_lr=1e-7)\n",
    "early_stopping = EarlyStopping(monitor='val_loss', patience=3, restore_best_weights=True)\n",
    "callbacks = [reduce_lr, early_stopping]\n",
    "\n",
    "\n",
    "fitted_sequential_binary = train_model(train_gen, val_gen, sequential_binary, callbacks=callbacks, class_weights=class_weights, epochs=5, steps_per_epoch=steps_per_epoch)"
   ]
  },
  {
   "cell_type": "code",
   "execution_count": 15,
   "metadata": {},
   "outputs": [
    {
     "name": "stderr",
     "output_type": "stream",
     "text": [
      "WARNING:absl:Found untraced functions such as _jit_compiled_convolution_op, _jit_compiled_convolution_op, _jit_compiled_convolution_op, _jit_compiled_convolution_op, _jit_compiled_convolution_op while saving (showing 5 of 5). These functions will not be directly callable after loading.\n"
     ]
    },
    {
     "name": "stdout",
     "output_type": "stream",
     "text": [
      "INFO:tensorflow:Assets written to: ram://7960b541-68fa-4194-97e2-d1d92e7c3a7b/assets\n"
     ]
    },
    {
     "name": "stderr",
     "output_type": "stream",
     "text": [
      "INFO:tensorflow:Assets written to: ram://7960b541-68fa-4194-97e2-d1d92e7c3a7b/assets\n"
     ]
    }
   ],
   "source": [
    "save_model(fitted_sequential_binary, 'src/models/Hyperband_binary')\n",
    "save_training_history(fitted_sequential_binary, 'src/models/Hyperband_binary')"
   ]
  },
  {
   "cell_type": "code",
   "execution_count": 17,
   "metadata": {},
   "outputs": [
    {
     "name": "stdout",
     "output_type": "stream",
     "text": [
      "Loading test data...\n",
      "Loading and preprocessing data...\n"
     ]
    },
    {
     "ename": "KeyboardInterrupt",
     "evalue": "",
     "output_type": "error",
     "traceback": [
      "\u001b[1;31m---------------------------------------------------------------------------\u001b[0m",
      "\u001b[1;31mKeyboardInterrupt\u001b[0m                         Traceback (most recent call last)",
      "Cell \u001b[1;32mIn[17], line 2\u001b[0m\n\u001b[0;32m      1\u001b[0m fitted_sequential_binary \u001b[38;5;241m=\u001b[39m load_model(\u001b[38;5;124m'\u001b[39m\u001b[38;5;124msrc/models/Hyperband_binary/saved_model.h5\u001b[39m\u001b[38;5;124m'\u001b[39m)\n\u001b[1;32m----> 2\u001b[0m \u001b[43mevaluate_model\u001b[49m\u001b[43m(\u001b[49m\u001b[43mfitted_sequential_binary\u001b[49m\u001b[43m,\u001b[49m\u001b[43m \u001b[49m\u001b[43mclassification_type\u001b[49m\u001b[38;5;241;43m=\u001b[39;49m\u001b[38;5;124;43m'\u001b[39;49m\u001b[38;5;124;43mbinary\u001b[39;49m\u001b[38;5;124;43m'\u001b[39;49m\u001b[43m)\u001b[49m\n",
      "File \u001b[1;32mc:\\Users\\tomes\\Documents\\GitHub\\Deep-Learning\\src\\utils\\modeling.py:92\u001b[0m, in \u001b[0;36mevaluate_model\u001b[1;34m(model, classification_type, show_confusion_matrix)\u001b[0m\n\u001b[0;32m     80\u001b[0m \u001b[38;5;250m\u001b[39m\u001b[38;5;124;03m\"\"\"\u001b[39;00m\n\u001b[0;32m     81\u001b[0m \u001b[38;5;124;03mEvaluate a TensorFlow model and plot evaluation metrics.\u001b[39;00m\n\u001b[0;32m     82\u001b[0m \u001b[38;5;124;03m\u001b[39;00m\n\u001b[1;32m   (...)\u001b[0m\n\u001b[0;32m     89\u001b[0m \u001b[38;5;124;03m    - results (dict): Dictionary containing evaluation metrics.\u001b[39;00m\n\u001b[0;32m     90\u001b[0m \u001b[38;5;124;03m\"\"\"\u001b[39;00m\n\u001b[0;32m     91\u001b[0m \u001b[38;5;28mprint\u001b[39m(\u001b[38;5;124m\"\u001b[39m\u001b[38;5;124mLoading test data...\u001b[39m\u001b[38;5;124m\"\u001b[39m)\n\u001b[1;32m---> 92\u001b[0m train_gen, val_gen, test_gen, class_weights, steps \u001b[38;5;241m=\u001b[39m \u001b[43mpreproc_pipeline\u001b[49m\u001b[43m(\u001b[49m\u001b[43m(\u001b[49m\u001b[38;5;241;43m224\u001b[39;49m\u001b[43m,\u001b[49m\u001b[43m \u001b[49m\u001b[38;5;241;43m224\u001b[39;49m\u001b[43m)\u001b[49m\u001b[43m,\u001b[49m\u001b[43m \u001b[49m\u001b[43mclassification_type\u001b[49m\u001b[38;5;241;43m=\u001b[39;49m\u001b[43mclassification_type\u001b[49m\u001b[43m,\u001b[49m\u001b[43m \u001b[49m\u001b[43muse_data_augmentation\u001b[49m\u001b[38;5;241;43m=\u001b[39;49m\u001b[38;5;28;43;01mFalse\u001b[39;49;00m\u001b[43m)\u001b[49m\n\u001b[0;32m     94\u001b[0m \u001b[38;5;28mprint\u001b[39m(\u001b[38;5;124m\"\u001b[39m\u001b[38;5;124mStarting model evaluation...\u001b[39m\u001b[38;5;124m\"\u001b[39m)\n\u001b[0;32m     96\u001b[0m \u001b[38;5;66;03m# reset the generator before making predictions\u001b[39;00m\n",
      "File \u001b[1;32mc:\\Users\\tomes\\Documents\\GitHub\\Deep-Learning\\src\\utils\\preproc.py:140\u001b[0m, in \u001b[0;36mpreproc_pipeline\u001b[1;34m(image_resolution, classification_type, use_data_augmentation, augmented_images_per_image, csv_path, batch_size, verbose)\u001b[0m\n\u001b[0;32m    137\u001b[0m \u001b[38;5;28;01mif\u001b[39;00m verbose:\n\u001b[0;32m    138\u001b[0m     \u001b[38;5;28mprint\u001b[39m(\u001b[38;5;124m\"\u001b[39m\u001b[38;5;124mLoading and preprocessing data...\u001b[39m\u001b[38;5;124m\"\u001b[39m)\n\u001b[1;32m--> 140\u001b[0m X_train, y_train, X_test, y_test, X_val, y_val \u001b[38;5;241m=\u001b[39m \u001b[43mload_and_preprocess_data\u001b[49m\u001b[43m(\u001b[49m\u001b[43mcsv_path\u001b[49m\u001b[43m,\u001b[49m\u001b[43m \u001b[49m\u001b[43mimage_resolution\u001b[49m\u001b[43m,\u001b[49m\u001b[43m \u001b[49m\u001b[43mlabel_column\u001b[49m\u001b[43m)\u001b[49m\n\u001b[0;32m    142\u001b[0m datagen \u001b[38;5;241m=\u001b[39m ImageDataGenerator(\n\u001b[0;32m    143\u001b[0m     rescale\u001b[38;5;241m=\u001b[39m\u001b[38;5;241m1.\u001b[39m\u001b[38;5;241m/\u001b[39m\u001b[38;5;241m255\u001b[39m,\n\u001b[0;32m    144\u001b[0m     rotation_range\u001b[38;5;241m=\u001b[39m\u001b[38;5;241m30\u001b[39m,\n\u001b[1;32m   (...)\u001b[0m\n\u001b[0;32m    150\u001b[0m     fill_mode\u001b[38;5;241m=\u001b[39m\u001b[38;5;124m'\u001b[39m\u001b[38;5;124mnearest\u001b[39m\u001b[38;5;124m'\u001b[39m,\n\u001b[0;32m    151\u001b[0m )\n\u001b[0;32m    153\u001b[0m \u001b[38;5;28;01mif\u001b[39;00m use_data_augmentation:\n",
      "File \u001b[1;32mc:\\Users\\tomes\\Documents\\GitHub\\Deep-Learning\\src\\utils\\preproc.py:81\u001b[0m, in \u001b[0;36mload_and_preprocess_data\u001b[1;34m(csv_path, image_resolution, label_column)\u001b[0m\n\u001b[0;32m     79\u001b[0m label \u001b[38;5;241m=\u001b[39m row[label_column] \n\u001b[0;32m     80\u001b[0m \u001b[38;5;28;01mif\u001b[39;00m \u001b[38;5;124m'\u001b[39m\u001b[38;5;124mtrain\u001b[39m\u001b[38;5;124m'\u001b[39m \u001b[38;5;129;01min\u001b[39;00m image_path:\n\u001b[1;32m---> 81\u001b[0m     \u001b[43mresize_and_append\u001b[49m\u001b[43m(\u001b[49m\u001b[43mimage_path\u001b[49m\u001b[43m,\u001b[49m\u001b[43m \u001b[49m\u001b[43mlabel\u001b[49m\u001b[43m,\u001b[49m\u001b[43m \u001b[49m\u001b[43mX_train\u001b[49m\u001b[43m,\u001b[49m\u001b[43m \u001b[49m\u001b[43my_train\u001b[49m\u001b[43m,\u001b[49m\u001b[43m \u001b[49m\u001b[43mimage_resolution\u001b[49m\u001b[43m)\u001b[49m\n\u001b[0;32m     82\u001b[0m \u001b[38;5;28;01melif\u001b[39;00m \u001b[38;5;124m'\u001b[39m\u001b[38;5;124mtest\u001b[39m\u001b[38;5;124m'\u001b[39m \u001b[38;5;129;01min\u001b[39;00m image_path:\n\u001b[0;32m     83\u001b[0m     resize_and_append(image_path, label, X_test, y_test, image_resolution)\n",
      "File \u001b[1;32mc:\\Users\\tomes\\Documents\\GitHub\\Deep-Learning\\src\\utils\\preproc.py:24\u001b[0m, in \u001b[0;36mresize_and_append\u001b[1;34m(image_path, label, X, y, img_size)\u001b[0m\n\u001b[0;32m     10\u001b[0m \u001b[38;5;250m\u001b[39m\u001b[38;5;124;03m\"\"\"\u001b[39;00m\n\u001b[0;32m     11\u001b[0m \u001b[38;5;124;03mResize an image and append it along with its label to the provided lists.\u001b[39;00m\n\u001b[0;32m     12\u001b[0m \u001b[38;5;124;03m\u001b[39;00m\n\u001b[1;32m   (...)\u001b[0m\n\u001b[0;32m     21\u001b[0m \u001b[38;5;124;03m    None\u001b[39;00m\n\u001b[0;32m     22\u001b[0m \u001b[38;5;124;03m\"\"\"\u001b[39;00m\n\u001b[0;32m     23\u001b[0m \u001b[38;5;28;01mwith\u001b[39;00m Image\u001b[38;5;241m.\u001b[39mopen(image_path) \u001b[38;5;28;01mas\u001b[39;00m img:\n\u001b[1;32m---> 24\u001b[0m     img_resized \u001b[38;5;241m=\u001b[39m \u001b[43mimg\u001b[49m\u001b[38;5;241;43m.\u001b[39;49m\u001b[43mresize\u001b[49m\u001b[43m(\u001b[49m\u001b[43mimg_size\u001b[49m\u001b[43m)\u001b[49m\n\u001b[0;32m     25\u001b[0m     img_array \u001b[38;5;241m=\u001b[39m np\u001b[38;5;241m.\u001b[39marray(img_resized)\n\u001b[0;32m     27\u001b[0m     X\u001b[38;5;241m.\u001b[39mappend(img_array)\n",
      "File \u001b[1;32mc:\\Users\\tomes\\miniconda3\\envs\\Deep_Learning_v3\\lib\\site-packages\\PIL\\Image.py:2345\u001b[0m, in \u001b[0;36mImage.resize\u001b[1;34m(self, size, resample, box, reducing_gap)\u001b[0m\n\u001b[0;32m   2342\u001b[0m     im \u001b[38;5;241m=\u001b[39m im\u001b[38;5;241m.\u001b[39mresize(size, resample, box)\n\u001b[0;32m   2343\u001b[0m     \u001b[38;5;28;01mreturn\u001b[39;00m im\u001b[38;5;241m.\u001b[39mconvert(\u001b[38;5;28mself\u001b[39m\u001b[38;5;241m.\u001b[39mmode)\n\u001b[1;32m-> 2345\u001b[0m \u001b[38;5;28;43mself\u001b[39;49m\u001b[38;5;241;43m.\u001b[39;49m\u001b[43mload\u001b[49m\u001b[43m(\u001b[49m\u001b[43m)\u001b[49m\n\u001b[0;32m   2347\u001b[0m \u001b[38;5;28;01mif\u001b[39;00m reducing_gap \u001b[38;5;129;01mis\u001b[39;00m \u001b[38;5;129;01mnot\u001b[39;00m \u001b[38;5;28;01mNone\u001b[39;00m \u001b[38;5;129;01mand\u001b[39;00m resample \u001b[38;5;241m!=\u001b[39m Resampling\u001b[38;5;241m.\u001b[39mNEAREST:\n\u001b[0;32m   2348\u001b[0m     factor_x \u001b[38;5;241m=\u001b[39m \u001b[38;5;28mint\u001b[39m((box[\u001b[38;5;241m2\u001b[39m] \u001b[38;5;241m-\u001b[39m box[\u001b[38;5;241m0\u001b[39m]) \u001b[38;5;241m/\u001b[39m size[\u001b[38;5;241m0\u001b[39m] \u001b[38;5;241m/\u001b[39m reducing_gap) \u001b[38;5;129;01mor\u001b[39;00m \u001b[38;5;241m1\u001b[39m\n",
      "File \u001b[1;32mc:\\Users\\tomes\\miniconda3\\envs\\Deep_Learning_v3\\lib\\site-packages\\PIL\\ImageFile.py:280\u001b[0m, in \u001b[0;36mImageFile.load\u001b[1;34m(self)\u001b[0m\n\u001b[0;32m    278\u001b[0m \u001b[38;5;28;01mwhile\u001b[39;00m \u001b[38;5;28;01mTrue\u001b[39;00m:\n\u001b[0;32m    279\u001b[0m     \u001b[38;5;28;01mtry\u001b[39;00m:\n\u001b[1;32m--> 280\u001b[0m         s \u001b[38;5;241m=\u001b[39m \u001b[43mread\u001b[49m\u001b[43m(\u001b[49m\u001b[38;5;28;43mself\u001b[39;49m\u001b[38;5;241;43m.\u001b[39;49m\u001b[43mdecodermaxblock\u001b[49m\u001b[43m)\u001b[49m\n\u001b[0;32m    281\u001b[0m     \u001b[38;5;28;01mexcept\u001b[39;00m (\u001b[38;5;167;01mIndexError\u001b[39;00m, struct\u001b[38;5;241m.\u001b[39merror) \u001b[38;5;28;01mas\u001b[39;00m e:\n\u001b[0;32m    282\u001b[0m         \u001b[38;5;66;03m# truncated png/gif\u001b[39;00m\n\u001b[0;32m    283\u001b[0m         \u001b[38;5;28;01mif\u001b[39;00m LOAD_TRUNCATED_IMAGES:\n",
      "File \u001b[1;32mc:\\Users\\tomes\\miniconda3\\envs\\Deep_Learning_v3\\lib\\site-packages\\PIL\\PngImagePlugin.py:1012\u001b[0m, in \u001b[0;36mPngImageFile.load_read\u001b[1;34m(self, read_bytes)\u001b[0m\n\u001b[0;32m   1008\u001b[0m     read_bytes \u001b[38;5;241m=\u001b[39m \u001b[38;5;28mmin\u001b[39m(read_bytes, \u001b[38;5;28mself\u001b[39m\u001b[38;5;241m.\u001b[39m__idat)\n\u001b[0;32m   1010\u001b[0m \u001b[38;5;28mself\u001b[39m\u001b[38;5;241m.\u001b[39m__idat \u001b[38;5;241m=\u001b[39m \u001b[38;5;28mself\u001b[39m\u001b[38;5;241m.\u001b[39m__idat \u001b[38;5;241m-\u001b[39m read_bytes\n\u001b[1;32m-> 1012\u001b[0m \u001b[38;5;28;01mreturn\u001b[39;00m \u001b[38;5;28;43mself\u001b[39;49m\u001b[38;5;241;43m.\u001b[39;49m\u001b[43mfp\u001b[49m\u001b[38;5;241;43m.\u001b[39;49m\u001b[43mread\u001b[49m\u001b[43m(\u001b[49m\u001b[43mread_bytes\u001b[49m\u001b[43m)\u001b[49m\n",
      "\u001b[1;31mKeyboardInterrupt\u001b[0m: "
     ]
    }
   ],
   "source": [
    "fitted_sequential_binary = load_model('src/models/Hyperband_binary/saved_model.h5')\n",
    "evaluate_model(fitted_sequential_binary, classification_type='binary')"
   ]
  },
  {
   "cell_type": "markdown",
   "metadata": {},
   "source": [
    "#### **Transfer Learning**"
   ]
  },
  {
   "cell_type": "markdown",
   "metadata": {},
   "source": [
    "**VGG 16**"
   ]
  },
  {
   "cell_type": "code",
   "execution_count": 5,
   "metadata": {},
   "outputs": [],
   "source": [
    "def binary_classification_vgg16_model(input_shape=(224, 224, 3), trainable_layers=10, learning_rate=0.0001):\n",
    "    \n",
    "    base_model = VGG16(weights='imagenet', include_top=False, input_shape=input_shape)\n",
    "    \n",
    "    # train some layers and freeze others\n",
    "    for layer in base_model.layers[:-trainable_layers]:\n",
    "        layer.trainable = False\n",
    "    for layer in base_model.layers[-trainable_layers:]:\n",
    "        layer.trainable = True\n",
    "\n",
    "    model = Sequential()\n",
    "    \n",
    "    model.add(base_model)\n",
    "    \n",
    "    model.add(Flatten())\n",
    "    \n",
    "    model.add(Dense(256, activation='relu'))\n",
    "    model.add(Dropout(0.5))\n",
    "    \n",
    "    model.add(Dense(1, activation='sigmoid'))\n",
    "    \n",
    "    # low learning rate for fine tuning\n",
    "    model.compile(optimizer=Adam(learning_rate=learning_rate),\n",
    "                  loss='binary_crossentropy',\n",
    "                  metrics=['accuracy'])\n",
    "    \n",
    "    return model"
   ]
  },
  {
   "cell_type": "code",
   "execution_count": null,
   "metadata": {},
   "outputs": [
    {
     "name": "stdout",
     "output_type": "stream",
     "text": [
      "Loading and preprocessing data...\n",
      "Total training images after augmentation: 33198\n",
      "Class weights computed.\n",
      "Data generators created.\n",
      "Epoch 1/10\n",
      "113/860 [==>...........................] - ETA: 10:41 - batch: 56.0000 - size: 31.9735 - loss: 0.7088 - accuracy: 0.4877"
     ]
    }
   ],
   "source": [
    "train_gen, val_gen, test_gen, class_weights, steps_per_epoch = preproc_pipeline(image_resolution=(224, 224),  \n",
    "                                                    classification_type='binary',\n",
    "                                                    use_data_augmentation=True,\n",
    "                                                    augmented_images_per_image=5,\n",
    "                                                    batch_size=32)\n",
    "\n",
    "vgg16_binary = binary_classification_vgg16_model()\n",
    "\n",
    "reduce_lr = ReduceLROnPlateau(monitor='val_loss', factor=0.1, patience=2, min_lr=1e-7)\n",
    "early_stopping = EarlyStopping(monitor='val_loss', patience=5, restore_best_weights=True)\n",
    "callbacks = [reduce_lr, early_stopping]\n",
    "    \n",
    "\n",
    "fitted_vgg16_binary = train_model(train_gen, val_gen, vgg16_binary, callbacks=callbacks, class_weights=class_weights, epochs=10, steps_per_epoch=steps_per_epoch)"
   ]
  },
  {
   "cell_type": "code",
   "execution_count": null,
   "metadata": {},
   "outputs": [],
   "source": [
    "model, history = fitted_vgg16_binary\n",
    "save_model(model, history)"
   ]
  },
  {
   "cell_type": "code",
   "execution_count": 9,
   "metadata": {},
   "outputs": [
    {
     "name": "stdout",
     "output_type": "stream",
     "text": [
      "Loading test data...\n",
      "Loading and preprocessing data...\n",
      "Total training images (no augmentation): 5533\n",
      "Class weights computed.\n",
      "Data generators created.\n",
      "Starting model evaluation...\n",
      "Total number of samples in the test generator: 1186\n"
     ]
    },
    {
     "name": "stderr",
     "output_type": "stream",
     "text": [
      "d:\\deep_learning_project\\src\\utils\\modeling.py:87: UserWarning: `Model.predict_generator` is deprecated and will be removed in a future version. Please use `Model.predict`, which supports generators.\n",
      "  y_pred_prob = model.predict_generator(test_gen, steps=(total_samples // test_gen.batch_size) + 1) # +1 to account for remaining samples that don't make a full batch\n",
      "c:\\Users\\vic\\miniconda3\\envs\\tf\\lib\\site-packages\\keras\\engine\\training_v1.py:2356: UserWarning: `Model.state_updates` will be removed in a future version. This property should not be used in TensorFlow 2.0, as `updates` are applied automatically.\n",
      "  updates=self.state_updates,\n"
     ]
    },
    {
     "name": "stdout",
     "output_type": "stream",
     "text": [
      "\n",
      "Accuracy: 0.9359\n",
      "\n",
      "Classification Report:\n",
      "+-----------+-------------+----------+------------+-----------+\n",
      "| Class     |   Precision |   Recall |   F1-Score |   Support |\n",
      "+===========+=============+==========+============+===========+\n",
      "| Benign    |    0.845794 | 0.973118 |   0.905    |       372 |\n",
      "+-----------+-------------+----------+------------+-----------+\n",
      "| Malignant |    0.986807 | 0.918919 |   0.951654 |       814 |\n",
      "+-----------+-------------+----------+------------+-----------+\n",
      "\n",
      "Overall Metrics:\n",
      "+------------------------+----------+\n",
      "| Metric                 |    Value |\n",
      "+========================+==========+\n",
      "| Accuracy               | 0.935919 |\n",
      "+------------------------+----------+\n",
      "| Macro Avg Precision    | 0.916301 |\n",
      "+------------------------+----------+\n",
      "| Macro Avg Recall       | 0.946019 |\n",
      "+------------------------+----------+\n",
      "| Macro Avg F1-Score     | 0.928327 |\n",
      "+------------------------+----------+\n",
      "| Weighted Avg Precision | 0.942577 |\n",
      "+------------------------+----------+\n",
      "| Weighted Avg Recall    | 0.935919 |\n",
      "+------------------------+----------+\n",
      "| Weighted Avg F1-Score  | 0.93702  |\n",
      "+------------------------+----------+\n",
      "\n",
      "Confusion Matrix:\n"
     ]
    },
    {
     "data": {
      "image/png": "[encoded data removed]",
      "text/plain": [
       "<Figure size 1000x700 with 2 Axes>"
      ]
     },
     "metadata": {},
     "output_type": "display_data"
    },
    {
     "name": "stdout",
     "output_type": "stream",
     "text": [
      "Evaluation complete. Returning results.\n"
     ]
    },
    {
     "data": {
      "text/plain": [
       "{'accuracy': 0.9359190556492412,\n",
       " 'classification_report': {'Benign': {'precision': 0.8457943925233645,\n",
       "   'recall': 0.9731182795698925,\n",
       "   'f1-score': 0.905,\n",
       "   'support': 372.0},\n",
       "  'Malignant': {'precision': 0.9868073878627969,\n",
       "   'recall': 0.918918918918919,\n",
       "   'f1-score': 0.9516539440203562,\n",
       "   'support': 814.0},\n",
       "  'accuracy': 0.9359190556492412,\n",
       "  'macro avg': {'precision': 0.9163008901930807,\n",
       "   'recall': 0.9460185992444057,\n",
       "   'f1-score': 0.9283269720101781,\n",
       "   'support': 1186.0},\n",
       "  'weighted avg': {'precision': 0.9425773421070895,\n",
       "   'recall': 0.9359190556492412,\n",
       "   'f1-score': 0.9370204978352191,\n",
       "   'support': 1186.0}},\n",
       " 'confusion_matrix': array([[362,  10],\n",
       "        [ 66, 748]], dtype=int64)}"
      ]
     },
     "execution_count": 9,
     "metadata": {},
     "output_type": "execute_result"
    }
   ],
   "source": [
    "fitted_vgg16_binary = load_model('src\\models\\VGG16_binary.h5\\saved_model.h5')\n",
    "evaluate_model(fitted_vgg16_binary, classification_type='binary')"
   ]
  },
  {
   "cell_type": "markdown",
   "metadata": {},
   "source": [
    "**InceptionV3**"
   ]
  },
  {
   "cell_type": "code",
   "execution_count": 4,
   "metadata": {},
   "outputs": [],
   "source": [
    "def binary_classification_inceptionv3_model(input_shape=(224, 224, 3), trainable_layers=200, learning_rate=0.0001):\n",
    "    \n",
    "    base_model = InceptionV3(weights='imagenet', include_top=False, input_shape=input_shape)\n",
    "    \n",
    "    # train some layers and freeze others\n",
    "    for layer in base_model.layers[:-trainable_layers]:\n",
    "        layer.trainable = False\n",
    "    for layer in base_model.layers[-trainable_layers:]:\n",
    "        layer.trainable = True\n",
    "\n",
    "    model = Sequential()\n",
    "    \n",
    "    model.add(base_model)\n",
    "    \n",
    "    model.add(GlobalAveragePooling2D())\n",
    "    \n",
    "    model.add(Dense(1024, activation='relu'))\n",
    "    \n",
    "    model.add(Dense(1, activation='sigmoid'))\n",
    "    \n",
    "    # low learning rate for fine tuning\n",
    "    model.compile(optimizer=Adam(learning_rate=learning_rate),\n",
    "                  loss='binary_crossentropy',\n",
    "                  metrics=['accuracy'])\n",
    "    \n",
    "    return model"
   ]
  },
  {
   "cell_type": "code",
   "execution_count": null,
   "metadata": {},
   "outputs": [],
   "source": [
    "train_gen, val_gen, test_gen, class_weights, steps_per_epoch = preproc_pipeline(image_resolution=(224, 224),  \n",
    "                                                    classification_type='binary',\n",
    "                                                    use_data_augmentation=True,\n",
    "                                                    augmented_images_per_image=5,\n",
    "                                                    batch_size=32)\n",
    "\n",
    "inceptionv3_binary = binary_classification_inceptionv3_model()\n",
    "\n",
    "reduce_lr = ReduceLROnPlateau(monitor='val_loss', factor=0.1, patience=3, min_lr=1e-7)\n",
    "early_stopping = EarlyStopping(monitor='val_loss', patience=10, restore_best_weights=True)\n",
    "callbacks = [reduce_lr, early_stopping]\n",
    "    \n",
    "\n",
    "fitted_inceptionv3_binary = train_model(train_gen, val_gen, inceptionv3_binary, callbacks=callbacks, class_weights=class_weights, epochs=40, steps_per_epoch=steps_per_epoch)"
   ]
  },
  {
   "cell_type": "markdown",
   "metadata": {},
   "source": [
    "### **Multiclass Classification Models Fine-Tuning**"
   ]
  },
  {
   "cell_type": "markdown",
   "metadata": {},
   "source": [
    "#### **Sequential**"
   ]
  },
  {
   "cell_type": "markdown",
   "metadata": {},
   "source": [
    "#### **Transfer Learning**"
   ]
  },
  {
   "cell_type": "markdown",
   "metadata": {},
   "source": [
    "**VGG 16**"
   ]
  },
  {
   "cell_type": "code",
   "execution_count": 4,
   "metadata": {},
   "outputs": [],
   "source": [
    "def multiclass_classification_vgg16_model(input_shape):\n",
    "    \n",
    "    base_model = VGG16(weights='imagenet', include_top=False, input_shape=input_shape)\n",
    "    \n",
    "    # train some layers and freeze others\n",
    "    for layer in base_model.layers[:-7]:\n",
    "        layer.trainable = False\n",
    "    for layer in base_model.layers[-7:]:\n",
    "        layer.trainable = True\n",
    "\n",
    "    model = Sequential()\n",
    "    \n",
    "    model.add(base_model)\n",
    "    \n",
    "    model.add(Flatten())\n",
    "    \n",
    "    model.add(Dense(256, activation='relu'))\n",
    "    model.add(Dropout(0.5))\n",
    "    \n",
    "    model.add(Dense(8, activation='softmax'))\n",
    "    \n",
    "    # low learning rate for fine tuning\n",
    "    model.compile(optimizer=Adam(learning_rate=0.0001),\n",
    "                  loss='sparse_categorical_crossentropy',\n",
    "                  metrics=['accuracy'])\n",
    "    \n",
    "    return model"
   ]
  },
  {
   "cell_type": "code",
   "execution_count": null,
   "metadata": {},
   "outputs": [
    {
     "name": "stdout",
     "output_type": "stream",
     "text": [
      "Loading and preprocessing data...\n",
      "Total training images after augmentation: 38731\n",
      "Class weights computed.\n",
      "Data generators created.\n",
      "Epoch 1/30\n",
      "1032/1032 [==============================] - ETA: 0s - batch: 515.5000 - size: 31.9826 - loss: 1.8287 - accuracy: 0.2688"
     ]
    },
    {
     "name": "stderr",
     "output_type": "stream",
     "text": [
      "c:\\Users\\vic\\miniconda3\\envs\\tf\\lib\\site-packages\\keras\\engine\\training_v1.py:2332: UserWarning: `Model.state_updates` will be removed in a future version. This property should not be used in TensorFlow 2.0, as `updates` are applied automatically.\n",
      "  updates = self.state_updates\n"
     ]
    },
    {
     "name": "stdout",
     "output_type": "stream",
     "text": [
      "1032/1032 [==============================] - 527s 477ms/step - batch: 515.5000 - size: 31.9826 - loss: 1.8287 - accuracy: 0.2688 - val_loss: 1.3057 - val_accuracy: 0.4848\n",
      "Epoch 2/30\n",
      "1032/1032 [==============================] - 459s 444ms/step - batch: 515.5000 - size: 31.9826 - loss: 1.1259 - accuracy: 0.5282 - val_loss: 0.9875 - val_accuracy: 0.5927\n",
      "Epoch 3/30\n",
      "1032/1032 [==============================] - 459s 444ms/step - batch: 515.5000 - size: 31.9826 - loss: 0.7408 - accuracy: 0.6494 - val_loss: 0.7765 - val_accuracy: 0.7074\n",
      "Epoch 4/30\n",
      "1032/1032 [==============================] - 458s 443ms/step - batch: 515.5000 - size: 31.9826 - loss: 0.5473 - accuracy: 0.7260 - val_loss: 0.6861 - val_accuracy: 0.7707\n",
      "Epoch 5/30\n",
      "1032/1032 [==============================] - 458s 444ms/step - batch: 515.5000 - size: 31.9826 - loss: 0.4066 - accuracy: 0.7915 - val_loss: 0.5969 - val_accuracy: 0.7766\n",
      "Epoch 6/30\n",
      "1032/1032 [==============================] - 458s 444ms/step - batch: 515.5000 - size: 31.9826 - loss: 0.3219 - accuracy: 0.8244 - val_loss: 0.7196 - val_accuracy: 0.7816\n",
      "Epoch 7/30\n",
      "1032/1032 [==============================] - 458s 444ms/step - batch: 515.5000 - size: 31.9826 - loss: 0.2828 - accuracy: 0.8425 - val_loss: 0.5753 - val_accuracy: 0.8094\n",
      "Epoch 8/30\n",
      "1032/1032 [==============================] - 459s 444ms/step - batch: 515.5000 - size: 31.9855 - loss: 0.2331 - accuracy: 0.8711 - val_loss: 0.8212 - val_accuracy: 0.7723\n",
      "Epoch 9/30\n",
      "1032/1032 [==============================] - 462s 447ms/step - batch: 515.5000 - size: 31.9826 - loss: 0.2048 - accuracy: 0.8897 - val_loss: 0.5769 - val_accuracy: 0.8449\n",
      "Epoch 10/30\n",
      "1032/1032 [==============================] - 460s 445ms/step - batch: 515.5000 - size: 31.9797 - loss: 0.1764 - accuracy: 0.8983 - val_loss: 0.5916 - val_accuracy: 0.8339\n",
      "Epoch 11/30\n",
      "1032/1032 [==============================] - 459s 444ms/step - batch: 515.5000 - size: 31.9855 - loss: 0.1548 - accuracy: 0.9065 - val_loss: 0.7330 - val_accuracy: 0.8229\n",
      "Epoch 12/30\n",
      "1032/1032 [==============================] - 459s 444ms/step - batch: 515.5000 - size: 31.9826 - loss: 0.1519 - accuracy: 0.9140 - val_loss: 0.7243 - val_accuracy: 0.8128\n",
      "Epoch 13/30\n",
      "1032/1032 [==============================] - 460s 445ms/step - batch: 515.5000 - size: 31.9826 - loss: 0.1403 - accuracy: 0.9193 - val_loss: 0.6045 - val_accuracy: 0.8516\n",
      "Epoch 14/30\n",
      "1032/1032 [==============================] - 4088s 4s/step - batch: 515.5000 - size: 31.9797 - loss: 0.1350 - accuracy: 0.9229 - val_loss: 0.6395 - val_accuracy: 0.8651\n",
      "Epoch 15/30\n",
      "1032/1032 [==============================] - 1148s 1s/step - batch: 515.5000 - size: 31.9855 - loss: 0.1373 - accuracy: 0.9241 - val_loss: 0.9217 - val_accuracy: 0.8600\n"
     ]
    }
   ],
   "source": [
    "train_gen, val_gen, test_gen, class_weights, steps_per_epoch = preproc_pipeline(image_resolution=(224, 224), \n",
    "                                                    classification_type='multiclass',\n",
    "                                                    use_data_augmentation=True,\n",
    "                                                    augmented_images_per_image=5,\n",
    "                                                    batch_size=32)\n",
    "                                                    \n",
    "vgg16_multiclass = multiclass_classification_vgg16_model()\n",
    "\n",
    "reduce_lr = ReduceLROnPlateau(monitor='val_loss', factor=0.1, patience=3, min_lr=1e-7)\n",
    "early_stopping = EarlyStopping(monitor='val_loss', patience=10, restore_best_weights=True)\n",
    "callbacks = [reduce_lr, early_stopping]\n",
    "    \n",
    "\n",
    "fitted_vgg16_multiclass = train_model(train_gen, val_gen, vgg16_multiclass, callbacks=callbacks, class_weights=class_weights, epochs=40, steps_per_epoch=steps_per_epoch)"
   ]
  },
  {
   "cell_type": "code",
   "execution_count": null,
   "metadata": {},
   "outputs": [
    {
     "name": "stdout",
     "output_type": "stream",
     "text": [
      "Loading test data...\n",
      "Loading and preprocessing data...\n",
      "Total training images (no augmentation): 5533\n",
      "Class weights computed.\n",
      "Data generators created.\n",
      "Starting model evaluation...\n",
      "Total number of samples in the test generator: 1186\n"
     ]
    },
    {
     "name": "stderr",
     "output_type": "stream",
     "text": [
      "d:\\deep_learning_project\\notebooks\\..\\src\\utils\\modeling.py:82: UserWarning: `Model.predict_generator` is deprecated and will be removed in a future version. Please use `Model.predict`, which supports generators.\n",
      "  y_pred_prob = model.predict_generator(test_gen, steps=(total_samples // test_gen.batch_size) + 1) # +1 to account for remaining samples that don't make a full batch\n",
      "c:\\Users\\vic\\miniconda3\\envs\\tf\\lib\\site-packages\\keras\\engine\\training_v1.py:2356: UserWarning: `Model.state_updates` will be removed in a future version. This property should not be used in TensorFlow 2.0, as `updates` are applied automatically.\n",
      "  updates=self.state_updates,\n"
     ]
    },
    {
     "name": "stdout",
     "output_type": "stream",
     "text": [
      "\n",
      "Accuracy: 0.8331\n",
      "\n",
      "Classification Report:\n",
      "+---------------------+-------------+----------+------------+-----------+\n",
      "| Class               |   Precision |   Recall |   F1-Score |   Support |\n",
      "+=====================+=============+==========+============+===========+\n",
      "| Adenosis            |    0.968254 | 0.910448 |   0.938462 |        67 |\n",
      "+---------------------+-------------+----------+------------+-----------+\n",
      "| Ductal Carcinoma    |    0.891129 | 0.853282 |   0.871795 |       518 |\n",
      "+---------------------+-------------+----------+------------+-----------+\n",
      "| Fibroadenoma        |    0.860927 | 0.855263 |   0.858086 |       152 |\n",
      "+---------------------+-------------+----------+------------+-----------+\n",
      "| Lobular Carcinoma   |    0.635417 | 0.648936 |   0.642105 |        94 |\n",
      "+---------------------+-------------+----------+------------+-----------+\n",
      "| Mucinous Carcinoma  |    0.862385 | 0.79661  |   0.828194 |       118 |\n",
      "+---------------------+-------------+----------+------------+-----------+\n",
      "| Papillary Carcinoma |    0.603306 | 0.869048 |   0.712195 |        84 |\n",
      "+---------------------+-------------+----------+------------+-----------+\n",
      "| Phyllodes Tumor     |    0.933333 | 0.617647 |   0.743363 |        68 |\n",
      "+---------------------+-------------+----------+------------+-----------+\n",
      "| Tubular Adenoma     |    0.809524 | 1        |   0.894737 |        85 |\n",
      "+---------------------+-------------+----------+------------+-----------+\n",
      "\n",
      "Overall Metrics:\n",
      "+------------------------+----------+\n",
      "| Metric                 |    Value |\n",
      "+========================+==========+\n",
      "| Accuracy               | 0.833052 |\n",
      "+------------------------+----------+\n",
      "| Macro Avg Precision    | 0.820534 |\n",
      "+------------------------+----------+\n",
      "| Macro Avg Recall       | 0.818904 |\n",
      "+------------------------+----------+\n",
      "| Macro Avg F1-Score     | 0.811117 |\n",
      "+------------------------+----------+\n",
      "| Weighted Avg Precision | 0.844674 |\n",
      "+------------------------+----------+\n",
      "| Weighted Avg Recall    | 0.833052 |\n",
      "+------------------------+----------+\n",
      "| Weighted Avg F1-Score  | 0.834238 |\n",
      "+------------------------+----------+\n"
     ]
    },
    {
     "data": {
      "image/png": "[encoded data removed]",
      "text/plain": [
       "<Figure size 1000x700 with 2 Axes>"
      ]
     },
     "metadata": {},
     "output_type": "display_data"
    },
    {
     "name": "stdout",
     "output_type": "stream",
     "text": [
      "Plotted confusion matrix.\n",
      "Evaluation complete. Returning results.\n"
     ]
    },
    {
     "data": {
      "text/plain": [
       "{'accuracy': 0.8330522765598651,\n",
       " 'classification_report': {'Adenosis': {'precision': 0.9682539682539683,\n",
       "   'recall': 0.9104477611940298,\n",
       "   'f1-score': 0.9384615384615385,\n",
       "   'support': 67.0},\n",
       "  'Ductal Carcinoma': {'precision': 0.8911290322580645,\n",
       "   'recall': 0.8532818532818532,\n",
       "   'f1-score': 0.8717948717948718,\n",
       "   'support': 518.0},\n",
       "  'Fibroadenoma': {'precision': 0.8609271523178808,\n",
       "   'recall': 0.8552631578947368,\n",
       "   'f1-score': 0.858085808580858,\n",
       "   'support': 152.0},\n",
       "  'Lobular Carcinoma': {'precision': 0.6354166666666666,\n",
       "   'recall': 0.648936170212766,\n",
       "   'f1-score': 0.6421052631578947,\n",
       "   'support': 94.0},\n",
       "  'Mucinous Carcinoma': {'precision': 0.8623853211009175,\n",
       "   'recall': 0.7966101694915254,\n",
       "   'f1-score': 0.8281938325991189,\n",
       "   'support': 118.0},\n",
       "  'Papillary Carcinoma': {'precision': 0.6033057851239669,\n",
       "   'recall': 0.8690476190476191,\n",
       "   'f1-score': 0.7121951219512195,\n",
       "   'support': 84.0},\n",
       "  'Phyllodes Tumor': {'precision': 0.9333333333333333,\n",
       "   'recall': 0.6176470588235294,\n",
       "   'f1-score': 0.7433628318584071,\n",
       "   'support': 68.0},\n",
       "  'Tubular Adenoma': {'precision': 0.8095238095238095,\n",
       "   'recall': 1.0,\n",
       "   'f1-score': 0.8947368421052632,\n",
       "   'support': 85.0},\n",
       "  'accuracy': 0.8330522765598651,\n",
       "  'macro avg': {'precision': 0.820534383572326,\n",
       "   'recall': 0.8189042237432576,\n",
       "   'f1-score': 0.8111170138136464,\n",
       "   'support': 1186.0},\n",
       "  'weighted avg': {'precision': 0.8446739398972933,\n",
       "   'recall': 0.8330522765598651,\n",
       "   'f1-score': 0.8342379181650225,\n",
       "   'support': 1186.0}},\n",
       " 'confusion_matrix': array([[ 61,   1,   2,   0,   1,   0,   1,   1],\n",
       "        [  1, 442,   0,  29,   8,  34,   1,   3],\n",
       "        [  0,   8, 130,   0,   1,   2,   1,  10],\n",
       "        [  1,  27,   1,  61,   1,   2,   0,   1],\n",
       "        [  0,  10,   1,   4,  94,   6,   0,   3],\n",
       "        [  0,   5,   0,   2,   4,  73,   0,   0],\n",
       "        [  0,   3,  17,   0,   0,   4,  42,   2],\n",
       "        [  0,   0,   0,   0,   0,   0,   0,  85]], dtype=int64)}"
      ]
     },
     "execution_count": 6,
     "metadata": {},
     "output_type": "execute_result"
    }
   ],
   "source": [
    "fitted_vgg16_multiclass = load_model('src\\models\\VGG16_multiclass.h5\\saved_model.h5')\n",
    "evaluate_model(fitted_vgg16_multiclass, classification_type='multiclass')"
   ]
  },
  {
   "cell_type": "markdown",
   "metadata": {},
   "source": [
    "**InceptionV3**"
   ]
  },
  {
   "cell_type": "code",
   "execution_count": null,
   "metadata": {},
   "outputs": [],
   "source": [
    "def multiclass_classification_inceptionv3_model(input_shape=(224, 224, 3), trainable_layers=200, learning_rate=0.0001):\n",
    "    \n",
    "    base_model = InceptionV3(weights='imagenet', include_top=False, input_shape=input_shape)\n",
    "    \n",
    "    # train some layers and freeze others\n",
    "    for layer in base_model.layers[:-trainable_layers]:\n",
    "        layer.trainable = False\n",
    "    for layer in base_model.layers[-trainable_layers:]:\n",
    "        layer.trainable = True\n",
    "\n",
    "    model = Sequential()\n",
    "    \n",
    "    model.add(base_model)\n",
    "    \n",
    "    model.add(GlobalAveragePooling2D())\n",
    "    \n",
    "    model.add(Dense(1024, activation='relu'))\n",
    "    \n",
    "    model.add(Dense(8, activation='softmax'))\n",
    "    \n",
    "    # low learning rate for fine tuning\n",
    "    model.compile(optimizer=Adam(learning_rate=learning_rate),\n",
    "                  loss='sparse_categorical_crossentropy',\n",
    "                  metrics=['accuracy'])\n",
    "    \n",
    "    return model"
   ]
  },
  {
   "cell_type": "code",
   "execution_count": null,
   "metadata": {},
   "outputs": [],
   "source": [
    "train_gen, val_gen, test_gen, class_weights, steps_per_epoch = preproc_pipeline(image_resolution=(224, 224), \n",
    "                                                    classification_type='multiclass',\n",
    "                                                    use_data_augmentation=True,\n",
    "                                                    augmented_images_per_image=5,\n",
    "                                                    batch_size=32)\n",
    "                                                    \n",
    "inceptionv3_multiclass = multiclass_classification_inceptionv3_model()\n",
    "\n",
    "reduce_lr = ReduceLROnPlateau(monitor='val_loss', factor=0.1, patience=3, min_lr=1e-7)\n",
    "early_stopping = EarlyStopping(monitor='val_loss', patience=10, restore_best_weights=True)\n",
    "callbacks = [reduce_lr, early_stopping]\n",
    "\n",
    "fitted_inceptionv3_multiclass = train_model(train_gen, val_gen, inceptionv3_multiclass, callbacks=callbacks, class_weights=class_weights, epochs=40, steps_per_epoch=steps_per_epoch)"
   ]
  }
 ],
 "metadata": {
  "kernelspec": {
   "display_name": "Deep_Learning_v3",
   "language": "python",
   "name": "python3"
  },
  "language_info": {
   "codemirror_mode": {
    "name": "ipython",
    "version": 3
   },
   "file_extension": ".py",
   "mimetype": "text/x-python",
   "name": "python",
   "nbconvert_exporter": "python",
   "pygments_lexer": "ipython3",
   "version": "3.10.16"
  }
 },
 "nbformat": 4,
 "nbformat_minor": 2
}
