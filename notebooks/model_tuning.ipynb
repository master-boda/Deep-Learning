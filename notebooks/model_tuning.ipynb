{
 "cells": [
  {
   "cell_type": "markdown",
   "metadata": {},
   "source": [
    "## **Model Tuning Notebook**"
   ]
  },
  {
   "cell_type": "code",
   "execution_count": 1,
   "metadata": {},
   "outputs": [
    {
     "name": "stdout",
     "output_type": "stream",
     "text": [
      "Num GPUs Available:  1\n"
     ]
    }
   ],
   "source": [
    "from numba import cuda\n",
    "import tensorflow as tf\n",
    "\n",
    "def clear_gpu_memory():\n",
    "    device = cuda.get_current_device()\n",
    "    device.reset() # dump the memory contents to free up the memory (it accumulates over the session)\n",
    "    \n",
    "# CUDA (Nvidia GPU Computing)\n",
    "if len(tf.config.list_physical_devices('GPU')) > 0:\n",
    "    gpus = tf.config.list_physical_devices('GPU')\n",
    "    print(\"Num GPUs Available: \", len(gpus))\n",
    "    \n",
    "    clear_gpu_memory()\n",
    "    \n",
    "    tf.config.experimental.set_memory_growth(gpus[0], True)\n",
    "\n",
    "    tf.config.set_logical_device_configuration(\n",
    "    gpus[0], \n",
    "    [tf.config.LogicalDeviceConfiguration(memory_limit=8192)])  # limit to 4GB\n",
    "\n",
    "    tf.compat.v1.disable_eager_execution()\n"
   ]
  },
  {
   "cell_type": "code",
   "execution_count": 2,
   "metadata": {},
   "outputs": [
    {
     "name": "stdout",
     "output_type": "stream",
     "text": [
      "Project root: d:\\deep_learning_project CWD: d:\\deep_learning_project\n"
     ]
    }
   ],
   "source": [
    "# because the utils in the src are designed to be run from the root of the project,\n",
    "# and by default jupyter runs from the notebook directory we need to change the working directory to the root\n",
    "\n",
    "import os\n",
    "import sys\n",
    "sys.path.append('../')\n",
    "\n",
    "def find_project_root(filename=\".git\"): # .git is located in the root of the project\n",
    "    current_dir = os.getcwd()\n",
    "    while current_dir != os.path.dirname(current_dir): # stops only when at the root (moves up 1 level each iteration)\n",
    "        if filename in os.listdir(current_dir):\n",
    "            return current_dir\n",
    "        current_dir = os.path.dirname(current_dir)\n",
    "\n",
    "project_root = find_project_root()\n",
    "os.chdir(project_root)  # change the working directory to the project root\n",
    "\n",
    "print(\"Project root:\", project_root, \"CWD:\", os.getcwd())"
   ]
  },
  {
   "cell_type": "code",
   "execution_count": 3,
   "metadata": {},
   "outputs": [
    {
     "name": "stderr",
     "output_type": "stream",
     "text": [
      "C:\\Users\\vic\\AppData\\Local\\Temp\\ipykernel_40096\\50664938.py:4: DeprecationWarning: `import kerastuner` is deprecated, please use `import keras_tuner`.\n",
      "  import kerastuner as kt\n"
     ]
    }
   ],
   "source": [
    "%load_ext autoreload\n",
    "%autoreload 2\n",
    "\n",
    "import kerastuner as kt\n",
    "\n",
    "from src.utils.modeling import *\n",
    "from src.utils.preproc import *\n",
    "from src.utils.visualizations import *\n",
    "\n",
    "from keras.models import Model, Sequential, load_model\n",
    "from keras.applications import VGG16, InceptionV3\n",
    "from keras.layers import Dense, Flatten, Dropout, GlobalAveragePooling2D, Conv2D, MaxPooling2D\n",
    "from keras.optimizers import Adam\n",
    "from keras.callbacks import ReduceLROnPlateau, EarlyStopping\n",
    "\n",
    "from sklearn.metrics import classification_report"
   ]
  },
  {
   "cell_type": "markdown",
   "metadata": {},
   "source": [
    "### **Binary Classification Models Fine-Tuning**"
   ]
  },
  {
   "cell_type": "markdown",
   "metadata": {},
   "source": [
    "#### **Hyperband Model Tuning**"
   ]
  },
  {
   "cell_type": "code",
   "execution_count": null,
   "metadata": {},
   "outputs": [],
   "source": [
    "reduce_lr = ReduceLROnPlateau(monitor='val_loss', factor=0.1, patience=2, min_lr=1e-7)\n",
    "early_stopping = EarlyStopping(monitor='val_loss', patience=5, restore_best_weights=True)\n",
    "callbacks = [reduce_lr, early_stopping]\n",
    "\n",
    "tuner = kt.Hyperband(\n",
    "    keras_tuning_model_builder,\n",
    "    objective='val_loss',\n",
    "    max_epochs=10,\n",
    "    factor=2,\n",
    "    directory='hyperband_logs',\n",
    "    project_name='binary_breast_cancer_cnn',\n",
    ")\n",
    "\n",
    "train_gen, val_gen, test_gen, class_weights, steps_per_epoch = preproc_pipeline(\n",
    "    image_resolution=(224, 224),\n",
    "    classification_type='binary',\n",
    "    csv_path='image_metadata/updated_image_data.csv',\n",
    "    use_data_augmentation=False,\n",
    "    augmented_images_per_image=5,\n",
    "    batch_size=32\n",
    ")\n",
    "\n",
    "tuner.search(train_gen, validation_data=val_gen, epochs=10, callbacks=callbacks)"
   ]
  },
  {
   "cell_type": "markdown",
   "metadata": {},
   "source": [
    "#### **Transfer Learning**"
   ]
  },
  {
   "cell_type": "markdown",
   "metadata": {},
   "source": [
    "**VGG 16**"
   ]
  },
  {
   "cell_type": "code",
   "execution_count": 7,
   "metadata": {},
   "outputs": [],
   "source": [
    "def binary_classification_vgg16_model(input_shape=(224, 224, 3), trainable_layers=10, learning_rate=0.0001):\n",
    "    \n",
    "    base_model = VGG16(weights='imagenet', include_top=False, input_shape=input_shape)\n",
    "    \n",
    "    # train some layers and freeze others\n",
    "    for layer in base_model.layers[:-trainable_layers]:\n",
    "        layer.trainable = False\n",
    "    for layer in base_model.layers[-trainable_layers:]:\n",
    "        layer.trainable = True\n",
    "\n",
    "    model = Sequential()\n",
    "    \n",
    "    model.add(base_model)\n",
    "    \n",
    "    model.add(Flatten())\n",
    "    \n",
    "    model.add(Dense(256, activation='relu'))\n",
    "    model.add(Dropout(0.5))\n",
    "    \n",
    "    model.add(Dense(1, activation='sigmoid'))\n",
    "    \n",
    "    # low learning rate for fine tuning\n",
    "    model.compile(optimizer=Adam(learning_rate=learning_rate),\n",
    "                  loss='binary_crossentropy',\n",
    "                  metrics=['accuracy'])\n",
    "    \n",
    "    return model"
   ]
  },
  {
   "cell_type": "code",
   "execution_count": 8,
   "metadata": {},
   "outputs": [
    {
     "name": "stdout",
     "output_type": "stream",
     "text": [
      "Loading and preprocessing data...\n",
      "Total training images after augmentation: 33198\n",
      "Class weights computed.\n",
      "Data generators created.\n",
      "Epoch 1/10\n",
      "860/860 [==============================] - ETA: 0s - batch: 429.5000 - size: 31.9826 - loss: 0.4522 - accuracy: 0.7839"
     ]
    },
    {
     "name": "stderr",
     "output_type": "stream",
     "text": [
      "c:\\Users\\vic\\miniconda3\\envs\\tf\\lib\\site-packages\\keras\\engine\\training_v1.py:2332: UserWarning: `Model.state_updates` will be removed in a future version. This property should not be used in TensorFlow 2.0, as `updates` are applied automatically.\n",
      "  updates = self.state_updates\n"
     ]
    },
    {
     "name": "stdout",
     "output_type": "stream",
     "text": [
      "860/860 [==============================] - 528s 595ms/step - batch: 429.5000 - size: 31.9826 - loss: 0.4522 - accuracy: 0.7839 - val_loss: 0.3988 - val_accuracy: 0.8516 - lr: 1.0000e-04\n",
      "Epoch 2/10\n",
      "860/860 [==============================] - 584s 679ms/step - batch: 429.5000 - size: 31.9826 - loss: 0.2203 - accuracy: 0.9131 - val_loss: 0.1514 - val_accuracy: 0.9401 - lr: 1.0000e-04\n",
      "Epoch 3/10\n",
      "860/860 [==============================] - 514s 597ms/step - batch: 429.5000 - size: 31.9826 - loss: 0.1701 - accuracy: 0.9322 - val_loss: 0.1296 - val_accuracy: 0.9469 - lr: 1.0000e-04\n",
      "Epoch 4/10\n",
      "860/860 [==============================] - 631s 733ms/step - batch: 429.5000 - size: 31.9860 - loss: 0.1352 - accuracy: 0.9460 - val_loss: 0.1589 - val_accuracy: 0.9376 - lr: 1.0000e-04\n",
      "Epoch 5/10\n",
      "860/860 [==============================] - 718s 834ms/step - batch: 429.5000 - size: 31.9791 - loss: 0.1035 - accuracy: 0.9583 - val_loss: 0.0914 - val_accuracy: 0.9646 - lr: 1.0000e-04\n",
      "Epoch 6/10\n",
      "860/860 [==============================] - 674s 783ms/step - batch: 429.5000 - size: 31.9826 - loss: 0.0958 - accuracy: 0.9628 - val_loss: 0.1419 - val_accuracy: 0.9477 - lr: 1.0000e-04\n",
      "Epoch 7/10\n",
      "860/860 [==============================] - 737s 856ms/step - batch: 429.5000 - size: 31.9826 - loss: 0.0857 - accuracy: 0.9681 - val_loss: 0.1332 - val_accuracy: 0.9528 - lr: 1.0000e-04\n",
      "Epoch 8/10\n",
      "860/860 [==============================] - 699s 809ms/step - batch: 429.5000 - size: 31.9860 - loss: 0.0262 - accuracy: 0.9908 - val_loss: 0.0824 - val_accuracy: 0.9781 - lr: 1.0000e-05\n",
      "Epoch 9/10\n",
      "860/860 [==============================] - 711s 822ms/step - batch: 429.5000 - size: 31.9791 - loss: 0.0158 - accuracy: 0.9944 - val_loss: 0.0861 - val_accuracy: 0.9806 - lr: 1.0000e-05\n",
      "Epoch 10/10\n",
      "860/860 [==============================] - 618s 718ms/step - batch: 429.5000 - size: 31.9826 - loss: 0.0157 - accuracy: 0.9944 - val_loss: 0.0861 - val_accuracy: 0.9806 - lr: 1.0000e-05\n"
     ]
    }
   ],
   "source": [
    "train_gen, val_gen, test_gen, class_weights, steps_per_epoch = preproc_pipeline(image_resolution=(224, 224),  \n",
    "                                                    classification_type='binary',\n",
    "                                                    use_data_augmentation=True,\n",
    "                                                    augmented_images_per_image=5,\n",
    "                                                    batch_size=32)\n",
    "\n",
    "vgg16_binary = binary_classification_vgg16_model()\n",
    "\n",
    "reduce_lr = ReduceLROnPlateau(monitor='val_loss', factor=0.1, patience=2, min_lr=1e-7)\n",
    "early_stopping = EarlyStopping(monitor='val_loss', patience=5, restore_best_weights=True)\n",
    "callbacks = [reduce_lr, early_stopping]\n",
    "    \n",
    "\n",
    "fitted_vgg16_binary = train_model(train_gen, val_gen, vgg16_binary, callbacks=callbacks, class_weights=class_weights, epochs=10, steps_per_epoch=steps_per_epoch)"
   ]
  },
  {
   "cell_type": "code",
   "execution_count": 17,
   "metadata": {},
   "outputs": [],
   "source": [
    "save_model(fitted_vgg16_binary, 'src/models/VGG16_binary')\n",
    "save_training_history(fitted_vgg16_binary, 'src/models/VGG16_binary')"
   ]
  },
  {
   "cell_type": "code",
   "execution_count": 20,
   "metadata": {},
   "outputs": [
    {
     "name": "stdout",
     "output_type": "stream",
     "text": [
      "Loading test data...\n",
      "Loading and preprocessing data...\n",
      "Total training images (no augmentation): 5533\n",
      "Class weights computed.\n",
      "Data generators created.\n",
      "Starting model evaluation...\n",
      "Total number of samples in the test generator: 1186\n"
     ]
    },
    {
     "name": "stderr",
     "output_type": "stream",
     "text": [
      "d:\\deep_learning_project\\src\\utils\\modeling.py:102: UserWarning: `Model.predict_generator` is deprecated and will be removed in a future version. Please use `Model.predict`, which supports generators.\n",
      "  # select the appropriate class names based on the classification type\n",
      "c:\\Users\\vic\\miniconda3\\envs\\tf\\lib\\site-packages\\keras\\engine\\training_v1.py:2356: UserWarning: `Model.state_updates` will be removed in a future version. This property should not be used in TensorFlow 2.0, as `updates` are applied automatically.\n",
      "  updates=self.state_updates,\n"
     ]
    },
    {
     "name": "stdout",
     "output_type": "stream",
     "text": [
      "\n",
      "Accuracy: 0.9848\n",
      "\n",
      "Classification Report:\n",
      "+-----------+-------------+----------+------------+-----------+\n",
      "| Class     |   Precision |   Recall |   F1-Score |   Support |\n",
      "+===========+=============+==========+============+===========+\n",
      "| Benign    |    0.973262 | 0.978495 |   0.975871 |       372 |\n",
      "+-----------+-------------+----------+------------+-----------+\n",
      "| Malignant |    0.990148 | 0.987715 |   0.98893  |       814 |\n",
      "+-----------+-------------+----------+------------+-----------+\n",
      "\n",
      "Overall Metrics:\n",
      "+------------------------+----------+\n",
      "| Metric                 |    Value |\n",
      "+========================+==========+\n",
      "| Accuracy               | 0.984823 |\n",
      "+------------------------+----------+\n",
      "| Macro Avg Precision    | 0.981705 |\n",
      "+------------------------+----------+\n",
      "| Macro Avg Recall       | 0.983105 |\n",
      "+------------------------+----------+\n",
      "| Macro Avg F1-Score     | 0.982401 |\n",
      "+------------------------+----------+\n",
      "| Weighted Avg Precision | 0.984851 |\n",
      "+------------------------+----------+\n",
      "| Weighted Avg Recall    | 0.984823 |\n",
      "+------------------------+----------+\n",
      "| Weighted Avg F1-Score  | 0.984834 |\n",
      "+------------------------+----------+\n",
      "\n",
      "Confusion Matrix:\n"
     ]
    },
    {
     "data": {
      "image/png": "[encoded data removed]",
      "text/plain": [
       "<Figure size 1000x700 with 2 Axes>"
      ]
     },
     "metadata": {},
     "output_type": "display_data"
    },
    {
     "name": "stdout",
     "output_type": "stream",
     "text": [
      "Evaluation complete. Returning results.\n"
     ]
    },
    {
     "data": {
      "text/plain": [
       "{'accuracy': 0.984822934232715,\n",
       " 'classification_report': {'Benign': {'precision': 0.9732620320855615,\n",
       "   'recall': 0.978494623655914,\n",
       "   'f1-score': 0.9758713136729222,\n",
       "   'support': 372.0},\n",
       "  'Malignant': {'precision': 0.9901477832512315,\n",
       "   'recall': 0.9877149877149877,\n",
       "   'f1-score': 0.988929889298893,\n",
       "   'support': 814.0},\n",
       "  'accuracy': 0.984822934232715,\n",
       "  'macro avg': {'precision': 0.9817049076683966,\n",
       "   'recall': 0.9831048056854508,\n",
       "   'f1-score': 0.9824006014859077,\n",
       "   'support': 1186.0},\n",
       "  'weighted avg': {'precision': 0.9848514093611562,\n",
       "   'recall': 0.984822934232715,\n",
       "   'f1-score': 0.9848339448361096,\n",
       "   'support': 1186.0}},\n",
       " 'confusion_matrix': array([[364,   8],\n",
       "        [ 10, 804]], dtype=int64)}"
      ]
     },
     "execution_count": 20,
     "metadata": {},
     "output_type": "execute_result"
    }
   ],
   "source": [
    "fitted_vgg16_binary = load_model('src\\models\\VGG16_binary\\saved_model.h5')\n",
    "evaluate_model(fitted_vgg16_binary, classification_type='binary')"
   ]
  },
  {
   "cell_type": "markdown",
   "metadata": {},
   "source": [
    "**InceptionV3**"
   ]
  },
  {
   "cell_type": "code",
   "execution_count": 4,
   "metadata": {},
   "outputs": [],
   "source": [
    "def binary_classification_inceptionv3_model(input_shape=(224, 224, 3), trainable_layers=200, learning_rate=0.0001):\n",
    "    \n",
    "    base_model = InceptionV3(weights='imagenet', include_top=False, input_shape=input_shape)\n",
    "    \n",
    "    # train some layers and freeze others\n",
    "    for layer in base_model.layers[:-trainable_layers]:\n",
    "        layer.trainable = False\n",
    "    for layer in base_model.layers[-trainable_layers:]:\n",
    "        layer.trainable = True\n",
    "\n",
    "    model = Sequential()\n",
    "    \n",
    "    model.add(base_model)\n",
    "    \n",
    "    model.add(GlobalAveragePooling2D())\n",
    "    \n",
    "    model.add(Dense(1024, activation='relu'))\n",
    "    \n",
    "    model.add(Dense(1, activation='sigmoid'))\n",
    "    \n",
    "    # low learning rate for fine tuning\n",
    "    model.compile(optimizer=Adam(learning_rate=learning_rate),\n",
    "                  loss='binary_crossentropy',\n",
    "                  metrics=['accuracy'])\n",
    "    \n",
    "    return model"
   ]
  },
  {
   "cell_type": "code",
   "execution_count": null,
   "metadata": {},
   "outputs": [],
   "source": [
    "train_gen, val_gen, test_gen, class_weights, steps_per_epoch = preproc_pipeline(image_resolution=(224, 224),  \n",
    "                                                    classification_type='binary',\n",
    "                                                    use_data_augmentation=True,\n",
    "                                                    augmented_images_per_image=5,\n",
    "                                                    batch_size=32)\n",
    "\n",
    "inceptionv3_binary = binary_classification_inceptionv3_model()\n",
    "\n",
    "reduce_lr = ReduceLROnPlateau(monitor='val_loss', factor=0.1, patience=3, min_lr=1e-7)\n",
    "early_stopping = EarlyStopping(monitor='val_loss', patience=10, restore_best_weights=True)\n",
    "callbacks = [reduce_lr, early_stopping]\n",
    "    \n",
    "\n",
    "fitted_inceptionv3_binary = train_model(train_gen, val_gen, inceptionv3_binary, callbacks=callbacks, class_weights=class_weights, epochs=40, steps_per_epoch=steps_per_epoch)"
   ]
  },
  {
   "cell_type": "markdown",
   "metadata": {},
   "source": [
    "### **Multiclass Classification Models Fine-Tuning**"
   ]
  },
  {
   "cell_type": "markdown",
   "metadata": {},
   "source": [
    "#### **Hyperband Model Tuning**"
   ]
  },
  {
   "cell_type": "code",
   "execution_count": null,
   "metadata": {},
   "outputs": [],
   "source": [
    "reduce_lr = ReduceLROnPlateau(monitor='val_loss', factor=0.1, patience=2, min_lr=1e-7)\n",
    "early_stopping = EarlyStopping(monitor='val_loss', patience=5, restore_best_weights=True)\n",
    "callbacks = [reduce_lr, early_stopping]\n",
    "\n",
    "tuner = kt.Hyperband(\n",
    "    keras_tuning_model_builder,\n",
    "    objective='val_loss',\n",
    "    max_epochs=10,\n",
    "    factor=2,\n",
    "    directory='hyperband_logs',\n",
    "    project_name='multiclass_breast_cancer_cnn',\n",
    ")\n",
    "\n",
    "train_gen, val_gen, test_gen, class_weights, steps_per_epoch = preproc_pipeline(\n",
    "    image_resolution=(224, 224),\n",
    "    classification_type='multiclass',\n",
    "    csv_path='image_metadata/updated_image_data.csv',\n",
    "    use_data_augmentation=True,\n",
    "    augmented_images_per_image=5,\n",
    "    batch_size=32\n",
    ")\n",
    "tuner.search(train_gen, validation_data=val_gen, epochs=10, callbacks=callbacks)"
   ]
  },
  {
   "cell_type": "markdown",
   "metadata": {},
   "source": [
    "#### **Transfer Learning**"
   ]
  },
  {
   "cell_type": "markdown",
   "metadata": {},
   "source": [
    "**VGG 16**"
   ]
  },
  {
   "cell_type": "code",
   "execution_count": 4,
   "metadata": {},
   "outputs": [],
   "source": [
    "def multiclass_classification_vgg16_model(input_shape=(224, 224, 3), trainable_layers=10):\n",
    "    \n",
    "    base_model = VGG16(weights='imagenet', include_top=False, input_shape=input_shape)\n",
    "    \n",
    "    # train some layers and freeze others\n",
    "    for layer in base_model.layers[:-trainable_layers]:\n",
    "        layer.trainable = False\n",
    "    for layer in base_model.layers[-trainable_layers:]:\n",
    "        layer.trainable = True\n",
    "\n",
    "    model = Sequential()\n",
    "    \n",
    "    model.add(base_model)\n",
    "    \n",
    "    model.add(Flatten())\n",
    "    \n",
    "    model.add(Dense(256, activation='relu'))\n",
    "    model.add(Dropout(0.5))\n",
    "    \n",
    "    model.add(Dense(8, activation='softmax'))\n",
    "    \n",
    "    # low learning rate for fine tuning\n",
    "    model.compile(optimizer=Adam(learning_rate=0.0001),\n",
    "                  loss='sparse_categorical_crossentropy',\n",
    "                  metrics=['accuracy'])\n",
    "    \n",
    "    return model"
   ]
  },
  {
   "cell_type": "code",
   "execution_count": 5,
   "metadata": {},
   "outputs": [
    {
     "name": "stdout",
     "output_type": "stream",
     "text": [
      "Loading and preprocessing data...\n",
      "Total training images after augmentation: 33198\n",
      "Class weights computed.\n",
      "Data generators created.\n",
      "Epoch 1/30\n",
      "860/860 [==============================] - ETA: 0s - batch: 429.5000 - size: 31.9826 - loss: 2.0480 - accuracy: 0.1137"
     ]
    },
    {
     "name": "stderr",
     "output_type": "stream",
     "text": [
      "c:\\Users\\vic\\miniconda3\\envs\\tf\\lib\\site-packages\\keras\\engine\\training_v1.py:2332: UserWarning: `Model.state_updates` will be removed in a future version. This property should not be used in TensorFlow 2.0, as `updates` are applied automatically.\n",
      "  updates = self.state_updates\n"
     ]
    },
    {
     "name": "stdout",
     "output_type": "stream",
     "text": [
      "860/860 [==============================] - 666s 729ms/step - batch: 429.5000 - size: 31.9826 - loss: 2.0480 - accuracy: 0.1137 - val_loss: 1.9335 - val_accuracy: 0.1838 - lr: 1.0000e-04\n",
      "Epoch 2/30\n",
      "860/860 [==============================] - 653s 759ms/step - batch: 429.5000 - size: 31.9826 - loss: 1.5247 - accuracy: 0.3980 - val_loss: 1.4442 - val_accuracy: 0.4654 - lr: 1.0000e-04\n",
      "Epoch 3/30\n",
      "860/860 [==============================] - 723s 839ms/step - batch: 429.5000 - size: 31.9826 - loss: 1.0652 - accuracy: 0.5498 - val_loss: 1.0377 - val_accuracy: 0.6046 - lr: 1.0000e-04\n",
      "Epoch 4/30\n",
      "860/860 [==============================] - 705s 819ms/step - batch: 429.5000 - size: 31.9826 - loss: 0.7697 - accuracy: 0.6502 - val_loss: 0.8138 - val_accuracy: 0.6880 - lr: 1.0000e-04\n",
      "Epoch 5/30\n",
      "860/860 [==============================] - 664s 771ms/step - batch: 429.5000 - size: 31.9826 - loss: 0.5918 - accuracy: 0.7218 - val_loss: 0.7032 - val_accuracy: 0.7285 - lr: 1.0000e-04\n",
      "Epoch 6/30\n",
      "860/860 [==============================] - 794s 923ms/step - batch: 429.5000 - size: 31.9826 - loss: 0.4547 - accuracy: 0.7778 - val_loss: 0.6155 - val_accuracy: 0.7673 - lr: 1.0000e-04\n",
      "Epoch 7/30\n",
      "860/860 [==============================] - 770s 895ms/step - batch: 429.5000 - size: 31.9826 - loss: 0.3723 - accuracy: 0.8159 - val_loss: 0.6987 - val_accuracy: 0.7791 - lr: 1.0000e-04\n",
      "Epoch 8/30\n",
      "860/860 [==============================] - 773s 899ms/step - batch: 429.5000 - size: 31.9826 - loss: 0.3072 - accuracy: 0.8409 - val_loss: 0.5951 - val_accuracy: 0.8035 - lr: 1.0000e-04\n",
      "Epoch 9/30\n",
      "860/860 [==============================] - 770s 894ms/step - batch: 429.5000 - size: 31.9826 - loss: 0.2863 - accuracy: 0.8550 - val_loss: 0.5432 - val_accuracy: 0.8246 - lr: 1.0000e-04\n",
      "Epoch 10/30\n",
      "860/860 [==============================] - 772s 897ms/step - batch: 429.5000 - size: 31.9860 - loss: 0.2237 - accuracy: 0.8783 - val_loss: 0.5715 - val_accuracy: 0.8305 - lr: 1.0000e-04\n",
      "Epoch 11/30\n",
      "860/860 [==============================] - 773s 898ms/step - batch: 429.5000 - size: 31.9826 - loss: 0.2260 - accuracy: 0.8826 - val_loss: 0.5909 - val_accuracy: 0.8094 - lr: 1.0000e-04\n",
      "Epoch 12/30\n",
      "860/860 [==============================] - 773s 899ms/step - batch: 429.5000 - size: 31.9791 - loss: 0.1810 - accuracy: 0.8992 - val_loss: 0.5932 - val_accuracy: 0.8137 - lr: 1.0000e-04\n",
      "Epoch 13/30\n",
      "860/860 [==============================] - 775s 900ms/step - batch: 429.5000 - size: 31.9826 - loss: 0.0854 - accuracy: 0.9434 - val_loss: 0.4506 - val_accuracy: 0.8710 - lr: 1.0000e-05\n",
      "Epoch 14/30\n",
      "860/860 [==============================] - 773s 898ms/step - batch: 429.5000 - size: 31.9826 - loss: 0.0551 - accuracy: 0.9611 - val_loss: 0.4527 - val_accuracy: 0.8879 - lr: 1.0000e-05\n",
      "Epoch 15/30\n",
      "860/860 [==============================] - 771s 896ms/step - batch: 429.5000 - size: 31.9860 - loss: 0.0433 - accuracy: 0.9675 - val_loss: 0.5574 - val_accuracy: 0.8862 - lr: 1.0000e-05\n",
      "Epoch 16/30\n",
      "860/860 [==============================] - 771s 896ms/step - batch: 429.5000 - size: 31.9826 - loss: 0.0362 - accuracy: 0.9715 - val_loss: 0.5728 - val_accuracy: 0.8921 - lr: 1.0000e-05\n",
      "Epoch 17/30\n",
      "860/860 [==============================] - 770s 894ms/step - batch: 429.5000 - size: 31.9826 - loss: 0.0323 - accuracy: 0.9744 - val_loss: 0.5665 - val_accuracy: 0.8912 - lr: 1.0000e-06\n",
      "Epoch 18/30\n",
      "860/860 [==============================] - 771s 895ms/step - batch: 429.5000 - size: 31.9791 - loss: 0.0296 - accuracy: 0.9751 - val_loss: 0.5010 - val_accuracy: 0.8971 - lr: 1.0000e-06\n",
      "Epoch 19/30\n",
      "860/860 [==============================] - 772s 897ms/step - batch: 429.5000 - size: 31.9826 - loss: 0.0290 - accuracy: 0.9752 - val_loss: 0.4973 - val_accuracy: 0.8971 - lr: 1.0000e-06\n",
      "Epoch 20/30\n",
      "860/860 [==============================] - 775s 900ms/step - batch: 429.5000 - size: 31.9860 - loss: 0.0280 - accuracy: 0.9761 - val_loss: 0.4987 - val_accuracy: 0.8980 - lr: 1.0000e-07\n",
      "Epoch 21/30\n",
      "860/860 [==============================] - 773s 898ms/step - batch: 429.5000 - size: 31.9791 - loss: 0.0291 - accuracy: 0.9763 - val_loss: 0.4969 - val_accuracy: 0.8997 - lr: 1.0000e-07\n",
      "Epoch 22/30\n",
      "860/860 [==============================] - 773s 898ms/step - batch: 429.5000 - size: 31.9860 - loss: 0.0277 - accuracy: 0.9772 - val_loss: 0.5325 - val_accuracy: 0.8997 - lr: 1.0000e-07\n",
      "Epoch 23/30\n",
      "860/860 [==============================] - 774s 899ms/step - batch: 429.5000 - size: 31.9791 - loss: 0.0271 - accuracy: 0.9761 - val_loss: 0.4976 - val_accuracy: 0.8997 - lr: 1.0000e-07\n"
     ]
    }
   ],
   "source": [
    "train_gen, val_gen, test_gen, class_weights, steps_per_epoch = preproc_pipeline(image_resolution=(224, 224), \n",
    "                                                    classification_type='multiclass',\n",
    "                                                    use_data_augmentation=True,\n",
    "                                                    augmented_images_per_image=5,\n",
    "                                                    batch_size=32)\n",
    "                                                    \n",
    "vgg16_multiclass = multiclass_classification_vgg16_model()\n",
    "\n",
    "reduce_lr = ReduceLROnPlateau(monitor='val_loss', factor=0.1, patience=3, min_lr=1e-7)\n",
    "early_stopping = EarlyStopping(monitor='val_loss', patience=10, restore_best_weights=True)\n",
    "callbacks = [reduce_lr, early_stopping]\n",
    "\n",
    "fitted_vgg16_multiclass = train_model(train_gen, val_gen, vgg16_multiclass, callbacks=callbacks, class_weights=class_weights, epochs=30, steps_per_epoch=steps_per_epoch)"
   ]
  },
  {
   "cell_type": "code",
   "execution_count": 10,
   "metadata": {},
   "outputs": [
    {
     "name": "stderr",
     "output_type": "stream",
     "text": [
      "WARNING:absl:Found untraced functions such as _jit_compiled_convolution_op, _jit_compiled_convolution_op, _jit_compiled_convolution_op, _jit_compiled_convolution_op, _jit_compiled_convolution_op while saving (showing 5 of 13). These functions will not be directly callable after loading.\n"
     ]
    },
    {
     "name": "stdout",
     "output_type": "stream",
     "text": [
      "INFO:tensorflow:Assets written to: ram://af12a1f1-eec7-491e-9610-320a8c49c155/assets\n"
     ]
    },
    {
     "name": "stderr",
     "output_type": "stream",
     "text": [
      "INFO:tensorflow:Assets written to: ram://af12a1f1-eec7-491e-9610-320a8c49c155/assets\n"
     ]
    }
   ],
   "source": [
    "save_model(fitted_vgg16_multiclass, 'src/models/VGG16_mutlticlass')\n",
    "save_training_history(fitted_vgg16_multiclass, 'src/models/VGG16_multiclass')"
   ]
  },
  {
   "cell_type": "code",
   "execution_count": null,
   "metadata": {},
   "outputs": [],
   "source": [
    "fitted_vgg16_multiclass = load_model('src\\models\\VGG16_multiclass\\saved_model.h5')\n",
    "evaluate_model(fitted_vgg16_multiclass, classification_type='multiclass')"
   ]
  },
  {
   "cell_type": "markdown",
   "metadata": {},
   "source": [
    "**InceptionV3**"
   ]
  },
  {
   "cell_type": "code",
   "execution_count": 6,
   "metadata": {},
   "outputs": [],
   "source": [
    "def multiclass_classification_inceptionv3_model(input_shape=(224, 224, 3), trainable_layers=200, learning_rate=0.0001):\n",
    "    \n",
    "    base_model = InceptionV3(weights='imagenet', include_top=False, input_shape=input_shape)\n",
    "    \n",
    "    # train some layers and freeze others\n",
    "    for layer in base_model.layers[:-trainable_layers]:\n",
    "        layer.trainable = False\n",
    "    for layer in base_model.layers[-trainable_layers:]:\n",
    "        layer.trainable = True\n",
    "\n",
    "    model = Sequential()\n",
    "    \n",
    "    model.add(base_model)\n",
    "    \n",
    "    model.add(GlobalAveragePooling2D())\n",
    "    \n",
    "    model.add(Dense(1024, activation='relu'))\n",
    "    model.add(Dropout(0.2))\n",
    "    \n",
    "    model.add(Dense(8, activation='softmax'))\n",
    "    \n",
    "    # low learning rate for fine tuning\n",
    "    model.compile(optimizer=Adam(learning_rate=learning_rate),\n",
    "                  loss='sparse_categorical_crossentropy',\n",
    "                  metrics=['accuracy'])\n",
    "    \n",
    "    return model"
   ]
  },
  {
   "cell_type": "code",
   "execution_count": 7,
   "metadata": {},
   "outputs": [
    {
     "name": "stdout",
     "output_type": "stream",
     "text": [
      "Loading and preprocessing data...\n",
      "Total training images after augmentation: 33198\n",
      "Class weights computed.\n",
      "Data generators created.\n",
      "WARNING:tensorflow:From c:\\Users\\vic\\miniconda3\\envs\\tf\\lib\\site-packages\\keras\\layers\\normalization\\batch_normalization.py:562: _colocate_with (from tensorflow.python.framework.ops) is deprecated and will be removed in a future version.\n",
      "Instructions for updating:\n",
      "Colocations handled automatically by placer.\n",
      "Epoch 1/40\n",
      "860/860 [==============================] - ETA: 0s - batch: 429.5000 - size: 31.9826 - loss: 0.8121 - accuracy: 0.6382"
     ]
    },
    {
     "name": "stderr",
     "output_type": "stream",
     "text": [
      "c:\\Users\\vic\\miniconda3\\envs\\tf\\lib\\site-packages\\keras\\engine\\training_v1.py:2332: UserWarning: `Model.state_updates` will be removed in a future version. This property should not be used in TensorFlow 2.0, as `updates` are applied automatically.\n",
      "  updates = self.state_updates\n"
     ]
    },
    {
     "name": "stdout",
     "output_type": "stream",
     "text": [
      "860/860 [==============================] - 455s 507ms/step - batch: 429.5000 - size: 31.9826 - loss: 0.8121 - accuracy: 0.6382 - val_loss: 0.5017 - val_accuracy: 0.8196 - lr: 1.0000e-04\n",
      "Epoch 2/40\n",
      "860/860 [==============================] - 461s 521ms/step - batch: 429.5000 - size: 31.9826 - loss: 0.2934 - accuracy: 0.8484 - val_loss: 0.6756 - val_accuracy: 0.7875 - lr: 1.0000e-04\n",
      "Epoch 3/40\n",
      "860/860 [==============================] - 457s 516ms/step - batch: 429.5000 - size: 31.9826 - loss: 0.1834 - accuracy: 0.9025 - val_loss: 0.5954 - val_accuracy: 0.8373 - lr: 1.0000e-04\n",
      "Epoch 4/40\n",
      "860/860 [==============================] - 458s 517ms/step - batch: 429.5000 - size: 31.9826 - loss: 0.1498 - accuracy: 0.9169 - val_loss: 0.5097 - val_accuracy: 0.8491 - lr: 1.0000e-04\n",
      "Epoch 5/40\n",
      "860/860 [==============================] - 458s 517ms/step - batch: 429.5000 - size: 31.9826 - loss: 0.0754 - accuracy: 0.9501 - val_loss: 0.3517 - val_accuracy: 0.8988 - lr: 1.0000e-05\n",
      "Epoch 6/40\n",
      "860/860 [==============================] - 465s 525ms/step - batch: 429.5000 - size: 31.9826 - loss: 0.0535 - accuracy: 0.9626 - val_loss: 0.3448 - val_accuracy: 0.9047 - lr: 1.0000e-05\n",
      "Epoch 7/40\n",
      "860/860 [==============================] - 463s 520ms/step - batch: 429.5000 - size: 31.9826 - loss: 0.0455 - accuracy: 0.9688 - val_loss: 0.3933 - val_accuracy: 0.9039 - lr: 1.0000e-05\n",
      "Epoch 8/40\n",
      "860/860 [==============================] - 466s 524ms/step - batch: 429.5000 - size: 31.9826 - loss: 0.0415 - accuracy: 0.9682 - val_loss: 0.3394 - val_accuracy: 0.9047 - lr: 1.0000e-05\n",
      "Epoch 9/40\n",
      "860/860 [==============================] - 455s 510ms/step - batch: 429.5000 - size: 31.9826 - loss: 0.0395 - accuracy: 0.9716 - val_loss: 0.3622 - val_accuracy: 0.8980 - lr: 1.0000e-05\n",
      "Epoch 10/40\n",
      "860/860 [==============================] - 469s 526ms/step - batch: 429.5000 - size: 31.9860 - loss: 0.0354 - accuracy: 0.9739 - val_loss: 0.3496 - val_accuracy: 0.9089 - lr: 1.0000e-05\n",
      "Epoch 11/40\n",
      "860/860 [==============================] - 463s 518ms/step - batch: 429.5000 - size: 31.9791 - loss: 0.0313 - accuracy: 0.9761 - val_loss: 0.3634 - val_accuracy: 0.9013 - lr: 1.0000e-05\n",
      "Epoch 12/40\n",
      "860/860 [==============================] - 464s 517ms/step - batch: 429.5000 - size: 31.9826 - loss: 0.0296 - accuracy: 0.9769 - val_loss: 0.3670 - val_accuracy: 0.9030 - lr: 1.0000e-06\n",
      "Epoch 13/40\n",
      "860/860 [==============================] - 464s 517ms/step - batch: 429.5000 - size: 31.9826 - loss: 0.0290 - accuracy: 0.9775 - val_loss: 0.3567 - val_accuracy: 0.9064 - lr: 1.0000e-06\n",
      "Epoch 14/40\n",
      "860/860 [==============================] - 476s 531ms/step - batch: 429.5000 - size: 31.9826 - loss: 0.0278 - accuracy: 0.9787 - val_loss: 0.3607 - val_accuracy: 0.9064 - lr: 1.0000e-06\n",
      "Epoch 15/40\n",
      "860/860 [==============================] - 473s 526ms/step - batch: 429.5000 - size: 31.9860 - loss: 0.0291 - accuracy: 0.9783 - val_loss: 0.3636 - val_accuracy: 0.9047 - lr: 1.0000e-07\n",
      "Epoch 16/40\n",
      "860/860 [==============================] - 474s 527ms/step - batch: 429.5000 - size: 31.9791 - loss: 0.0268 - accuracy: 0.9793 - val_loss: 0.3601 - val_accuracy: 0.9064 - lr: 1.0000e-07\n",
      "Epoch 17/40\n",
      "860/860 [==============================] - 475s 527ms/step - batch: 429.5000 - size: 31.9826 - loss: 0.0263 - accuracy: 0.9786 - val_loss: 0.3568 - val_accuracy: 0.9073 - lr: 1.0000e-07\n",
      "Epoch 18/40\n",
      "860/860 [==============================] - 479s 532ms/step - batch: 429.5000 - size: 31.9860 - loss: 0.0266 - accuracy: 0.9781 - val_loss: 0.3580 - val_accuracy: 0.9089 - lr: 1.0000e-07\n"
     ]
    }
   ],
   "source": [
    "train_gen, val_gen, test_gen, class_weights, steps_per_epoch = preproc_pipeline(image_resolution=(224, 224), \n",
    "                                                    classification_type='multiclass',\n",
    "                                                    use_data_augmentation=True,\n",
    "                                                    augmented_images_per_image=5,\n",
    "                                                    batch_size=32)\n",
    "                                                    \n",
    "inceptionv3_multiclass = multiclass_classification_inceptionv3_model()\n",
    "\n",
    "reduce_lr = ReduceLROnPlateau(monitor='val_loss', factor=0.1, patience=3, min_lr=1e-7)\n",
    "early_stopping = EarlyStopping(monitor='val_loss', patience=10, restore_best_weights=True)\n",
    "callbacks = [reduce_lr, early_stopping]\n",
    "\n",
    "fitted_inceptionv3_multiclass = train_model(train_gen, val_gen, inceptionv3_multiclass, callbacks=callbacks, class_weights=class_weights, epochs=40, steps_per_epoch=steps_per_epoch)"
   ]
  }
 ],
 "metadata": {
  "kernelspec": {
   "display_name": "tf",
   "language": "python",
   "name": "python3"
  },
  "language_info": {
   "codemirror_mode": {
    "name": "ipython",
    "version": 3
   },
   "file_extension": ".py",
   "mimetype": "text/x-python",
   "name": "python",
   "nbconvert_exporter": "python",
   "pygments_lexer": "ipython3",
   "version": "3.9.20"
  }
 },
 "nbformat": 4,
 "nbformat_minor": 2
}
