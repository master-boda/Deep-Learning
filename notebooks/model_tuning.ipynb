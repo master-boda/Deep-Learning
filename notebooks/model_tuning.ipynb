{
 "cells": [
  {
   "cell_type": "markdown",
   "metadata": {},
   "source": [
    "## **Model Tuning Notebook**"
   ]
  },
  {
   "cell_type": "code",
   "execution_count": 1,
   "metadata": {},
   "outputs": [
    {
     "name": "stdout",
     "output_type": "stream",
     "text": [
      "Num GPUs Available:  1\n"
     ]
    }
   ],
   "source": [
    "from numba import cuda\n",
    "import tensorflow as tf\n",
    "\n",
    "def clear_gpu_memory():\n",
    "    device = cuda.get_current_device()\n",
    "    device.reset() # dump the memory contents to free up the memory (it accumulates over the session)\n",
    "    \n",
    "# CUDA (Nvidia GPU Computing)\n",
    "if len(tf.config.list_physical_devices('GPU')) > 0:\n",
    "    gpus = tf.config.list_physical_devices('GPU')\n",
    "    print(\"Num GPUs Available: \", len(gpus))\n",
    "    \n",
    "    clear_gpu_memory()\n",
    "    \n",
    "    tf.config.experimental.set_memory_growth(gpus[0], True)\n",
    "\n",
    "    tf.config.set_logical_device_configuration(\n",
    "    gpus[0], \n",
    "    [tf.config.LogicalDeviceConfiguration(memory_limit=8192)])  # limit to 4GB\n",
    "\n",
    "    tf.compat.v1.disable_eager_execution()\n"
   ]
  },
  {
   "cell_type": "code",
   "execution_count": 13,
   "metadata": {},
   "outputs": [
    {
     "name": "stdout",
     "output_type": "stream",
     "text": [
      "Project root: /Users/kikobatistaa/Documents/GitHub/Deep-Learning CWD: /Users/kikobatistaa/Documents/GitHub/Deep-Learning\n"
     ]
    }
   ],
   "source": [
    "# because the utils in the src are designed to be run from the root of the project,\n",
    "# and by default jupyter runs from the notebook directory we need to change the working directory to the root\n",
    "\n",
    "import os\n",
    "import sys\n",
    "sys.path.append('../')\n",
    "\n",
    "def find_project_root(filename=\".git\"): # .git is located in the root of the project\n",
    "    current_dir = os.getcwd()\n",
    "    while current_dir != os.path.dirname(current_dir): # stops only when at the root (moves up 1 level each iteration)\n",
    "        if filename in os.listdir(current_dir):\n",
    "            return current_dir\n",
    "        current_dir = os.path.dirname(current_dir)\n",
    "\n",
    "project_root = find_project_root()\n",
    "os.chdir(project_root)  # change the working directory to the project root\n",
    "\n",
    "print(\"Project root:\", project_root, \"CWD:\", os.getcwd())"
   ]
  },
  {
   "cell_type": "code",
   "execution_count": 14,
   "metadata": {},
   "outputs": [
    {
     "name": "stdout",
     "output_type": "stream",
     "text": [
      "The autoreload extension is already loaded. To reload it, use:\n",
      "  %reload_ext autoreload\n"
     ]
    }
   ],
   "source": [
    "%load_ext autoreload\n",
    "%autoreload 2\n",
    "\n",
    "import kerastuner as kt\n",
    "\n",
    "from src.utils.modeling import *\n",
    "from src.utils.preproc import *\n",
    "from src.utils.visualizations import *\n",
    "\n",
    "from keras.models import Model, Sequential, load_model\n",
    "from keras.applications import VGG16, InceptionV3\n",
    "from keras.layers import Dense, Flatten, Dropout, GlobalAveragePooling2D, Conv2D, MaxPooling2D\n",
    "from keras.optimizers import Adam\n",
    "from keras.callbacks import ReduceLROnPlateau, EarlyStopping\n",
    "\n",
    "from sklearn.metrics import classification_report"
   ]
  },
  {
   "cell_type": "code",
   "execution_count": 15,
   "metadata": {},
   "outputs": [
    {
     "name": "stderr",
     "output_type": "stream",
     "text": [
      "/opt/anaconda3/envs/universidade/lib/python3.9/site-packages/keras/src/layers/convolutional/base_conv.py:107: UserWarning: Do not pass an `input_shape`/`input_dim` argument to a layer. When using Sequential models, prefer using an `Input(shape)` object as the first layer in the model instead.\n",
      "  super().__init__(activity_regularizer=activity_regularizer, **kwargs)\n"
     ]
    },
    {
     "name": "stdout",
     "output_type": "stream",
     "text": [
      "Loading and preprocessing data...\n"
     ]
    },
    {
     "ename": "FileNotFoundError",
     "evalue": "[Errno 2] No such file or directory: '/Users/kikobatistaa/Documents/GitHub/Deep-Learning/data/train/SOB_B_A-14-22549AB-100-011.png'",
     "output_type": "error",
     "traceback": [
      "\u001b[0;31m---------------------------------------------------------------------------\u001b[0m",
      "\u001b[0;31mFileNotFoundError\u001b[0m                         Traceback (most recent call last)",
      "Cell \u001b[0;32mIn[15], line 14\u001b[0m\n\u001b[1;32m      3\u001b[0m callbacks \u001b[38;5;241m=\u001b[39m [reduce_lr, early_stopping]\n\u001b[1;32m      5\u001b[0m tuner \u001b[38;5;241m=\u001b[39m kt\u001b[38;5;241m.\u001b[39mHyperband(\n\u001b[1;32m      6\u001b[0m     keras_tuning_model_builder,\n\u001b[1;32m      7\u001b[0m     objective\u001b[38;5;241m=\u001b[39m\u001b[38;5;124m'\u001b[39m\u001b[38;5;124mval_loss\u001b[39m\u001b[38;5;124m'\u001b[39m,\n\u001b[0;32m   (...)\u001b[0m\n\u001b[1;32m     11\u001b[0m     project_name\u001b[38;5;241m=\u001b[39m\u001b[38;5;124m'\u001b[39m\u001b[38;5;124mbinary_breast_cancer_cnn\u001b[39m\u001b[38;5;124m'\u001b[39m,\n\u001b[1;32m     12\u001b[0m )\n\u001b[0;32m---> 14\u001b[0m train_gen, val_gen, test_gen, class_weights, steps_per_epoch \u001b[38;5;241m=\u001b[39m \u001b[43mpreproc_pipeline\u001b[49m\u001b[43m(\u001b[49m\n\u001b[1;32m     15\u001b[0m \u001b[43m    \u001b[49m\u001b[43mimage_resolution\u001b[49m\u001b[38;5;241;43m=\u001b[39;49m\u001b[43m(\u001b[49m\u001b[38;5;241;43m224\u001b[39;49m\u001b[43m,\u001b[49m\u001b[43m \u001b[49m\u001b[38;5;241;43m224\u001b[39;49m\u001b[43m)\u001b[49m\u001b[43m,\u001b[49m\n\u001b[1;32m     16\u001b[0m \u001b[43m    \u001b[49m\u001b[43mclassification_type\u001b[49m\u001b[38;5;241;43m=\u001b[39;49m\u001b[38;5;124;43m'\u001b[39;49m\u001b[38;5;124;43mbinary\u001b[39;49m\u001b[38;5;124;43m'\u001b[39;49m\u001b[43m,\u001b[49m\n\u001b[1;32m     17\u001b[0m \u001b[43m    \u001b[49m\u001b[43mcsv_path\u001b[49m\u001b[38;5;241;43m=\u001b[39;49m\u001b[38;5;124;43m'\u001b[39;49m\u001b[38;5;124;43mimage_metadata/updated_image_data_7.csv\u001b[39;49m\u001b[38;5;124;43m'\u001b[39;49m\u001b[43m,\u001b[49m\n\u001b[1;32m     18\u001b[0m \u001b[43m    \u001b[49m\u001b[43muse_data_augmentation\u001b[49m\u001b[38;5;241;43m=\u001b[39;49m\u001b[38;5;28;43;01mFalse\u001b[39;49;00m\u001b[43m,\u001b[49m\n\u001b[1;32m     19\u001b[0m \u001b[43m    \u001b[49m\u001b[43maugmented_images_per_image\u001b[49m\u001b[38;5;241;43m=\u001b[39;49m\u001b[38;5;241;43m5\u001b[39;49m\u001b[43m,\u001b[49m\n\u001b[1;32m     20\u001b[0m \u001b[43m    \u001b[49m\u001b[43mbatch_size\u001b[49m\u001b[38;5;241;43m=\u001b[39;49m\u001b[38;5;241;43m32\u001b[39;49m\u001b[43m)\u001b[49m\n\u001b[1;32m     21\u001b[0m \u001b[38;5;28mprint\u001b[39m(tuner\u001b[38;5;241m.\u001b[39moracle\u001b[38;5;241m.\u001b[39mmax_trials)\n",
      "File \u001b[0;32m~/Documents/GitHub/Deep-Learning/src/utils/preproc.py:140\u001b[0m, in \u001b[0;36mpreproc_pipeline\u001b[0;34m(image_resolution, classification_type, use_data_augmentation, augmented_images_per_image, csv_path, batch_size, verbose)\u001b[0m\n\u001b[1;32m    137\u001b[0m \u001b[38;5;28;01mif\u001b[39;00m verbose:\n\u001b[1;32m    138\u001b[0m     \u001b[38;5;28mprint\u001b[39m(\u001b[38;5;124m\"\u001b[39m\u001b[38;5;124mLoading and preprocessing data...\u001b[39m\u001b[38;5;124m\"\u001b[39m)\n\u001b[0;32m--> 140\u001b[0m X_train, y_train, X_test, y_test, X_val, y_val \u001b[38;5;241m=\u001b[39m \u001b[43mload_and_preprocess_data\u001b[49m\u001b[43m(\u001b[49m\u001b[43mcsv_path\u001b[49m\u001b[43m,\u001b[49m\u001b[43m \u001b[49m\u001b[43mimage_resolution\u001b[49m\u001b[43m,\u001b[49m\u001b[43m \u001b[49m\u001b[43mlabel_column\u001b[49m\u001b[43m)\u001b[49m\n\u001b[1;32m    142\u001b[0m datagen \u001b[38;5;241m=\u001b[39m ImageDataGenerator(\n\u001b[1;32m    143\u001b[0m     rescale\u001b[38;5;241m=\u001b[39m\u001b[38;5;241m1.\u001b[39m\u001b[38;5;241m/\u001b[39m\u001b[38;5;241m255\u001b[39m,\n\u001b[1;32m    144\u001b[0m     rotation_range\u001b[38;5;241m=\u001b[39m\u001b[38;5;241m30\u001b[39m,\n\u001b[0;32m   (...)\u001b[0m\n\u001b[1;32m    150\u001b[0m     fill_mode\u001b[38;5;241m=\u001b[39m\u001b[38;5;124m'\u001b[39m\u001b[38;5;124mnearest\u001b[39m\u001b[38;5;124m'\u001b[39m,\n\u001b[1;32m    151\u001b[0m )\n\u001b[1;32m    153\u001b[0m \u001b[38;5;28;01mif\u001b[39;00m use_data_augmentation:\n",
      "File \u001b[0;32m~/Documents/GitHub/Deep-Learning/src/utils/preproc.py:81\u001b[0m, in \u001b[0;36mload_and_preprocess_data\u001b[0;34m(csv_path, image_resolution, label_column)\u001b[0m\n\u001b[1;32m     79\u001b[0m label \u001b[38;5;241m=\u001b[39m row[label_column] \n\u001b[1;32m     80\u001b[0m \u001b[38;5;28;01mif\u001b[39;00m \u001b[38;5;124m'\u001b[39m\u001b[38;5;124mtrain\u001b[39m\u001b[38;5;124m'\u001b[39m \u001b[38;5;129;01min\u001b[39;00m image_path:\n\u001b[0;32m---> 81\u001b[0m     \u001b[43mresize_and_append\u001b[49m\u001b[43m(\u001b[49m\u001b[43mimage_path\u001b[49m\u001b[43m,\u001b[49m\u001b[43m \u001b[49m\u001b[43mlabel\u001b[49m\u001b[43m,\u001b[49m\u001b[43m \u001b[49m\u001b[43mX_train\u001b[49m\u001b[43m,\u001b[49m\u001b[43m \u001b[49m\u001b[43my_train\u001b[49m\u001b[43m,\u001b[49m\u001b[43m \u001b[49m\u001b[43mimage_resolution\u001b[49m\u001b[43m)\u001b[49m\n\u001b[1;32m     82\u001b[0m \u001b[38;5;28;01melif\u001b[39;00m \u001b[38;5;124m'\u001b[39m\u001b[38;5;124mtest\u001b[39m\u001b[38;5;124m'\u001b[39m \u001b[38;5;129;01min\u001b[39;00m image_path:\n\u001b[1;32m     83\u001b[0m     resize_and_append(image_path, label, X_test, y_test, image_resolution)\n",
      "File \u001b[0;32m~/Documents/GitHub/Deep-Learning/src/utils/preproc.py:23\u001b[0m, in \u001b[0;36mresize_and_append\u001b[0;34m(image_path, label, X, y, img_size)\u001b[0m\n\u001b[1;32m      9\u001b[0m \u001b[38;5;28;01mdef\u001b[39;00m \u001b[38;5;21mresize_and_append\u001b[39m(image_path, label, X, y, img_size):\n\u001b[1;32m     10\u001b[0m \u001b[38;5;250m    \u001b[39m\u001b[38;5;124;03m\"\"\"\u001b[39;00m\n\u001b[1;32m     11\u001b[0m \u001b[38;5;124;03m    Resize an image and append it along with its label to the provided lists.\u001b[39;00m\n\u001b[1;32m     12\u001b[0m \u001b[38;5;124;03m    \u001b[39;00m\n\u001b[0;32m   (...)\u001b[0m\n\u001b[1;32m     21\u001b[0m \u001b[38;5;124;03m        None\u001b[39;00m\n\u001b[1;32m     22\u001b[0m \u001b[38;5;124;03m    \"\"\"\u001b[39;00m\n\u001b[0;32m---> 23\u001b[0m     \u001b[38;5;28;01mwith\u001b[39;00m \u001b[43mImage\u001b[49m\u001b[38;5;241;43m.\u001b[39;49m\u001b[43mopen\u001b[49m\u001b[43m(\u001b[49m\u001b[43mimage_path\u001b[49m\u001b[43m)\u001b[49m \u001b[38;5;28;01mas\u001b[39;00m img:\n\u001b[1;32m     24\u001b[0m         img_resized \u001b[38;5;241m=\u001b[39m img\u001b[38;5;241m.\u001b[39mresize(img_size)\n\u001b[1;32m     25\u001b[0m         img_array \u001b[38;5;241m=\u001b[39m np\u001b[38;5;241m.\u001b[39marray(img_resized)\n",
      "File \u001b[0;32m/opt/anaconda3/envs/universidade/lib/python3.9/site-packages/PIL/Image.py:3469\u001b[0m, in \u001b[0;36mopen\u001b[0;34m(fp, mode, formats)\u001b[0m\n\u001b[1;32m   3466\u001b[0m     filename \u001b[38;5;241m=\u001b[39m os\u001b[38;5;241m.\u001b[39mpath\u001b[38;5;241m.\u001b[39mrealpath(os\u001b[38;5;241m.\u001b[39mfspath(fp))\n\u001b[1;32m   3468\u001b[0m \u001b[38;5;28;01mif\u001b[39;00m filename:\n\u001b[0;32m-> 3469\u001b[0m     fp \u001b[38;5;241m=\u001b[39m \u001b[43mbuiltins\u001b[49m\u001b[38;5;241;43m.\u001b[39;49m\u001b[43mopen\u001b[49m\u001b[43m(\u001b[49m\u001b[43mfilename\u001b[49m\u001b[43m,\u001b[49m\u001b[43m \u001b[49m\u001b[38;5;124;43m\"\u001b[39;49m\u001b[38;5;124;43mrb\u001b[39;49m\u001b[38;5;124;43m\"\u001b[39;49m\u001b[43m)\u001b[49m\n\u001b[1;32m   3470\u001b[0m     exclusive_fp \u001b[38;5;241m=\u001b[39m \u001b[38;5;28;01mTrue\u001b[39;00m\n\u001b[1;32m   3471\u001b[0m \u001b[38;5;28;01melse\u001b[39;00m:\n",
      "\u001b[0;31mFileNotFoundError\u001b[0m: [Errno 2] No such file or directory: '/Users/kikobatistaa/Documents/GitHub/Deep-Learning/data/train/SOB_B_A-14-22549AB-100-011.png'"
     ]
    }
   ],
   "source": [
    "reduce_lr = ReduceLROnPlateau(monitor='val_loss', factor=0.1, patience=2, min_lr=1e-7)\n",
    "early_stopping = EarlyStopping(monitor='val_loss', patience=5, restore_best_weights=True)\n",
    "callbacks = [reduce_lr, early_stopping]\n",
    "\n",
    "tuner = kt.Hyperband(\n",
    "    keras_tuning_model_builder,\n",
    "    objective='val_loss',\n",
    "    max_epochs=10,\n",
    "    factor=2,\n",
    "    directory='hyperband_logs',\n",
    "    project_name='binary_breast_cancer_cnn',\n",
    ")\n",
    "\n",
    "train_gen, val_gen, test_gen, class_weights, steps_per_epoch = preproc_pipeline(\n",
    "    image_resolution=(224, 224),\n",
    "    classification_type='binary',\n",
    "    csv_path='image_metadata/updated_image_data.csv',\n",
    "    use_data_augmentation=False,\n",
    "    augmented_images_per_image=5,\n",
    "    batch_size=32)\n",
    "print(tuner.oracle.max_trials)"
   ]
  },
  {
   "cell_type": "code",
   "execution_count": 10,
   "metadata": {},
   "outputs": [
    {
     "data": {
      "image/png": "[encoded data removed]",
      "text/plain": [
       "<Figure size 1000x600 with 1 Axes>"
      ]
     },
     "metadata": {},
     "output_type": "display_data"
    },
    {
     "data": {
      "image/png": "[encoded data removed]",
      "text/plain": [
       "<Figure size 1000x600 with 1 Axes>"
      ]
     },
     "metadata": {},
     "output_type": "display_data"
    }
   ],
   "source": [
    "import pickle\n",
    "\n",
    "# Caminho do arquivo pickle\n",
    "caminho_arquivo = '/Users/kikobatistaa/Documents/GitHub/Deep-Learning/src/models/VGG16_binary/model_history.pkl'\n",
    "\n",
    "# Carregar o history\n",
    "with open(caminho_arquivo, 'rb') as arquivo:\n",
    "    history = pickle.load(arquivo)\n",
    "\n",
    "# Plotar a perda (loss) de treinamento e validação\n",
    "plot_training_history(history, metric='loss', title='Model Loss')\n",
    "\n",
    "# Plotar a acurácia de treinamento e validação\n",
    "plot_training_history(history, metric='accuracy', title='Model Accuracy')"
   ]
  },
  {
   "cell_type": "code",
   "execution_count": 7,
   "metadata": {},
   "outputs": [
    {
     "name": "stdout",
     "output_type": "stream",
     "text": [
      "Melhor 'val_loss' em época 8: 0.08239644335749051\n",
      "Número total de épocas treinadas: 10\n",
      "Os pesos foram provavelmente restaurados da melhor época devido ao 'restore_best_weights=True'.\n"
     ]
    }
   ],
   "source": [
    "import pickle\n",
    "import numpy as np\n",
    "\n",
    "# Carregar o histórico salvo no arquivo pickle\n",
    "caminho_arquivo = '/Users/kikobatistaa/Documents/GitHub/Deep-Learning/src/models/VGG16_binary/model_history.pkl'\n",
    "\n",
    "with open(caminho_arquivo, 'rb') as file:\n",
    "    history = pickle.load(file)\n",
    "\n",
    "# Verificar se há métricas de validação\n",
    "if 'val_loss' in history:\n",
    "    val_loss = history['val_loss']\n",
    "    melhor_epoca = np.argmin(val_loss)\n",
    "    melhor_val_loss = val_loss[melhor_epoca]\n",
    "    print(f\"Melhor 'val_loss' em época {melhor_epoca + 1}: {melhor_val_loss}\")\n",
    "\n",
    "    # Número total de épocas treinadas\n",
    "    total_epocas = len(val_loss)\n",
    "    print(f\"Número total de épocas treinadas: {total_epocas}\")\n",
    "\n",
    "    # Comparar com a última época treinada\n",
    "    if melhor_epoca + 1 < total_epocas:\n",
    "        print(\"Os pesos foram provavelmente restaurados da melhor época devido ao 'restore_best_weights=True'.\")\n",
    "    else:\n",
    "        print(\"Os pesos finais correspondem à última época treinada.\")\n",
    "\n",
    "else:\n",
    "    print(\"Não há métricas de validação disponíveis no histórico.\")"
   ]
  },
  {
   "cell_type": "code",
   "execution_count": 8,
   "metadata": {},
   "outputs": [
    {
     "name": "stdout",
     "output_type": "stream",
     "text": [
      "val_loss por época:\n",
      "Época 1: val_loss = 0.3987618255379953\n",
      "Época 2: val_loss = 0.15135141457185933\n",
      "Época 3: val_loss = 0.12957025433685262\n",
      "Época 4: val_loss = 0.15891088230302175\n",
      "Época 5: val_loss = 0.09143873382708989\n",
      "Época 6: val_loss = 0.14189662265366446\n",
      "Época 7: val_loss = 0.13324318774118038\n",
      "Época 8: val_loss = 0.08239644335749051\n",
      "Época 9: val_loss = 0.08613202055108846\n",
      "Época 10: val_loss = 0.08606210771526285\n",
      "\n",
      "Melhor 'val_loss' na época 8: 0.08239644335749051\n",
      "Número total de épocas treinadas: 10\n",
      "\n",
      "Os pesos foram provavelmente restaurados da melhor época devido ao 'restore_best_weights=True'.\n"
     ]
    }
   ],
   "source": [
    "import pickle\n",
    "\n",
    "# Carregar o histórico salvo no arquivo pickle\n",
    "caminho_arquivo = '/Users/kikobatistaa/Documents/GitHub/Deep-Learning/src/models/VGG16_binary/model_history.pkl'\n",
    "\n",
    "with open(caminho_arquivo, 'rb') as file:\n",
    "    history = pickle.load(file)\n",
    "\n",
    "# Imprimir a `val_loss` para cada época\n",
    "if 'val_loss' in history:\n",
    "    print(\"val_loss por época:\")\n",
    "    for i, val in enumerate(history['val_loss']):\n",
    "        print(f\"Época {i + 1}: val_loss = {val}\")\n",
    "\n",
    "    # Identificar a época com a menor `val_loss`\n",
    "    melhor_epoca = min(range(len(history['val_loss'])), key=lambda i: history['val_loss'][i])\n",
    "    melhor_val_loss = history['val_loss'][melhor_epoca]\n",
    "\n",
    "    print(f\"\\nMelhor 'val_loss' na época {melhor_epoca + 1}: {melhor_val_loss}\")\n",
    "\n",
    "    # Número total de épocas treinadas\n",
    "    total_epocas = len(history['val_loss'])\n",
    "    print(f\"Número total de épocas treinadas: {total_epocas}\")\n",
    "\n",
    "    # Comparar com a última época treinada\n",
    "    if melhor_epoca + 1 < total_epocas:\n",
    "        print(\"\\nOs pesos foram provavelmente restaurados da melhor época devido ao 'restore_best_weights=True'.\")\n",
    "    else:\n",
    "        print(\"\\nOs pesos finais correspondem à última época treinada.\")\n",
    "\n",
    "else:\n",
    "    print(\"Não há métricas de validação ('val_loss') disponíveis no histórico.\")"
   ]
  },
  {
   "cell_type": "markdown",
   "metadata": {},
   "source": [
    "### **Binary Classification Models Fine-Tuning**"
   ]
  },
  {
   "cell_type": "markdown",
   "metadata": {},
   "source": [
    "#### **Hyperband Model Tuning**"
   ]
  },
  {
   "cell_type": "code",
   "execution_count": null,
   "metadata": {},
   "outputs": [],
   "source": [
    "reduce_lr = ReduceLROnPlateau(monitor='val_loss', factor=0.1, patience=2, min_lr=1e-7)\n",
    "early_stopping = EarlyStopping(monitor='val_loss', patience=5, restore_best_weights=True)\n",
    "callbacks = [reduce_lr, early_stopping]\n",
    "\n",
    "tuner = kt.Hyperband(\n",
    "    keras_tuning_model_builder,\n",
    "    objective='val_loss',\n",
    "    max_epochs=10,\n",
    "    factor=2,\n",
    "    directory='hyperband_logs',\n",
    "    project_name='binary_breast_cancer_cnn',\n",
    ")\n",
    "\n",
    "train_gen, val_gen, test_gen, class_weights, steps_per_epoch = preproc_pipeline(\n",
    "    image_resolution=(224, 224),\n",
    "    classification_type='binary',\n",
    "    csv_path='image_metadata/updated_image_data.csv',\n",
    "    use_data_augmentation=False,\n",
    "    augmented_images_per_image=5,\n",
    "    batch_size=32\n",
    ")\n",
    "\n",
    "tuner.search(train_gen, validation_data=val_gen, epochs=10, callbacks=callbacks)"
   ]
  },
  {
   "cell_type": "markdown",
   "metadata": {},
   "source": [
    "#### **Transfer Learning**"
   ]
  },
  {
   "cell_type": "markdown",
   "metadata": {},
   "source": [
    "**VGG 16**"
   ]
  },
  {
   "cell_type": "code",
   "execution_count": 7,
   "metadata": {},
   "outputs": [],
   "source": [
    "def binary_classification_vgg16_model(input_shape=(224, 224, 3), trainable_layers=10, learning_rate=0.0001):\n",
    "    \n",
    "    base_model = VGG16(weights='imagenet', include_top=False, input_shape=input_shape)\n",
    "    \n",
    "    # train some layers and freeze others\n",
    "    for layer in base_model.layers[:-trainable_layers]:\n",
    "        layer.trainable = False\n",
    "    for layer in base_model.layers[-trainable_layers:]:\n",
    "        layer.trainable = True\n",
    "\n",
    "    model = Sequential()\n",
    "    \n",
    "    model.add(base_model)\n",
    "    \n",
    "    model.add(Flatten())\n",
    "    \n",
    "    model.add(Dense(256, activation='relu'))\n",
    "    model.add(Dropout(0.5))\n",
    "    \n",
    "    model.add(Dense(1, activation='sigmoid'))\n",
    "    \n",
    "    # low learning rate for fine tuning\n",
    "    model.compile(optimizer=Adam(learning_rate=learning_rate),\n",
    "                  loss='binary_crossentropy',\n",
    "                  metrics=['accuracy'])\n",
    "    \n",
    "    return model"
   ]
  },
  {
   "cell_type": "code",
   "execution_count": 8,
   "metadata": {},
   "outputs": [
    {
     "name": "stdout",
     "output_type": "stream",
     "text": [
      "Loading and preprocessing data...\n",
      "Total training images after augmentation: 33198\n",
      "Class weights computed.\n",
      "Data generators created.\n",
      "Epoch 1/10\n",
      "860/860 [==============================] - ETA: 0s - batch: 429.5000 - size: 31.9826 - loss: 0.4522 - accuracy: 0.7839"
     ]
    },
    {
     "name": "stderr",
     "output_type": "stream",
     "text": [
      "c:\\Users\\vic\\miniconda3\\envs\\tf\\lib\\site-packages\\keras\\engine\\training_v1.py:2332: UserWarning: `Model.state_updates` will be removed in a future version. This property should not be used in TensorFlow 2.0, as `updates` are applied automatically.\n",
      "  updates = self.state_updates\n"
     ]
    },
    {
     "name": "stdout",
     "output_type": "stream",
     "text": [
      "860/860 [==============================] - 528s 595ms/step - batch: 429.5000 - size: 31.9826 - loss: 0.4522 - accuracy: 0.7839 - val_loss: 0.3988 - val_accuracy: 0.8516 - lr: 1.0000e-04\n",
      "Epoch 2/10\n",
      "860/860 [==============================] - 584s 679ms/step - batch: 429.5000 - size: 31.9826 - loss: 0.2203 - accuracy: 0.9131 - val_loss: 0.1514 - val_accuracy: 0.9401 - lr: 1.0000e-04\n",
      "Epoch 3/10\n",
      "860/860 [==============================] - 514s 597ms/step - batch: 429.5000 - size: 31.9826 - loss: 0.1701 - accuracy: 0.9322 - val_loss: 0.1296 - val_accuracy: 0.9469 - lr: 1.0000e-04\n",
      "Epoch 4/10\n",
      "860/860 [==============================] - 631s 733ms/step - batch: 429.5000 - size: 31.9860 - loss: 0.1352 - accuracy: 0.9460 - val_loss: 0.1589 - val_accuracy: 0.9376 - lr: 1.0000e-04\n",
      "Epoch 5/10\n",
      "860/860 [==============================] - 718s 834ms/step - batch: 429.5000 - size: 31.9791 - loss: 0.1035 - accuracy: 0.9583 - val_loss: 0.0914 - val_accuracy: 0.9646 - lr: 1.0000e-04\n",
      "Epoch 6/10\n",
      "860/860 [==============================] - 674s 783ms/step - batch: 429.5000 - size: 31.9826 - loss: 0.0958 - accuracy: 0.9628 - val_loss: 0.1419 - val_accuracy: 0.9477 - lr: 1.0000e-04\n",
      "Epoch 7/10\n",
      "860/860 [==============================] - 737s 856ms/step - batch: 429.5000 - size: 31.9826 - loss: 0.0857 - accuracy: 0.9681 - val_loss: 0.1332 - val_accuracy: 0.9528 - lr: 1.0000e-04\n",
      "Epoch 8/10\n",
      "860/860 [==============================] - 699s 809ms/step - batch: 429.5000 - size: 31.9860 - loss: 0.0262 - accuracy: 0.9908 - val_loss: 0.0824 - val_accuracy: 0.9781 - lr: 1.0000e-05\n",
      "Epoch 9/10\n",
      "860/860 [==============================] - 711s 822ms/step - batch: 429.5000 - size: 31.9791 - loss: 0.0158 - accuracy: 0.9944 - val_loss: 0.0861 - val_accuracy: 0.9806 - lr: 1.0000e-05\n",
      "Epoch 10/10\n",
      "860/860 [==============================] - 618s 718ms/step - batch: 429.5000 - size: 31.9826 - loss: 0.0157 - accuracy: 0.9944 - val_loss: 0.0861 - val_accuracy: 0.9806 - lr: 1.0000e-05\n"
     ]
    }
   ],
   "source": [
    "train_gen, val_gen, test_gen, class_weights, steps_per_epoch = preproc_pipeline(image_resolution=(224, 224),  \n",
    "                                                    classification_type='binary',\n",
    "                                                    use_data_augmentation=True,\n",
    "                                                    augmented_images_per_image=5,\n",
    "                                                    batch_size=32)\n",
    "\n",
    "vgg16_binary = binary_classification_vgg16_model()\n",
    "\n",
    "reduce_lr = ReduceLROnPlateau(monitor='val_loss', factor=0.1, patience=2, min_lr=1e-7)\n",
    "early_stopping = EarlyStopping(monitor='val_loss', patience=5, restore_best_weights=True)\n",
    "callbacks = [reduce_lr, early_stopping]\n",
    "    \n",
    "\n",
    "fitted_vgg16_binary = train_model(train_gen, val_gen, vgg16_binary, callbacks=callbacks, class_weights=class_weights, epochs=10, steps_per_epoch=steps_per_epoch)"
   ]
  },
  {
   "cell_type": "code",
   "execution_count": 17,
   "metadata": {},
   "outputs": [],
   "source": [
    "save_model(fitted_vgg16_binary, 'src/models/VGG16_binary')\n",
    "save_training_history(fitted_vgg16_binary, 'src/models/VGG16_binary')"
   ]
  },
  {
   "cell_type": "code",
   "execution_count": 20,
   "metadata": {},
   "outputs": [
    {
     "name": "stdout",
     "output_type": "stream",
     "text": [
      "Loading test data...\n",
      "Loading and preprocessing data...\n",
      "Total training images (no augmentation): 5533\n",
      "Class weights computed.\n",
      "Data generators created.\n",
      "Starting model evaluation...\n",
      "Total number of samples in the test generator: 1186\n"
     ]
    },
    {
     "name": "stderr",
     "output_type": "stream",
     "text": [
      "d:\\deep_learning_project\\src\\utils\\modeling.py:102: UserWarning: `Model.predict_generator` is deprecated and will be removed in a future version. Please use `Model.predict`, which supports generators.\n",
      "  # select the appropriate class names based on the classification type\n",
      "c:\\Users\\vic\\miniconda3\\envs\\tf\\lib\\site-packages\\keras\\engine\\training_v1.py:2356: UserWarning: `Model.state_updates` will be removed in a future version. This property should not be used in TensorFlow 2.0, as `updates` are applied automatically.\n",
      "  updates=self.state_updates,\n"
     ]
    },
    {
     "name": "stdout",
     "output_type": "stream",
     "text": [
      "\n",
      "Accuracy: 0.9848\n",
      "\n",
      "Classification Report:\n",
      "+-----------+-------------+----------+------------+-----------+\n",
      "| Class     |   Precision |   Recall |   F1-Score |   Support |\n",
      "+===========+=============+==========+============+===========+\n",
      "| Benign    |    0.973262 | 0.978495 |   0.975871 |       372 |\n",
      "+-----------+-------------+----------+------------+-----------+\n",
      "| Malignant |    0.990148 | 0.987715 |   0.98893  |       814 |\n",
      "+-----------+-------------+----------+------------+-----------+\n",
      "\n",
      "Overall Metrics:\n",
      "+------------------------+----------+\n",
      "| Metric                 |    Value |\n",
      "+========================+==========+\n",
      "| Accuracy               | 0.984823 |\n",
      "+------------------------+----------+\n",
      "| Macro Avg Precision    | 0.981705 |\n",
      "+------------------------+----------+\n",
      "| Macro Avg Recall       | 0.983105 |\n",
      "+------------------------+----------+\n",
      "| Macro Avg F1-Score     | 0.982401 |\n",
      "+------------------------+----------+\n",
      "| Weighted Avg Precision | 0.984851 |\n",
      "+------------------------+----------+\n",
      "| Weighted Avg Recall    | 0.984823 |\n",
      "+------------------------+----------+\n",
      "| Weighted Avg F1-Score  | 0.984834 |\n",
      "+------------------------+----------+\n",
      "\n",
      "Confusion Matrix:\n"
     ]
    },
    {
     "data": {
      "image/png": "[encoded data removed]",
      "text/plain": [
       "<Figure size 1000x700 with 2 Axes>"
      ]
     },
     "metadata": {},
     "output_type": "display_data"
    },
    {
     "name": "stdout",
     "output_type": "stream",
     "text": [
      "Evaluation complete. Returning results.\n"
     ]
    },
    {
     "data": {
      "text/plain": [
       "{'accuracy': 0.984822934232715,\n",
       " 'classification_report': {'Benign': {'precision': 0.9732620320855615,\n",
       "   'recall': 0.978494623655914,\n",
       "   'f1-score': 0.9758713136729222,\n",
       "   'support': 372.0},\n",
       "  'Malignant': {'precision': 0.9901477832512315,\n",
       "   'recall': 0.9877149877149877,\n",
       "   'f1-score': 0.988929889298893,\n",
       "   'support': 814.0},\n",
       "  'accuracy': 0.984822934232715,\n",
       "  'macro avg': {'precision': 0.9817049076683966,\n",
       "   'recall': 0.9831048056854508,\n",
       "   'f1-score': 0.9824006014859077,\n",
       "   'support': 1186.0},\n",
       "  'weighted avg': {'precision': 0.9848514093611562,\n",
       "   'recall': 0.984822934232715,\n",
       "   'f1-score': 0.9848339448361096,\n",
       "   'support': 1186.0}},\n",
       " 'confusion_matrix': array([[364,   8],\n",
       "        [ 10, 804]], dtype=int64)}"
      ]
     },
     "execution_count": 20,
     "metadata": {},
     "output_type": "execute_result"
    }
   ],
   "source": [
    "fitted_vgg16_binary = load_model('src\\models\\VGG16_binary\\saved_model.h5')\n",
    "evaluate_model(fitted_vgg16_binary, classification_type='binary')"
   ]
  },
  {
   "cell_type": "markdown",
   "metadata": {},
   "source": [
    "**InceptionV3**"
   ]
  },
  {
   "cell_type": "code",
   "execution_count": 4,
   "metadata": {},
   "outputs": [],
   "source": [
    "def binary_classification_inceptionv3_model(input_shape=(224, 224, 3), trainable_layers=200, learning_rate=0.0001):\n",
    "    \n",
    "    base_model = InceptionV3(weights='imagenet', include_top=False, input_shape=input_shape)\n",
    "    \n",
    "    # train some layers and freeze others\n",
    "    for layer in base_model.layers[:-trainable_layers]:\n",
    "        layer.trainable = False\n",
    "    for layer in base_model.layers[-trainable_layers:]:\n",
    "        layer.trainable = True\n",
    "\n",
    "    model = Sequential()\n",
    "    \n",
    "    model.add(base_model)\n",
    "    \n",
    "    model.add(GlobalAveragePooling2D())\n",
    "    \n",
    "    model.add(Dense(1024, activation='relu'))\n",
    "    \n",
    "    model.add(Dense(1, activation='sigmoid'))\n",
    "    \n",
    "    # low learning rate for fine tuning\n",
    "    model.compile(optimizer=Adam(learning_rate=learning_rate),\n",
    "                  loss='binary_crossentropy',\n",
    "                  metrics=['accuracy'])\n",
    "    \n",
    "    return model"
   ]
  },
  {
   "cell_type": "code",
   "execution_count": null,
   "metadata": {},
   "outputs": [],
   "source": [
    "train_gen, val_gen, test_gen, class_weights, steps_per_epoch = preproc_pipeline(image_resolution=(224, 224),  \n",
    "                                                    classification_type='binary',\n",
    "                                                    use_data_augmentation=True,\n",
    "                                                    augmented_images_per_image=5,\n",
    "                                                    batch_size=32)\n",
    "\n",
    "inceptionv3_binary = binary_classification_inceptionv3_model()\n",
    "\n",
    "reduce_lr = ReduceLROnPlateau(monitor='val_loss', factor=0.1, patience=3, min_lr=1e-7)\n",
    "early_stopping = EarlyStopping(monitor='val_loss', patience=10, restore_best_weights=True)\n",
    "callbacks = [reduce_lr, early_stopping]\n",
    "    \n",
    "\n",
    "fitted_inceptionv3_binary = train_model(train_gen, val_gen, inceptionv3_binary, callbacks=callbacks, class_weights=class_weights, epochs=40, steps_per_epoch=steps_per_epoch)"
   ]
  },
  {
   "cell_type": "markdown",
   "metadata": {},
   "source": [
    "### **Multiclass Classification Models Fine-Tuning**"
   ]
  },
  {
   "cell_type": "markdown",
   "metadata": {},
   "source": [
    "#### **Hyperband Model Tuning**"
   ]
  },
  {
   "cell_type": "code",
   "execution_count": null,
   "metadata": {},
   "outputs": [],
   "source": [
    "reduce_lr = ReduceLROnPlateau(monitor='val_loss', factor=0.1, patience=2, min_lr=1e-7)\n",
    "early_stopping = EarlyStopping(monitor='val_loss', patience=5, restore_best_weights=True)\n",
    "callbacks = [reduce_lr, early_stopping]\n",
    "\n",
    "tuner = kt.Hyperband(\n",
    "    keras_tuning_model_builder,\n",
    "    objective='val_loss',\n",
    "    max_epochs=10,\n",
    "    factor=2,\n",
    "    directory='hyperband_logs',\n",
    "    project_name='multiclass_breast_cancer_cnn',\n",
    ")\n",
    "\n",
    "train_gen, val_gen, test_gen, class_weights, steps_per_epoch = preproc_pipeline(\n",
    "    image_resolution=(224, 224),\n",
    "    classification_type='multiclass',\n",
    "    csv_path='image_metadata/updated_image_data.csv',\n",
    "    use_data_augmentation=True,\n",
    "    augmented_images_per_image=5,\n",
    "    batch_size=32\n",
    ")\n",
    "tuner.search(train_gen, validation_data=val_gen, epochs=10, callbacks=callbacks)"
   ]
  },
  {
   "cell_type": "markdown",
   "metadata": {},
   "source": [
    "#### **Transfer Learning**"
   ]
  },
  {
   "cell_type": "markdown",
   "metadata": {},
   "source": [
    "**VGG 16**"
   ]
  },
  {
   "cell_type": "code",
   "execution_count": 4,
   "metadata": {},
   "outputs": [],
   "source": [
    "def multiclass_classification_vgg16_model(input_shape=(224, 224, 3), trainable_layers=10):\n",
    "    \n",
    "    base_model = VGG16(weights='imagenet', include_top=False, input_shape=input_shape)\n",
    "    \n",
    "    # train some layers and freeze others\n",
    "    for layer in base_model.layers[:-trainable_layers]:\n",
    "        layer.trainable = False\n",
    "    for layer in base_model.layers[-trainable_layers:]:\n",
    "        layer.trainable = True\n",
    "\n",
    "    model = Sequential()\n",
    "    \n",
    "    model.add(base_model)\n",
    "    \n",
    "    model.add(Flatten())\n",
    "    \n",
    "    model.add(Dense(256, activation='relu'))\n",
    "    model.add(Dropout(0.5))\n",
    "    \n",
    "    model.add(Dense(8, activation='softmax'))\n",
    "    \n",
    "    # low learning rate for fine tuning\n",
    "    model.compile(optimizer=Adam(learning_rate=0.0001),\n",
    "                  loss='sparse_categorical_crossentropy',\n",
    "                  metrics=['accuracy'])\n",
    "    \n",
    "    return model"
   ]
  },
  {
   "cell_type": "code",
   "execution_count": 5,
   "metadata": {},
   "outputs": [
    {
     "name": "stdout",
     "output_type": "stream",
     "text": [
      "Loading and preprocessing data...\n",
      "Total training images after augmentation: 33198\n",
      "Class weights computed.\n",
      "Data generators created.\n",
      "Epoch 1/30\n",
      "860/860 [==============================] - ETA: 0s - batch: 429.5000 - size: 31.9826 - loss: 2.0480 - accuracy: 0.1137"
     ]
    },
    {
     "name": "stderr",
     "output_type": "stream",
     "text": [
      "c:\\Users\\vic\\miniconda3\\envs\\tf\\lib\\site-packages\\keras\\engine\\training_v1.py:2332: UserWarning: `Model.state_updates` will be removed in a future version. This property should not be used in TensorFlow 2.0, as `updates` are applied automatically.\n",
      "  updates = self.state_updates\n"
     ]
    },
    {
     "name": "stdout",
     "output_type": "stream",
     "text": [
      "860/860 [==============================] - 666s 729ms/step - batch: 429.5000 - size: 31.9826 - loss: 2.0480 - accuracy: 0.1137 - val_loss: 1.9335 - val_accuracy: 0.1838 - lr: 1.0000e-04\n",
      "Epoch 2/30\n",
      "860/860 [==============================] - 653s 759ms/step - batch: 429.5000 - size: 31.9826 - loss: 1.5247 - accuracy: 0.3980 - val_loss: 1.4442 - val_accuracy: 0.4654 - lr: 1.0000e-04\n",
      "Epoch 3/30\n",
      "860/860 [==============================] - 723s 839ms/step - batch: 429.5000 - size: 31.9826 - loss: 1.0652 - accuracy: 0.5498 - val_loss: 1.0377 - val_accuracy: 0.6046 - lr: 1.0000e-04\n",
      "Epoch 4/30\n",
      "860/860 [==============================] - 705s 819ms/step - batch: 429.5000 - size: 31.9826 - loss: 0.7697 - accuracy: 0.6502 - val_loss: 0.8138 - val_accuracy: 0.6880 - lr: 1.0000e-04\n",
      "Epoch 5/30\n",
      "860/860 [==============================] - 664s 771ms/step - batch: 429.5000 - size: 31.9826 - loss: 0.5918 - accuracy: 0.7218 - val_loss: 0.7032 - val_accuracy: 0.7285 - lr: 1.0000e-04\n",
      "Epoch 6/30\n",
      "860/860 [==============================] - 794s 923ms/step - batch: 429.5000 - size: 31.9826 - loss: 0.4547 - accuracy: 0.7778 - val_loss: 0.6155 - val_accuracy: 0.7673 - lr: 1.0000e-04\n",
      "Epoch 7/30\n",
      "860/860 [==============================] - 770s 895ms/step - batch: 429.5000 - size: 31.9826 - loss: 0.3723 - accuracy: 0.8159 - val_loss: 0.6987 - val_accuracy: 0.7791 - lr: 1.0000e-04\n",
      "Epoch 8/30\n",
      "860/860 [==============================] - 773s 899ms/step - batch: 429.5000 - size: 31.9826 - loss: 0.3072 - accuracy: 0.8409 - val_loss: 0.5951 - val_accuracy: 0.8035 - lr: 1.0000e-04\n",
      "Epoch 9/30\n",
      "860/860 [==============================] - 770s 894ms/step - batch: 429.5000 - size: 31.9826 - loss: 0.2863 - accuracy: 0.8550 - val_loss: 0.5432 - val_accuracy: 0.8246 - lr: 1.0000e-04\n",
      "Epoch 10/30\n",
      "860/860 [==============================] - 772s 897ms/step - batch: 429.5000 - size: 31.9860 - loss: 0.2237 - accuracy: 0.8783 - val_loss: 0.5715 - val_accuracy: 0.8305 - lr: 1.0000e-04\n",
      "Epoch 11/30\n",
      "860/860 [==============================] - 773s 898ms/step - batch: 429.5000 - size: 31.9826 - loss: 0.2260 - accuracy: 0.8826 - val_loss: 0.5909 - val_accuracy: 0.8094 - lr: 1.0000e-04\n",
      "Epoch 12/30\n",
      "860/860 [==============================] - 773s 899ms/step - batch: 429.5000 - size: 31.9791 - loss: 0.1810 - accuracy: 0.8992 - val_loss: 0.5932 - val_accuracy: 0.8137 - lr: 1.0000e-04\n",
      "Epoch 13/30\n",
      "860/860 [==============================] - 775s 900ms/step - batch: 429.5000 - size: 31.9826 - loss: 0.0854 - accuracy: 0.9434 - val_loss: 0.4506 - val_accuracy: 0.8710 - lr: 1.0000e-05\n",
      "Epoch 14/30\n",
      "860/860 [==============================] - 773s 898ms/step - batch: 429.5000 - size: 31.9826 - loss: 0.0551 - accuracy: 0.9611 - val_loss: 0.4527 - val_accuracy: 0.8879 - lr: 1.0000e-05\n",
      "Epoch 15/30\n",
      "860/860 [==============================] - 771s 896ms/step - batch: 429.5000 - size: 31.9860 - loss: 0.0433 - accuracy: 0.9675 - val_loss: 0.5574 - val_accuracy: 0.8862 - lr: 1.0000e-05\n",
      "Epoch 16/30\n",
      "860/860 [==============================] - 771s 896ms/step - batch: 429.5000 - size: 31.9826 - loss: 0.0362 - accuracy: 0.9715 - val_loss: 0.5728 - val_accuracy: 0.8921 - lr: 1.0000e-05\n",
      "Epoch 17/30\n",
      "860/860 [==============================] - 770s 894ms/step - batch: 429.5000 - size: 31.9826 - loss: 0.0323 - accuracy: 0.9744 - val_loss: 0.5665 - val_accuracy: 0.8912 - lr: 1.0000e-06\n",
      "Epoch 18/30\n",
      "860/860 [==============================] - 771s 895ms/step - batch: 429.5000 - size: 31.9791 - loss: 0.0296 - accuracy: 0.9751 - val_loss: 0.5010 - val_accuracy: 0.8971 - lr: 1.0000e-06\n",
      "Epoch 19/30\n",
      "860/860 [==============================] - 772s 897ms/step - batch: 429.5000 - size: 31.9826 - loss: 0.0290 - accuracy: 0.9752 - val_loss: 0.4973 - val_accuracy: 0.8971 - lr: 1.0000e-06\n",
      "Epoch 20/30\n",
      "860/860 [==============================] - 775s 900ms/step - batch: 429.5000 - size: 31.9860 - loss: 0.0280 - accuracy: 0.9761 - val_loss: 0.4987 - val_accuracy: 0.8980 - lr: 1.0000e-07\n",
      "Epoch 21/30\n",
      "860/860 [==============================] - 773s 898ms/step - batch: 429.5000 - size: 31.9791 - loss: 0.0291 - accuracy: 0.9763 - val_loss: 0.4969 - val_accuracy: 0.8997 - lr: 1.0000e-07\n",
      "Epoch 22/30\n",
      "860/860 [==============================] - 773s 898ms/step - batch: 429.5000 - size: 31.9860 - loss: 0.0277 - accuracy: 0.9772 - val_loss: 0.5325 - val_accuracy: 0.8997 - lr: 1.0000e-07\n",
      "Epoch 23/30\n",
      "860/860 [==============================] - 774s 899ms/step - batch: 429.5000 - size: 31.9791 - loss: 0.0271 - accuracy: 0.9761 - val_loss: 0.4976 - val_accuracy: 0.8997 - lr: 1.0000e-07\n"
     ]
    }
   ],
   "source": [
    "train_gen, val_gen, test_gen, class_weights, steps_per_epoch = preproc_pipeline(image_resolution=(224, 224), \n",
    "                                                    classification_type='multiclass',\n",
    "                                                    use_data_augmentation=True,\n",
    "                                                    augmented_images_per_image=5,\n",
    "                                                    batch_size=32)\n",
    "                                                    \n",
    "vgg16_multiclass = multiclass_classification_vgg16_model()\n",
    "\n",
    "reduce_lr = ReduceLROnPlateau(monitor='val_loss', factor=0.1, patience=3, min_lr=1e-7)\n",
    "early_stopping = EarlyStopping(monitor='val_loss', patience=10, restore_best_weights=True)\n",
    "callbacks = [reduce_lr, early_stopping]\n",
    "\n",
    "fitted_vgg16_multiclass = train_model(train_gen, val_gen, vgg16_multiclass, callbacks=callbacks, class_weights=class_weights, epochs=30, steps_per_epoch=steps_per_epoch)"
   ]
  },
  {
   "cell_type": "code",
   "execution_count": 10,
   "metadata": {},
   "outputs": [
    {
     "name": "stderr",
     "output_type": "stream",
     "text": [
      "WARNING:absl:Found untraced functions such as _jit_compiled_convolution_op, _jit_compiled_convolution_op, _jit_compiled_convolution_op, _jit_compiled_convolution_op, _jit_compiled_convolution_op while saving (showing 5 of 13). These functions will not be directly callable after loading.\n"
     ]
    },
    {
     "name": "stdout",
     "output_type": "stream",
     "text": [
      "INFO:tensorflow:Assets written to: ram://af12a1f1-eec7-491e-9610-320a8c49c155/assets\n"
     ]
    },
    {
     "name": "stderr",
     "output_type": "stream",
     "text": [
      "INFO:tensorflow:Assets written to: ram://af12a1f1-eec7-491e-9610-320a8c49c155/assets\n"
     ]
    }
   ],
   "source": [
    "save_model(fitted_vgg16_multiclass, 'src/models/VGG16_mutlticlass')\n",
    "save_training_history(fitted_vgg16_multiclass, 'src/models/VGG16_multiclass')"
   ]
  },
  {
   "cell_type": "code",
   "execution_count": null,
   "metadata": {},
   "outputs": [],
   "source": [
    "fitted_vgg16_multiclass = load_model('src\\models\\VGG16_multiclass\\saved_model.h5')\n",
    "evaluate_model(fitted_vgg16_multiclass, classification_type='multiclass')"
   ]
  },
  {
   "cell_type": "markdown",
   "metadata": {},
   "source": [
    "**InceptionV3**"
   ]
  },
  {
   "cell_type": "code",
   "execution_count": 6,
   "metadata": {},
   "outputs": [],
   "source": [
    "def multiclass_classification_inceptionv3_model(input_shape=(224, 224, 3), trainable_layers=200, learning_rate=0.0001):\n",
    "    \n",
    "    base_model = InceptionV3(weights='imagenet', include_top=False, input_shape=input_shape)\n",
    "    \n",
    "    # train some layers and freeze others\n",
    "    for layer in base_model.layers[:-trainable_layers]:\n",
    "        layer.trainable = False\n",
    "    for layer in base_model.layers[-trainable_layers:]:\n",
    "        layer.trainable = True\n",
    "\n",
    "    model = Sequential()\n",
    "    \n",
    "    model.add(base_model)\n",
    "    \n",
    "    model.add(GlobalAveragePooling2D())\n",
    "    \n",
    "    model.add(Dense(1024, activation='relu'))\n",
    "    model.add(Dropout(0.2))\n",
    "    \n",
    "    model.add(Dense(8, activation='softmax'))\n",
    "    \n",
    "    # low learning rate for fine tuning\n",
    "    model.compile(optimizer=Adam(learning_rate=learning_rate),\n",
    "                  loss='sparse_categorical_crossentropy',\n",
    "                  metrics=['accuracy'])\n",
    "    \n",
    "    return model"
   ]
  },
  {
   "cell_type": "code",
   "execution_count": 7,
   "metadata": {},
   "outputs": [
    {
     "name": "stdout",
     "output_type": "stream",
     "text": [
      "Loading and preprocessing data...\n",
      "Total training images after augmentation: 33198\n",
      "Class weights computed.\n",
      "Data generators created.\n",
      "WARNING:tensorflow:From c:\\Users\\vic\\miniconda3\\envs\\tf\\lib\\site-packages\\keras\\layers\\normalization\\batch_normalization.py:562: _colocate_with (from tensorflow.python.framework.ops) is deprecated and will be removed in a future version.\n",
      "Instructions for updating:\n",
      "Colocations handled automatically by placer.\n",
      "Epoch 1/40\n",
      "860/860 [==============================] - ETA: 0s - batch: 429.5000 - size: 31.9826 - loss: 0.8121 - accuracy: 0.6382"
     ]
    },
    {
     "name": "stderr",
     "output_type": "stream",
     "text": [
      "c:\\Users\\vic\\miniconda3\\envs\\tf\\lib\\site-packages\\keras\\engine\\training_v1.py:2332: UserWarning: `Model.state_updates` will be removed in a future version. This property should not be used in TensorFlow 2.0, as `updates` are applied automatically.\n",
      "  updates = self.state_updates\n"
     ]
    },
    {
     "name": "stdout",
     "output_type": "stream",
     "text": [
      "860/860 [==============================] - 455s 507ms/step - batch: 429.5000 - size: 31.9826 - loss: 0.8121 - accuracy: 0.6382 - val_loss: 0.5017 - val_accuracy: 0.8196 - lr: 1.0000e-04\n",
      "Epoch 2/40\n",
      "860/860 [==============================] - 461s 521ms/step - batch: 429.5000 - size: 31.9826 - loss: 0.2934 - accuracy: 0.8484 - val_loss: 0.6756 - val_accuracy: 0.7875 - lr: 1.0000e-04\n",
      "Epoch 3/40\n",
      "860/860 [==============================] - 457s 516ms/step - batch: 429.5000 - size: 31.9826 - loss: 0.1834 - accuracy: 0.9025 - val_loss: 0.5954 - val_accuracy: 0.8373 - lr: 1.0000e-04\n",
      "Epoch 4/40\n",
      "860/860 [==============================] - 458s 517ms/step - batch: 429.5000 - size: 31.9826 - loss: 0.1498 - accuracy: 0.9169 - val_loss: 0.5097 - val_accuracy: 0.8491 - lr: 1.0000e-04\n",
      "Epoch 5/40\n",
      "860/860 [==============================] - 458s 517ms/step - batch: 429.5000 - size: 31.9826 - loss: 0.0754 - accuracy: 0.9501 - val_loss: 0.3517 - val_accuracy: 0.8988 - lr: 1.0000e-05\n",
      "Epoch 6/40\n",
      "860/860 [==============================] - 465s 525ms/step - batch: 429.5000 - size: 31.9826 - loss: 0.0535 - accuracy: 0.9626 - val_loss: 0.3448 - val_accuracy: 0.9047 - lr: 1.0000e-05\n",
      "Epoch 7/40\n",
      "860/860 [==============================] - 463s 520ms/step - batch: 429.5000 - size: 31.9826 - loss: 0.0455 - accuracy: 0.9688 - val_loss: 0.3933 - val_accuracy: 0.9039 - lr: 1.0000e-05\n",
      "Epoch 8/40\n",
      "860/860 [==============================] - 466s 524ms/step - batch: 429.5000 - size: 31.9826 - loss: 0.0415 - accuracy: 0.9682 - val_loss: 0.3394 - val_accuracy: 0.9047 - lr: 1.0000e-05\n",
      "Epoch 9/40\n",
      "860/860 [==============================] - 455s 510ms/step - batch: 429.5000 - size: 31.9826 - loss: 0.0395 - accuracy: 0.9716 - val_loss: 0.3622 - val_accuracy: 0.8980 - lr: 1.0000e-05\n",
      "Epoch 10/40\n",
      "860/860 [==============================] - 469s 526ms/step - batch: 429.5000 - size: 31.9860 - loss: 0.0354 - accuracy: 0.9739 - val_loss: 0.3496 - val_accuracy: 0.9089 - lr: 1.0000e-05\n",
      "Epoch 11/40\n",
      "860/860 [==============================] - 463s 518ms/step - batch: 429.5000 - size: 31.9791 - loss: 0.0313 - accuracy: 0.9761 - val_loss: 0.3634 - val_accuracy: 0.9013 - lr: 1.0000e-05\n",
      "Epoch 12/40\n",
      "860/860 [==============================] - 464s 517ms/step - batch: 429.5000 - size: 31.9826 - loss: 0.0296 - accuracy: 0.9769 - val_loss: 0.3670 - val_accuracy: 0.9030 - lr: 1.0000e-06\n",
      "Epoch 13/40\n",
      "860/860 [==============================] - 464s 517ms/step - batch: 429.5000 - size: 31.9826 - loss: 0.0290 - accuracy: 0.9775 - val_loss: 0.3567 - val_accuracy: 0.9064 - lr: 1.0000e-06\n",
      "Epoch 14/40\n",
      "860/860 [==============================] - 476s 531ms/step - batch: 429.5000 - size: 31.9826 - loss: 0.0278 - accuracy: 0.9787 - val_loss: 0.3607 - val_accuracy: 0.9064 - lr: 1.0000e-06\n",
      "Epoch 15/40\n",
      "860/860 [==============================] - 473s 526ms/step - batch: 429.5000 - size: 31.9860 - loss: 0.0291 - accuracy: 0.9783 - val_loss: 0.3636 - val_accuracy: 0.9047 - lr: 1.0000e-07\n",
      "Epoch 16/40\n",
      "860/860 [==============================] - 474s 527ms/step - batch: 429.5000 - size: 31.9791 - loss: 0.0268 - accuracy: 0.9793 - val_loss: 0.3601 - val_accuracy: 0.9064 - lr: 1.0000e-07\n",
      "Epoch 17/40\n",
      "860/860 [==============================] - 475s 527ms/step - batch: 429.5000 - size: 31.9826 - loss: 0.0263 - accuracy: 0.9786 - val_loss: 0.3568 - val_accuracy: 0.9073 - lr: 1.0000e-07\n",
      "Epoch 18/40\n",
      "860/860 [==============================] - 479s 532ms/step - batch: 429.5000 - size: 31.9860 - loss: 0.0266 - accuracy: 0.9781 - val_loss: 0.3580 - val_accuracy: 0.9089 - lr: 1.0000e-07\n"
     ]
    }
   ],
   "source": [
    "train_gen, val_gen, test_gen, class_weights, steps_per_epoch = preproc_pipeline(image_resolution=(224, 224), \n",
    "                                                    classification_type='multiclass',\n",
    "                                                    use_data_augmentation=True,\n",
    "                                                    augmented_images_per_image=5,\n",
    "                                                    batch_size=32)\n",
    "                                                    \n",
    "inceptionv3_multiclass = multiclass_classification_inceptionv3_model()\n",
    "\n",
    "reduce_lr = ReduceLROnPlateau(monitor='val_loss', factor=0.1, patience=3, min_lr=1e-7)\n",
    "early_stopping = EarlyStopping(monitor='val_loss', patience=10, restore_best_weights=True)\n",
    "callbacks = [reduce_lr, early_stopping]\n",
    "\n",
    "fitted_inceptionv3_multiclass = train_model(train_gen, val_gen, inceptionv3_multiclass, callbacks=callbacks, class_weights=class_weights, epochs=40, steps_per_epoch=steps_per_epoch)"
   ]
  }
 ],
 "metadata": {
  "kernelspec": {
   "display_name": "universidade",
   "language": "python",
   "name": "python3"
  },
  "language_info": {
   "codemirror_mode": {
    "name": "ipython",
    "version": 3
   },
   "file_extension": ".py",
   "mimetype": "text/x-python",
   "name": "python",
   "nbconvert_exporter": "python",
   "pygments_lexer": "ipython3",
   "version": "3.9.18"
  }
 },
 "nbformat": 4,
 "nbformat_minor": 2
}
