{
 "cells": [
  {
   "cell_type": "code",
   "execution_count": 38,
   "metadata": {},
   "outputs": [
    {
     "name": "stdout",
     "output_type": "stream",
     "text": [
      "The autoreload extension is already loaded. To reload it, use:\n",
      "  %reload_ext autoreload\n"
     ]
    }
   ],
   "source": [
    "%load_ext autoreload\n",
    "%autoreload 2\n",
    "\n",
    "import numpy as np\n",
    "import pandas as pd\n",
    "import os\n",
    "\n",
    "import matplotlib.pyplot as plt\n",
    "from PIL import Image"
   ]
  },
  {
   "cell_type": "code",
   "execution_count": 39,
   "metadata": {},
   "outputs": [],
   "source": [
    "def fix_csv(metadata):\n",
    "    \"\"\"\n",
    "    Fix the paths in the metadata CSV by replacing incorrect parts of the path\n",
    "    \n",
    "    Removes NaN rows in the metadata CSV.\n",
    "    \"\"\"\n",
    "    metadata.dropna(inplace=True) # remove missing values\n",
    "\n",
    "    # Replace the incorrect directory name with the correct one\n",
    "    metadata['path_to_image'] = metadata['path_to_image'].apply(\n",
    "        lambda x: x.replace('BreaKHis_v1/', 'BreaKHis_v1 2/')\n",
    "    )\n",
    "    \n",
    "    return metadata"
   ]
  },
  {
   "cell_type": "code",
   "execution_count": 40,
   "metadata": {},
   "outputs": [],
   "source": [
    "# DEFINE DIRECTORY PATH FOR DATASET (\\DeepLearning24_25\\)\n",
    "# ---------------------------------\n",
    "source_directory = r\"D:\\DeepLearning24_25\"\n",
    "# ---------------------------------\n",
    "path_img_metadata = os.path.join(source_directory, 'BreaKHis_v1 2/histology_slides/breast/image_data.csv')\n",
    "img_metadata_df = pd.read_csv(path_img_metadata)"
   ]
  },
  {
   "cell_type": "code",
   "execution_count": 41,
   "metadata": {},
   "outputs": [
    {
     "data": {
      "text/plain": [
       "path_to_image          0\n",
       "Benign or Malignant    3\n",
       "Cancer Type            4\n",
       "Magnification          4\n",
       "dtype: int64"
      ]
     },
     "execution_count": 41,
     "metadata": {},
     "output_type": "execute_result"
    }
   ],
   "source": [
    "img_metadata_df.isnull().sum()"
   ]
  },
  {
   "cell_type": "code",
   "execution_count": 81,
   "metadata": {},
   "outputs": [
    {
     "data": {
      "text/html": [
       "<div>\n",
       "<style scoped>\n",
       "    .dataframe tbody tr th:only-of-type {\n",
       "        vertical-align: middle;\n",
       "    }\n",
       "\n",
       "    .dataframe tbody tr th {\n",
       "        vertical-align: top;\n",
       "    }\n",
       "\n",
       "    .dataframe thead th {\n",
       "        text-align: right;\n",
       "    }\n",
       "</style>\n",
       "<table border=\"1\" class=\"dataframe\">\n",
       "  <thead>\n",
       "    <tr style=\"text-align: right;\">\n",
       "      <th></th>\n",
       "      <th>path_to_image</th>\n",
       "      <th>Benign or Malignant</th>\n",
       "      <th>Cancer Type</th>\n",
       "      <th>Magnification</th>\n",
       "    </tr>\n",
       "  </thead>\n",
       "  <tbody>\n",
       "    <tr>\n",
       "      <th>0</th>\n",
       "      <td>BreaKHis_v1 2/histology_slides/breast/benign/S...</td>\n",
       "      <td>Benign</td>\n",
       "      <td>Adenosis</td>\n",
       "      <td>100X</td>\n",
       "    </tr>\n",
       "    <tr>\n",
       "      <th>1</th>\n",
       "      <td>BreaKHis_v1 2/histology_slides/breast/benign/S...</td>\n",
       "      <td>Benign</td>\n",
       "      <td>Adenosis</td>\n",
       "      <td>100X</td>\n",
       "    </tr>\n",
       "    <tr>\n",
       "      <th>2</th>\n",
       "      <td>BreaKHis_v1 2/histology_slides/breast/benign/S...</td>\n",
       "      <td>Benign</td>\n",
       "      <td>Adenosis</td>\n",
       "      <td>100X</td>\n",
       "    </tr>\n",
       "  </tbody>\n",
       "</table>\n",
       "</div>"
      ],
      "text/plain": [
       "                                       path_to_image Benign or Malignant  \\\n",
       "0  BreaKHis_v1 2/histology_slides/breast/benign/S...              Benign   \n",
       "1  BreaKHis_v1 2/histology_slides/breast/benign/S...              Benign   \n",
       "2  BreaKHis_v1 2/histology_slides/breast/benign/S...              Benign   \n",
       "\n",
       "  Cancer Type Magnification  \n",
       "0    Adenosis          100X  \n",
       "1    Adenosis          100X  \n",
       "2    Adenosis          100X  "
      ]
     },
     "execution_count": 81,
     "metadata": {},
     "output_type": "execute_result"
    }
   ],
   "source": [
    "img_metadata_df = fix_csv(img_metadata_df)\n",
    "img_metadata_df.head(3)"
   ]
  },
  {
   "cell_type": "code",
   "execution_count": 82,
   "metadata": {},
   "outputs": [
    {
     "data": {
      "text/plain": [
       "path_to_image          0\n",
       "Benign or Malignant    0\n",
       "Cancer Type            0\n",
       "Magnification          0\n",
       "dtype: int64"
      ]
     },
     "execution_count": 82,
     "metadata": {},
     "output_type": "execute_result"
    }
   ],
   "source": [
    "img_metadata_df.isnull().sum()"
   ]
  },
  {
   "cell_type": "code",
   "execution_count": 103,
   "metadata": {},
   "outputs": [
    {
     "data": {
      "text/html": [
       "<div>\n",
       "<style scoped>\n",
       "    .dataframe tbody tr th:only-of-type {\n",
       "        vertical-align: middle;\n",
       "    }\n",
       "\n",
       "    .dataframe tbody tr th {\n",
       "        vertical-align: top;\n",
       "    }\n",
       "\n",
       "    .dataframe thead th {\n",
       "        text-align: right;\n",
       "    }\n",
       "</style>\n",
       "<table border=\"1\" class=\"dataframe\">\n",
       "  <thead>\n",
       "    <tr style=\"text-align: right;\">\n",
       "      <th></th>\n",
       "      <th>path_to_image</th>\n",
       "      <th>Benign or Malignant</th>\n",
       "      <th>Cancer Type</th>\n",
       "      <th>Magnification</th>\n",
       "    </tr>\n",
       "  </thead>\n",
       "  <tbody>\n",
       "    <tr>\n",
       "      <th>0</th>\n",
       "      <td>data\\100X\\Train\\SOB_B_A-14-22549AB-100-011.png</td>\n",
       "      <td>Benign</td>\n",
       "      <td>Adenosis</td>\n",
       "      <td>100X</td>\n",
       "    </tr>\n",
       "    <tr>\n",
       "      <th>1</th>\n",
       "      <td>data\\100X\\Test\\SOB_B_A-14-22549AB-100-005.png</td>\n",
       "      <td>Benign</td>\n",
       "      <td>Adenosis</td>\n",
       "      <td>100X</td>\n",
       "    </tr>\n",
       "    <tr>\n",
       "      <th>2</th>\n",
       "      <td>data\\100X\\Test\\SOB_B_A-14-22549AB-100-004.png</td>\n",
       "      <td>Benign</td>\n",
       "      <td>Adenosis</td>\n",
       "      <td>100X</td>\n",
       "    </tr>\n",
       "  </tbody>\n",
       "</table>\n",
       "</div>"
      ],
      "text/plain": [
       "                                    path_to_image Benign or Malignant  \\\n",
       "0  data\\100X\\Train\\SOB_B_A-14-22549AB-100-011.png              Benign   \n",
       "1   data\\100X\\Test\\SOB_B_A-14-22549AB-100-005.png              Benign   \n",
       "2   data\\100X\\Test\\SOB_B_A-14-22549AB-100-004.png              Benign   \n",
       "\n",
       "  Cancer Type Magnification  \n",
       "0    Adenosis          100X  \n",
       "1    Adenosis          100X  \n",
       "2    Adenosis          100X  "
      ]
     },
     "execution_count": 103,
     "metadata": {},
     "output_type": "execute_result"
    }
   ],
   "source": [
    "def update_image_paths(metadata):\n",
    "    metadata['image_name'] = metadata['path_to_image'].apply(lambda x: x.split('/')[-1])\n",
    "    metadata['image_location'] = metadata.apply(\n",
    "        lambda row: 'Train' if os.path.exists(os.path.join('data', row['Magnification'], 'train', row['image_name']))\n",
    "        else 'Test' if os.path.exists(os.path.join('data', row['Magnification'], 'test', row['image_name']))\n",
    "        else 'Val' if os.path.exists(os.path.join('data', row['Magnification'], 'val', row['image_name']))\n",
    "        else 'Not_Found',\n",
    "        axis=1\n",
    "    )\n",
    "    metadata['path_to_image'] = metadata.apply(\n",
    "        lambda row: os.path.join('data', row['Magnification'], row['image_location'], row['image_name']),\n",
    "        axis=1\n",
    "    )\n",
    "    metadata.drop(columns=['image_name', 'image_location'], inplace=True)\n",
    "    return metadata\n",
    "\n",
    "img_metadata_df = update_image_paths(img_metadata_df)\n",
    "img_metadata_df.head(3)"
   ]
  },
  {
   "cell_type": "code",
   "execution_count": 84,
   "metadata": {},
   "outputs": [
    {
     "data": {
      "text/html": [
       "<div>\n",
       "<style scoped>\n",
       "    .dataframe tbody tr th:only-of-type {\n",
       "        vertical-align: middle;\n",
       "    }\n",
       "\n",
       "    .dataframe tbody tr th {\n",
       "        vertical-align: top;\n",
       "    }\n",
       "\n",
       "    .dataframe thead th {\n",
       "        text-align: right;\n",
       "    }\n",
       "</style>\n",
       "<table border=\"1\" class=\"dataframe\">\n",
       "  <thead>\n",
       "    <tr style=\"text-align: right;\">\n",
       "      <th></th>\n",
       "      <th>Magnification</th>\n",
       "      <th>40X</th>\n",
       "      <th>100X</th>\n",
       "      <th>200X</th>\n",
       "      <th>400X</th>\n",
       "      <th>Total</th>\n",
       "    </tr>\n",
       "    <tr>\n",
       "      <th>Benign or Malignant</th>\n",
       "      <th>Cancer Type</th>\n",
       "      <th></th>\n",
       "      <th></th>\n",
       "      <th></th>\n",
       "      <th></th>\n",
       "      <th></th>\n",
       "    </tr>\n",
       "  </thead>\n",
       "  <tbody>\n",
       "    <tr>\n",
       "      <th rowspan=\"4\" valign=\"top\">Benign</th>\n",
       "      <th>Adenosis</th>\n",
       "      <td>114</td>\n",
       "      <td>113</td>\n",
       "      <td>111</td>\n",
       "      <td>106</td>\n",
       "      <td>444</td>\n",
       "    </tr>\n",
       "    <tr>\n",
       "      <th>Fibroadenoma</th>\n",
       "      <td>253</td>\n",
       "      <td>260</td>\n",
       "      <td>264</td>\n",
       "      <td>237</td>\n",
       "      <td>1014</td>\n",
       "    </tr>\n",
       "    <tr>\n",
       "      <th>Phyllodes Tumor</th>\n",
       "      <td>109</td>\n",
       "      <td>121</td>\n",
       "      <td>108</td>\n",
       "      <td>115</td>\n",
       "      <td>453</td>\n",
       "    </tr>\n",
       "    <tr>\n",
       "      <th>Tubular Adenoma</th>\n",
       "      <td>149</td>\n",
       "      <td>150</td>\n",
       "      <td>140</td>\n",
       "      <td>130</td>\n",
       "      <td>569</td>\n",
       "    </tr>\n",
       "    <tr>\n",
       "      <th rowspan=\"4\" valign=\"top\">Malignant</th>\n",
       "      <th>Ductal Carcinoma</th>\n",
       "      <td>863</td>\n",
       "      <td>903</td>\n",
       "      <td>896</td>\n",
       "      <td>788</td>\n",
       "      <td>3450</td>\n",
       "    </tr>\n",
       "    <tr>\n",
       "      <th>Lobular Carcinoma</th>\n",
       "      <td>156</td>\n",
       "      <td>170</td>\n",
       "      <td>163</td>\n",
       "      <td>137</td>\n",
       "      <td>626</td>\n",
       "    </tr>\n",
       "    <tr>\n",
       "      <th>Mucinous Carcinoma</th>\n",
       "      <td>205</td>\n",
       "      <td>221</td>\n",
       "      <td>195</td>\n",
       "      <td>168</td>\n",
       "      <td>789</td>\n",
       "    </tr>\n",
       "    <tr>\n",
       "      <th>Papillary Carcinoma</th>\n",
       "      <td>145</td>\n",
       "      <td>142</td>\n",
       "      <td>135</td>\n",
       "      <td>138</td>\n",
       "      <td>560</td>\n",
       "    </tr>\n",
       "    <tr>\n",
       "      <th>Total</th>\n",
       "      <th></th>\n",
       "      <td>1994</td>\n",
       "      <td>2080</td>\n",
       "      <td>2012</td>\n",
       "      <td>1819</td>\n",
       "      <td>7905</td>\n",
       "    </tr>\n",
       "  </tbody>\n",
       "</table>\n",
       "</div>"
      ],
      "text/plain": [
       "Magnification                             40X  100X  200X  400X  Total\n",
       "Benign or Malignant Cancer Type                                       \n",
       "Benign              Adenosis              114   113   111   106    444\n",
       "                    Fibroadenoma          253   260   264   237   1014\n",
       "                    Phyllodes Tumor       109   121   108   115    453\n",
       "                    Tubular Adenoma       149   150   140   130    569\n",
       "Malignant           Ductal Carcinoma      863   903   896   788   3450\n",
       "                    Lobular Carcinoma     156   170   163   137    626\n",
       "                    Mucinous Carcinoma    205   221   195   168    789\n",
       "                    Papillary Carcinoma   145   142   135   138    560\n",
       "Total                                    1994  2080  2012  1819   7905"
      ]
     },
     "execution_count": 84,
     "metadata": {},
     "output_type": "execute_result"
    }
   ],
   "source": [
    "grouped = img_metadata_df.groupby(\n",
    "    ['Benign or Malignant', 'Cancer Type', 'Magnification']\n",
    ").size().reset_index(name='Count')\n",
    "\n",
    "# Align magnification levels as columns under each subclass\n",
    "pivot_table = grouped.pivot_table(\n",
    "    index=['Benign or Malignant', 'Cancer Type'],\n",
    "    columns='Magnification',\n",
    "    values='Count',\n",
    "    aggfunc='sum',\n",
    "    fill_value=0\n",
    ")\n",
    "\n",
    "# Reorder magnification columns as in the image\n",
    "magnification_order = ['40X', '100X', '200X', '400X']\n",
    "pivot_table = pivot_table.reindex(columns=magnification_order, fill_value=0)\n",
    "\n",
    "pivot_table['Total'] = pivot_table.sum(axis=1)\n",
    "\n",
    "column_totals = pivot_table.sum(axis=0)\n",
    "pivot_table.loc[('Total', ''), :] = column_totals\n",
    "\n",
    "pivot_table = pivot_table.astype(int)\n",
    "pivot_table"
   ]
  },
  {
   "cell_type": "code",
   "execution_count": 91,
   "metadata": {},
   "outputs": [
    {
     "data": {
      "text/html": [
       "<div>\n",
       "<style scoped>\n",
       "    .dataframe tbody tr th:only-of-type {\n",
       "        vertical-align: middle;\n",
       "    }\n",
       "\n",
       "    .dataframe tbody tr th {\n",
       "        vertical-align: top;\n",
       "    }\n",
       "\n",
       "    .dataframe thead th {\n",
       "        text-align: right;\n",
       "    }\n",
       "</style>\n",
       "<table border=\"1\" class=\"dataframe\">\n",
       "  <thead>\n",
       "    <tr style=\"text-align: right;\">\n",
       "      <th>Benign or Malignant</th>\n",
       "      <th>Benign</th>\n",
       "      <th>Malignant</th>\n",
       "      <th>Total</th>\n",
       "    </tr>\n",
       "    <tr>\n",
       "      <th>Magnification</th>\n",
       "      <th></th>\n",
       "      <th></th>\n",
       "      <th></th>\n",
       "    </tr>\n",
       "  </thead>\n",
       "  <tbody>\n",
       "    <tr>\n",
       "      <th>100X</th>\n",
       "      <td>644</td>\n",
       "      <td>1436</td>\n",
       "      <td>2080</td>\n",
       "    </tr>\n",
       "    <tr>\n",
       "      <th>200X</th>\n",
       "      <td>623</td>\n",
       "      <td>1389</td>\n",
       "      <td>2012</td>\n",
       "    </tr>\n",
       "    <tr>\n",
       "      <th>400X</th>\n",
       "      <td>588</td>\n",
       "      <td>1231</td>\n",
       "      <td>1819</td>\n",
       "    </tr>\n",
       "    <tr>\n",
       "      <th>40X</th>\n",
       "      <td>625</td>\n",
       "      <td>1369</td>\n",
       "      <td>1994</td>\n",
       "    </tr>\n",
       "    <tr>\n",
       "      <th>Total</th>\n",
       "      <td>2480</td>\n",
       "      <td>5425</td>\n",
       "      <td>7905</td>\n",
       "    </tr>\n",
       "  </tbody>\n",
       "</table>\n",
       "</div>"
      ],
      "text/plain": [
       "Benign or Malignant  Benign  Malignant  Total\n",
       "Magnification                                \n",
       "100X                    644       1436   2080\n",
       "200X                    623       1389   2012\n",
       "400X                    588       1231   1819\n",
       "40X                     625       1369   1994\n",
       "Total                  2480       5425   7905"
      ]
     },
     "execution_count": 91,
     "metadata": {},
     "output_type": "execute_result"
    }
   ],
   "source": [
    "grouped = img_metadata_df.groupby(['Magnification', 'Benign or Malignant']).size().unstack(fill_value=0)\n",
    "\n",
    "grouped['Total'] = grouped.sum(axis=1)\n",
    "\n",
    "column_totals = grouped.sum(axis=0)\n",
    "grouped.loc['Total'] = column_totals\n",
    "\n",
    "grouped.reset_index().rename(columns={'index': 'Magnification'})\n",
    "\n",
    "grouped"
   ]
  },
  {
   "cell_type": "markdown",
   "metadata": {},
   "source": [
    "**IMPORTANT:** run `setup_data.py`"
   ]
  },
  {
   "cell_type": "code",
   "execution_count": 87,
   "metadata": {},
   "outputs": [
    {
     "data": {
      "image/png": "[encoded data removed]",
      "text/plain": [
       "<Figure size 800x400 with 1 Axes>"
      ]
     },
     "metadata": {},
     "output_type": "display_data"
    }
   ],
   "source": [
    "class_counts = img_metadata_df['Benign or Malignant'].value_counts()\n",
    "class_counts.plot(kind='pie', figsize=(8, 4), autopct='%1.1f%%', labels=[f'{label} ({count})' for label, count in zip(class_counts.index, class_counts)])\n",
    "plt.ylabel('')\n",
    "plt.title('Distribution of Benign and Malignant Cases')\n",
    "plt.show()"
   ]
  },
  {
   "cell_type": "code",
   "execution_count": 88,
   "metadata": {},
   "outputs": [
    {
     "data": {
      "image/png": "[encoded data removed]",
      "text/plain": [
       "<Figure size 800x400 with 1 Axes>"
      ]
     },
     "metadata": {},
     "output_type": "display_data"
    }
   ],
   "source": [
    "cancer_type_counts = img_metadata_df['Cancer Type'].value_counts()\n",
    "cancer_type_counts.plot(kind='pie', figsize=(8, 4), autopct='%1.1f%%', labels=[f'{label} ({count})' for label, count in zip(cancer_type_counts.index, cancer_type_counts)])\n",
    "plt.ylabel('')\n",
    "plt.title('Distribution of Cancer Types')\n",
    "plt.show()"
   ]
  },
  {
   "cell_type": "code",
   "execution_count": 105,
   "metadata": {},
   "outputs": [
    {
     "name": "stdout",
     "output_type": "stream",
     "text": [
      "\n",
      "Image Resolutions:\n",
      "         width       height\n",
      "count  7905.0  7905.000000\n",
      "mean    700.0   459.962555\n",
      "std       0.0     0.385221\n",
      "min     700.0   456.000000\n",
      "25%     700.0   460.000000\n",
      "50%     700.0   460.000000\n",
      "75%     700.0   460.000000\n",
      "max     700.0   460.000000\n"
     ]
    }
   ],
   "source": [
    "def check_image_resolutions(metadata):\n",
    "    resolutions = []\n",
    "    for idx, row in metadata.iterrows():\n",
    "        try:\n",
    "            with Image.open(row['path_to_image']) as img:\n",
    "                resolutions.append(img.size)\n",
    "        except Exception as e:\n",
    "            print(f\"Error loading image {row['path_to_image']}: {e}\")\n",
    "    return resolutions\n",
    "\n",
    "resolutions = check_image_resolutions(img_metadata_df)\n",
    "resolutions_df = pd.DataFrame(resolutions, columns=['width', 'height'])\n",
    "print(\"\\nImage Resolutions:\\n\", resolutions_df.describe())"
   ]
  },
  {
   "cell_type": "code",
   "execution_count": null,
   "metadata": {},
   "outputs": [],
   "source": []
  }
 ],
 "metadata": {
  "kernelspec": {
   "display_name": "Python 3",
   "language": "python",
   "name": "python3"
  },
  "language_info": {
   "codemirror_mode": {
    "name": "ipython",
    "version": 3
   },
   "file_extension": ".py",
   "mimetype": "text/x-python",
   "name": "python",
   "nbconvert_exporter": "python",
   "pygments_lexer": "ipython3",
   "version": "3.10.0"
  }
 },
 "nbformat": 4,
 "nbformat_minor": 2
}
